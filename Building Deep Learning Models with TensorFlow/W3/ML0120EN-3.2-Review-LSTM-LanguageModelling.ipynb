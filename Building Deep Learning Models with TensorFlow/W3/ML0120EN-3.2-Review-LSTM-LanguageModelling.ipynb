{
 "cells": [
  {
   "cell_type": "markdown",
   "metadata": {},
   "source": [
    "<img src=\"https://cf-courses-data.s3.us.cloud-object-storage.appdomain.cloud/IBMDeveloperSkillsNetwork-DL0120EN-SkillsNetwork/images/IDSN-logo.png\" width=\"300\" alt=\"cognitiveclass.ai logo\">\n",
    "\n",
    "<h1 align=\"center\"><font size=\"5\">RECURRENT NETWORKS and LSTM IN DEEP LEARNING</font></h1>\n"
   ]
  },
  {
   "cell_type": "markdown",
   "metadata": {},
   "source": [
    "Estimated time needed: **30** minutes\n"
   ]
  },
  {
   "cell_type": "markdown",
   "metadata": {},
   "source": [
    "<h2>Applying Recurrent Neural Networks/LSTM for Language Modeling</h2>\n",
    "Hello and welcome to this part. In this notebook, we will go over the topic of Language Modelling, and create a Recurrent Neural Network model based on the Long Short-Term Memory unit to train and benchmark on the Penn Treebank dataset. By the end of this notebook, you should be able to understand how TensorFlow builds and executes a RNN model for Language Modelling.\n"
   ]
  },
  {
   "cell_type": "markdown",
   "metadata": {},
   "source": [
    "<h2>The Objective</h2>\n",
    "By now, you should have an understanding of how Recurrent Networks work -- a specialized model to process sequential data by keeping track of the \"state\" or context. In this notebook, we go over a TensorFlow code snippet for creating a model focused on <b>Language Modelling</b> -- a very relevant task that is the cornerstone of many different linguistic problems such as <b>Speech Recognition, Machine Translation and Image Captioning</b>. For this, we will be using the Penn Treebank dataset, which is an often-used dataset for benchmarking Language Modelling models.\n"
   ]
  },
  {
   "cell_type": "markdown",
   "metadata": {},
   "source": [
    "\n",
    "<h2>Table of Contents</h2>\n",
    "<ol>\n",
    "    <li><a href=\"#language_modelling\">What exactly is Language Modelling?</a></li>\n",
    "    <li><a href=\"#treebank_dataset\">The Penn Treebank dataset</a></li>\n",
    "    <li><a href=\"#word_embedding\">Word Embedding</a></li>\n",
    "    <li><a href=\"#building_lstm_model\">Building the LSTM model for Language Modeling</a></li>\n",
    "    <li><a href=\"#ltsm\">LTSM</a></li>\n",
    "</ol>\n",
    "<p></p>\n",
    "</div>\n",
    "<br>\n"
   ]
  },
  {
   "cell_type": "markdown",
   "metadata": {},
   "source": [
    "--------\n"
   ]
  },
  {
   "cell_type": "markdown",
   "metadata": {},
   "source": [
    "<a id=\"language_modelling\"></a>\n",
    "<h2>What exactly is Language Modelling?</h2>\n",
    "Language Modelling, to put it simply, <b>is the task of assigning probabilities to sequences of words</b>. This means that, given a context of one or a sequence of words in the language the model was trained on, the model should provide the next most probable words or sequence of words that follows from the given sequence of words the sentence. Language Modelling is one of the most important tasks in Natural Language Processing.\n",
    "\n",
    "<img src=\"https://ibm.box.com/shared/static/1d1i5gub6wljby2vani2vzxp0xsph702.png\" width=\"1080\">\n",
    "<center><i>Example of a sentence being predicted</i></center>\n",
    "<br><br>\n",
    "In this example, one can see the predictions for the next word of a sentence, given the context \"This is an\". As you can see, this boils down to a sequential data analysis task -- you are given a word or a sequence of words (the input data), and, given the context (the state), you need to find out what is the next word (the prediction). This kind of analysis is very important for language-related tasks such as <b>Speech Recognition, Machine Translation, Image Captioning, Text Correction</b> and many other very relevant problems. \n",
    "\n",
    "<img src=\"https://ibm.box.com/shared/static/az39idf9ipfdpc5ugifpgxnydelhyf3i.png\" width=\"1080\">\n",
    "<center><i>The above example is a schema of an RNN in execution</i></center>\n",
    "<br><br>\n",
    "As the above image shows, Recurrent Network models fit this problem like a glove. Alongside LSTM and its capacity to maintain the model's state for over one thousand time steps, we have all the tools we need to undertake this problem. The goal for this notebook is to create a model that can reach <b>low levels of perplexity</b> on our desired dataset.\n",
    "\n",
    "For Language Modelling problems, <b>perplexity</b> is the way to gauge efficiency. Perplexity is simply a measure of how well a probabilistic model is able to predict its sample. A higher-level way to explain this would be saying that <b>low perplexity means a higher degree of trust in the predictions the model makes</b>. Therefore, the lower perplexity is, the better.\n"
   ]
  },
  {
   "cell_type": "markdown",
   "metadata": {},
   "source": [
    "<a id=\"treebank_dataset\"></a>\n",
    "<h2>The Penn Treebank dataset</h2>\n",
    "Historically, datasets big enough for Natural Language Processing are hard to come by. This is in part due to the necessity of the sentences to be broken down and tagged with a certain degree of correctness -- or else the models trained on it won't be able to be correct at all. This means that we need a <b>large amount of data, annotated by or at least corrected by humans</b>. This is, of course, not an easy task at all.\n",
    "\n",
    "The Penn Treebank, or PTB for short, is a dataset maintained by the University of Pennsylvania. It is <i>huge</i> -- there are over <b>four million and eight hundred thousand</b> annotated words in it, all corrected by humans. It is composed of many different sources, from abstracts of Department of Energy papers to texts from the Library of America. Since it is verifiably correct and of such a huge size, the Penn Treebank is commonly used as a benchmark dataset for Language Modelling.\n",
    "\n",
    "The dataset is divided in different kinds of annotations, such as Piece-of-Speech, Syntactic and Semantic skeletons. For this example, we will simply use a sample of clean, non-annotated words (with the exception of one tag --<code>&lt;unk&gt;</code>\n",
    ", which is used for rare words such as uncommon proper nouns) for our model. This means that we just want to predict what the next words would be, not what they mean in context or their classes on a given sentence.\n",
    "\n",
    "<center>Example of text from the dataset we are going to use, <b>ptb.train</b></center>\n",
    "<br><br>\n",
    "\n",
    "<div class=\"alert alert-block alert-info\" style=\"margin-top: 20px\">\n",
    "    <center>the percentage of lung cancer deaths among the workers at the west <code>&lt;unk&gt;</code> mass. paper factory appears to be the highest for any asbestos workers studied in western industrialized countries he said \n",
    " the plant which is owned by <code>&lt;unk&gt;</code> & <code>&lt;unk&gt;</code> co. was under contract with <code>&lt;unk&gt;</code> to make the cigarette filters \n",
    " the finding probably will support those who argue that the U.S. should regulate the class of asbestos including <code>&lt;unk&gt;</code> more <code>&lt;unk&gt;</code> than the common kind of asbestos <code>&lt;unk&gt;</code> found in most schools and other buildings dr. <code>&lt;unk&gt;</code> said</center>\n",
    "</div>\n"
   ]
  },
  {
   "cell_type": "markdown",
   "metadata": {},
   "source": [
    "<a id=\"word_embedding\"></a>\n",
    "<h2>Word Embeddings</h2><br/>\n",
    "\n",
    "For better processing, in this example, we will make use of <a href=\"https://www.tensorflow.org/tutorials/word2vec/?utm_medium=Exinfluencer&utm_source=Exinfluencer&utm_content=000026UJ&utm_term=10006555&utm_id=NA-SkillsNetwork-Channel-SkillsNetworkCoursesIBMDeveloperSkillsNetworkDL0120ENSkillsNetwork954-2023-01-01\"><b>word embeddings</b></a>, which is <b>a way of representing sentence structures or words as n-dimensional vectors (where n is a reasonably high number, such as 200 or 500) of real numbers</b>. Basically, we will assign each word a randomly-initialized vector, and input those into the network to be processed. After a number of iterations, these vectors are expected to assume values that help the network to correctly predict what it needs to -- in our case, the probable next word in the sentence. This is shown to be a very effective task in Natural Language Processing, and is a commonplace practice.\n",
    "<br><br>\n",
    "<font size=\"4\"><strong>\n",
    "$$Vec(\"Example\") = [0.02, 0.00, 0.00, 0.92, 0.30, \\ldots]$$\n",
    "</strong></font>\n",
    "<br>\n",
    "Word Embedding tends to group up similarly used words <i>reasonably</i> close together in the vectorial space. For example, if we use T-SNE (a dimensional reduction visualization algorithm) to flatten the dimensions of our vectors into a 2-dimensional space and plot these words in a 2-dimensional space, we might see something like this:\n",
    "\n",
    "<img src=\"https://ibm.box.com/shared/static/bqhc5dg879gcoabzhxra1w8rkg3od1cu.png\" width=\"800\">\n",
    "<center><i>T-SNE Mockup with clusters marked for easier visualization</i></center>\n",
    "<br><br>\n",
    "As you can see, words that are frequently used together, in place of each other, or in the same places as them tend to be grouped together -- being closer together the higher they are correlated. For example, \"None\" is pretty semantically close to \"Zero\", while a phrase that uses \"Italy\", you could probably also fit \"Germany\" in it, with little damage to the sentence structure. The vectorial \"closeness\" for similar words like this is a great indicator of a well-built model.\n",
    "\n",
    "<hr>\n",
    " \n"
   ]
  },
  {
   "cell_type": "markdown",
   "metadata": {},
   "source": [
    "We need to import the necessary modules for our code. We need <b><code>numpy</code></b> and <b><code>tensorflow</code></b>, obviously. Additionally, we can import directly the <b><code>tensorflow.models.rnn</code></b> model, which includes the function for building RNNs, and <b><code>tensorflow.models.rnn.ptb.reader</code></b> which is the helper module for getting the input data from the dataset we just downloaded.\n",
    "\n",
    "If you want to learn more take a look at https://github.com/tensorflow/models/blob/master/tutorials/rnn/ptb/reader.py\n"
   ]
  },
  {
   "cell_type": "code",
   "execution_count": 1,
   "metadata": {},
   "outputs": [
    {
     "name": "stdout",
     "output_type": "stream",
     "text": [
      "Requirement already satisfied: tensorflow==2.9.0 in /home/jupyterlab/conda/envs/python/lib/python3.7/site-packages (2.9.0)\n",
      "Requirement already satisfied: absl-py>=1.0.0 in /home/jupyterlab/conda/envs/python/lib/python3.7/site-packages (from tensorflow==2.9.0) (1.4.0)\n",
      "Requirement already satisfied: astunparse>=1.6.0 in /home/jupyterlab/conda/envs/python/lib/python3.7/site-packages (from tensorflow==2.9.0) (1.6.3)\n",
      "Requirement already satisfied: flatbuffers<2,>=1.12 in /home/jupyterlab/conda/envs/python/lib/python3.7/site-packages (from tensorflow==2.9.0) (1.12)\n",
      "Requirement already satisfied: gast<=0.4.0,>=0.2.1 in /home/jupyterlab/conda/envs/python/lib/python3.7/site-packages (from tensorflow==2.9.0) (0.4.0)\n",
      "Requirement already satisfied: google-pasta>=0.1.1 in /home/jupyterlab/conda/envs/python/lib/python3.7/site-packages (from tensorflow==2.9.0) (0.2.0)\n",
      "Requirement already satisfied: grpcio<2.0,>=1.24.3 in /home/jupyterlab/conda/envs/python/lib/python3.7/site-packages (from tensorflow==2.9.0) (1.48.1)\n",
      "Requirement already satisfied: h5py>=2.9.0 in /home/jupyterlab/conda/envs/python/lib/python3.7/site-packages (from tensorflow==2.9.0) (3.8.0)\n",
      "Requirement already satisfied: keras<2.10.0,>=2.9.0rc0 in /home/jupyterlab/conda/envs/python/lib/python3.7/site-packages (from tensorflow==2.9.0) (2.9.0)\n",
      "Requirement already satisfied: keras-preprocessing>=1.1.1 in /home/jupyterlab/conda/envs/python/lib/python3.7/site-packages (from tensorflow==2.9.0) (1.1.2)\n",
      "Requirement already satisfied: libclang>=13.0.0 in /home/jupyterlab/conda/envs/python/lib/python3.7/site-packages (from tensorflow==2.9.0) (16.0.0)\n",
      "Requirement already satisfied: numpy>=1.20 in /home/jupyterlab/conda/envs/python/lib/python3.7/site-packages (from tensorflow==2.9.0) (1.21.4)\n",
      "Requirement already satisfied: opt-einsum>=2.3.2 in /home/jupyterlab/conda/envs/python/lib/python3.7/site-packages (from tensorflow==2.9.0) (3.3.0)\n",
      "Requirement already satisfied: packaging in /home/jupyterlab/conda/envs/python/lib/python3.7/site-packages (from tensorflow==2.9.0) (23.1)\n",
      "Requirement already satisfied: protobuf>=3.9.2 in /home/jupyterlab/conda/envs/python/lib/python3.7/site-packages (from tensorflow==2.9.0) (3.19.6)\n",
      "Requirement already satisfied: setuptools in /home/jupyterlab/conda/envs/python/lib/python3.7/site-packages (from tensorflow==2.9.0) (67.7.2)\n",
      "Requirement already satisfied: six>=1.12.0 in /home/jupyterlab/conda/envs/python/lib/python3.7/site-packages (from tensorflow==2.9.0) (1.16.0)\n",
      "Requirement already satisfied: tensorboard<2.10,>=2.9 in /home/jupyterlab/conda/envs/python/lib/python3.7/site-packages (from tensorflow==2.9.0) (2.9.1)\n",
      "Requirement already satisfied: tensorflow-io-gcs-filesystem>=0.23.1 in /home/jupyterlab/conda/envs/python/lib/python3.7/site-packages (from tensorflow==2.9.0) (0.32.0)\n",
      "Requirement already satisfied: tensorflow-estimator<2.10.0,>=2.9.0rc0 in /home/jupyterlab/conda/envs/python/lib/python3.7/site-packages (from tensorflow==2.9.0) (2.9.0)\n",
      "Requirement already satisfied: termcolor>=1.1.0 in /home/jupyterlab/conda/envs/python/lib/python3.7/site-packages (from tensorflow==2.9.0) (2.3.0)\n",
      "Requirement already satisfied: typing-extensions>=3.6.6 in /home/jupyterlab/conda/envs/python/lib/python3.7/site-packages (from tensorflow==2.9.0) (4.5.0)\n",
      "Requirement already satisfied: wrapt>=1.11.0 in /home/jupyterlab/conda/envs/python/lib/python3.7/site-packages (from tensorflow==2.9.0) (1.14.1)\n",
      "Requirement already satisfied: wheel<1.0,>=0.23.0 in /home/jupyterlab/conda/envs/python/lib/python3.7/site-packages (from astunparse>=1.6.0->tensorflow==2.9.0) (0.40.0)\n",
      "Requirement already satisfied: google-auth<3,>=1.6.3 in /home/jupyterlab/conda/envs/python/lib/python3.7/site-packages (from tensorboard<2.10,>=2.9->tensorflow==2.9.0) (2.19.0)\n",
      "Requirement already satisfied: google-auth-oauthlib<0.5,>=0.4.1 in /home/jupyterlab/conda/envs/python/lib/python3.7/site-packages (from tensorboard<2.10,>=2.9->tensorflow==2.9.0) (0.4.6)\n",
      "Requirement already satisfied: markdown>=2.6.8 in /home/jupyterlab/conda/envs/python/lib/python3.7/site-packages (from tensorboard<2.10,>=2.9->tensorflow==2.9.0) (3.4.3)\n",
      "Requirement already satisfied: requests<3,>=2.21.0 in /home/jupyterlab/conda/envs/python/lib/python3.7/site-packages (from tensorboard<2.10,>=2.9->tensorflow==2.9.0) (2.29.0)\n",
      "Requirement already satisfied: tensorboard-data-server<0.7.0,>=0.6.0 in /home/jupyterlab/conda/envs/python/lib/python3.7/site-packages (from tensorboard<2.10,>=2.9->tensorflow==2.9.0) (0.6.1)\n",
      "Requirement already satisfied: tensorboard-plugin-wit>=1.6.0 in /home/jupyterlab/conda/envs/python/lib/python3.7/site-packages (from tensorboard<2.10,>=2.9->tensorflow==2.9.0) (1.8.1)\n",
      "Requirement already satisfied: werkzeug>=1.0.1 in /home/jupyterlab/conda/envs/python/lib/python3.7/site-packages (from tensorboard<2.10,>=2.9->tensorflow==2.9.0) (2.2.3)\n",
      "Requirement already satisfied: cachetools<6.0,>=2.0.0 in /home/jupyterlab/conda/envs/python/lib/python3.7/site-packages (from google-auth<3,>=1.6.3->tensorboard<2.10,>=2.9->tensorflow==2.9.0) (5.3.1)\n",
      "Requirement already satisfied: pyasn1-modules>=0.2.1 in /home/jupyterlab/conda/envs/python/lib/python3.7/site-packages (from google-auth<3,>=1.6.3->tensorboard<2.10,>=2.9->tensorflow==2.9.0) (0.3.0)\n",
      "Requirement already satisfied: rsa<5,>=3.1.4 in /home/jupyterlab/conda/envs/python/lib/python3.7/site-packages (from google-auth<3,>=1.6.3->tensorboard<2.10,>=2.9->tensorflow==2.9.0) (4.9)\n",
      "Requirement already satisfied: urllib3<2.0 in /home/jupyterlab/conda/envs/python/lib/python3.7/site-packages (from google-auth<3,>=1.6.3->tensorboard<2.10,>=2.9->tensorflow==2.9.0) (1.26.15)\n",
      "Requirement already satisfied: requests-oauthlib>=0.7.0 in /home/jupyterlab/conda/envs/python/lib/python3.7/site-packages (from google-auth-oauthlib<0.5,>=0.4.1->tensorboard<2.10,>=2.9->tensorflow==2.9.0) (1.3.1)\n",
      "Requirement already satisfied: importlib-metadata>=4.4 in /home/jupyterlab/conda/envs/python/lib/python3.7/site-packages (from markdown>=2.6.8->tensorboard<2.10,>=2.9->tensorflow==2.9.0) (4.11.4)\n",
      "Requirement already satisfied: charset-normalizer<4,>=2 in /home/jupyterlab/conda/envs/python/lib/python3.7/site-packages (from requests<3,>=2.21.0->tensorboard<2.10,>=2.9->tensorflow==2.9.0) (3.1.0)\n",
      "Requirement already satisfied: idna<4,>=2.5 in /home/jupyterlab/conda/envs/python/lib/python3.7/site-packages (from requests<3,>=2.21.0->tensorboard<2.10,>=2.9->tensorflow==2.9.0) (3.4)\n",
      "Requirement already satisfied: certifi>=2017.4.17 in /home/jupyterlab/conda/envs/python/lib/python3.7/site-packages (from requests<3,>=2.21.0->tensorboard<2.10,>=2.9->tensorflow==2.9.0) (2023.5.7)\n",
      "Requirement already satisfied: MarkupSafe>=2.1.1 in /home/jupyterlab/conda/envs/python/lib/python3.7/site-packages (from werkzeug>=1.0.1->tensorboard<2.10,>=2.9->tensorflow==2.9.0) (2.1.1)\n",
      "Requirement already satisfied: zipp>=0.5 in /home/jupyterlab/conda/envs/python/lib/python3.7/site-packages (from importlib-metadata>=4.4->markdown>=2.6.8->tensorboard<2.10,>=2.9->tensorflow==2.9.0) (3.15.0)\n",
      "Requirement already satisfied: pyasn1<0.6.0,>=0.4.6 in /home/jupyterlab/conda/envs/python/lib/python3.7/site-packages (from pyasn1-modules>=0.2.1->google-auth<3,>=1.6.3->tensorboard<2.10,>=2.9->tensorflow==2.9.0) (0.5.0)\n",
      "Requirement already satisfied: oauthlib>=3.0.0 in /home/jupyterlab/conda/envs/python/lib/python3.7/site-packages (from requests-oauthlib>=0.7.0->google-auth-oauthlib<0.5,>=0.4.1->tensorboard<2.10,>=2.9->tensorflow==2.9.0) (3.2.2)\n",
      "Requirement already satisfied: numpy==1.21.4 in /home/jupyterlab/conda/envs/python/lib/python3.7/site-packages (1.21.4)\n"
     ]
    }
   ],
   "source": [
    "!pip install tensorflow==2.9.0\n",
    "!pip install numpy==1.21.4\n"
   ]
  },
  {
   "cell_type": "code",
   "execution_count": 2,
   "metadata": {},
   "outputs": [
    {
     "name": "stderr",
     "output_type": "stream",
     "text": [
      "2023-05-29 19:17:20.512291: I tensorflow/core/util/util.cc:169] oneDNN custom operations are on. You may see slightly different numerical results due to floating-point round-off errors from different computation orders. To turn them off, set the environment variable `TF_ENABLE_ONEDNN_OPTS=0`.\n",
      "2023-05-29 19:17:20.519028: W tensorflow/stream_executor/platform/default/dso_loader.cc:64] Could not load dynamic library 'libcudart.so.11.0'; dlerror: libcudart.so.11.0: cannot open shared object file: No such file or directory\n",
      "2023-05-29 19:17:20.519063: I tensorflow/stream_executor/cuda/cudart_stub.cc:29] Ignore above cudart dlerror if you do not have a GPU set up on your machine.\n"
     ]
    }
   ],
   "source": [
    "import time\n",
    "import numpy as np\n",
    "import tensorflow as tf\n",
    "if not tf.__version__ == '2.9.0':\n",
    "    print(tf.__version__)\n",
    "    raise ValueError('please upgrade to TensorFlow 2.9.0, or restart your Kernel (Kernel->Restart & Clear Output)')"
   ]
  },
  {
   "cell_type": "markdown",
   "metadata": {},
   "source": [
    "IMPORTANT! => Please restart the kernel by clicking on \"Kernel\"->\"Restart and Clear Outout\" and wait until all output disapears. Then your changes are beeing picked up\n"
   ]
  },
  {
   "cell_type": "code",
   "execution_count": 3,
   "metadata": {},
   "outputs": [
    {
     "name": "stdout",
     "output_type": "stream",
     "text": [
      "mkdir: cannot create directory ‘data’: File exists\n",
      "mkdir: cannot create directory ‘data/ptb’: File exists\n"
     ]
    }
   ],
   "source": [
    "!mkdir data\n",
    "!mkdir data/ptb\n",
    "!wget -q -O data/ptb/reader.py https://cf-courses-data.s3.us.cloud-object-storage.appdomain.cloud/IBMDeveloperSkillsNetwork-DL0120EN-SkillsNetwork/labs/Week3/data/ptb/reader.py\n",
    "!cp data/ptb/reader.py .\n",
    "\n"
   ]
  },
  {
   "cell_type": "code",
   "execution_count": 4,
   "metadata": {},
   "outputs": [],
   "source": [
    "# Copyright 2015 The TensorFlow Authors. All Rights Reserved.\n",
    "#\n",
    "# Licensed under the Apache License, Version 2.0 (the \"License\");\n",
    "# you may not use this file except in compliance with the License.\n",
    "# You may obtain a copy of the License at\n",
    "#\n",
    "#     http://www.apache.org/licenses/LICENSE-2.0\n",
    "#\n",
    "# Unless required by applicable law or agreed to in writing, software\n",
    "# distributed under the License is distributed on an \"AS IS\" BASIS,\n",
    "# WITHOUT WARRANTIES OR CONDITIONS OF ANY KIND, either express or implied.\n",
    "# See the License for the specific language governing permissions and\n",
    "# limitations under the License.\n",
    "# ==============================================================================\n",
    "\n",
    "\n",
    "\"\"\"Utilities for parsing PTB text files.\"\"\"\n",
    "from __future__ import absolute_import\n",
    "from __future__ import division\n",
    "from __future__ import print_function\n",
    "\n",
    "import collections\n",
    "import os\n",
    "\n",
    "import numpy as np\n",
    "import tensorflow as tf\n",
    "\n",
    "\n",
    "def _read_words(filename):\n",
    "  with tf.io.gfile.GFile(filename, \"r\") as f:\n",
    "    return f.read().replace(\"\\n\", \"<eos>\").split()\n",
    "\n",
    "\n",
    "def _build_vocab(filename):\n",
    "  data = _read_words(filename)\n",
    "\n",
    "  counter = collections.Counter(data)\n",
    "  count_pairs = sorted(counter.items(), key=lambda x: (-x[1], x[0]))\n",
    "\n",
    "  words, _ = list(zip(*count_pairs))\n",
    "  word_to_id = dict(zip(words, range(len(words))))\n",
    "\n",
    "  return word_to_id\n",
    "\n",
    "\n",
    "def _file_to_word_ids(filename, word_to_id):\n",
    "  data = _read_words(filename)\n",
    "  return [word_to_id[word] for word in data if word in word_to_id]\n",
    "\n",
    "\n",
    "def ptb_raw_data(data_path=None):\n",
    "  \"\"\"Load PTB raw data from data directory \"data_path\".\n",
    "\n",
    "  Reads PTB text files, converts strings to integer ids,\n",
    "  and performs mini-batching of the inputs.\n",
    "\n",
    "  The PTB dataset comes from Tomas Mikolov's webpage:\n",
    "\n",
    "  http://www.fit.vutbr.cz/~imikolov/rnnlm/simple-examples.tgz\n",
    "\n",
    "  Args:\n",
    "    data_path: string path to the directory where simple-examples.tgz has\n",
    "      been extracted.\n",
    "\n",
    "  Returns:\n",
    "    tuple (train_data, valid_data, test_data, vocabulary)\n",
    "    where each of the data objects can be passed to PTBIterator.\n",
    "  \"\"\"\n",
    "\n",
    "  train_path = os.path.join(data_path, \"ptb.train.txt\")\n",
    "  valid_path = os.path.join(data_path, \"ptb.valid.txt\")\n",
    "  test_path = os.path.join(data_path, \"ptb.test.txt\")\n",
    "\n",
    "  word_to_id = _build_vocab(train_path)\n",
    "  train_data = _file_to_word_ids(train_path, word_to_id)\n",
    "  valid_data = _file_to_word_ids(valid_path, word_to_id)\n",
    "  test_data = _file_to_word_ids(test_path, word_to_id)\n",
    "  vocabulary = len(word_to_id)\n",
    "  return train_data, valid_data, test_data, vocabulary, word_to_id\n",
    "\n",
    "\n",
    "def ptb_iterator(raw_data, batch_size, num_steps):\n",
    "  \"\"\"Iterate on the raw PTB data.\n",
    "\n",
    "  This generates batch_size pointers into the raw PTB data, and allows\n",
    "  minibatch iteration along these pointers.\n",
    "\n",
    "  Args:\n",
    "    raw_data: one of the raw data outputs from ptb_raw_data.\n",
    "    batch_size: int, the batch size.\n",
    "    num_steps: int, the number of unrolls.\n",
    "\n",
    "  Yields:\n",
    "    Pairs of the batched data, each a matrix of shape [batch_size, num_steps].\n",
    "    The second element of the tuple is the same data time-shifted to the\n",
    "    right by one.\n",
    "\n",
    "  Raises:\n",
    "    ValueError: if batch_size or num_steps are too high.\n",
    "  \"\"\"\n",
    "  raw_data = np.array(raw_data, dtype=np.int32)\n",
    "\n",
    "  data_len = len(raw_data)\n",
    "  batch_len = data_len // batch_size\n",
    "  data = np.zeros([batch_size, batch_len], dtype=np.int32)\n",
    "  for i in range(batch_size):\n",
    "    data[i] = raw_data[batch_len * i:batch_len * (i + 1)]\n",
    "\n",
    "  epoch_size = (batch_len - 1) // num_steps\n",
    "\n",
    "  if epoch_size == 0:\n",
    "    raise ValueError(\"epoch_size == 0, decrease batch_size or num_steps\")\n",
    "\n",
    "  for i in range(epoch_size):\n",
    "    x = data[:, i*num_steps:(i+1)*num_steps]\n",
    "    y = data[:, i*num_steps+1:(i+1)*num_steps+1]\n",
    "    yield (x, y)"
   ]
  },
  {
   "cell_type": "markdown",
   "metadata": {},
   "source": [
    "<a id=\"building_lstm_model\"></a>\n",
    "<h2>Building the LSTM model for Language Modeling</h2>\n",
    "Now that we know exactly what we are doing, we can start building our model using TensorFlow. The very first thing we need to do is download and extract the <code>simple-examples</code> dataset, which can be done by executing the code cell below.\n"
   ]
  },
  {
   "cell_type": "code",
   "execution_count": 5,
   "metadata": {},
   "outputs": [
    {
     "name": "stdout",
     "output_type": "stream",
     "text": [
      "--2023-05-29 19:17:25--  http://www.fit.vutbr.cz/~imikolov/rnnlm/simple-examples.tgz\n",
      "Resolving www.fit.vutbr.cz (www.fit.vutbr.cz)... 147.229.9.23, 2001:67c:1220:809::93e5:917\n",
      "Connecting to www.fit.vutbr.cz (www.fit.vutbr.cz)|147.229.9.23|:80... connected.\n",
      "HTTP request sent, awaiting response... 200 OK\n",
      "Length: 34869662 (33M) [application/x-gtar]\n",
      "Saving to: ‘simple-examples.tgz.1’\n",
      "\n",
      "simple-examples.tgz 100%[===================>]  33.25M  9.40MB/s    in 3.5s    \n",
      "\n",
      "2023-05-29 19:17:30 (9.40 MB/s) - ‘simple-examples.tgz.1’ saved [34869662/34869662]\n",
      "\n"
     ]
    }
   ],
   "source": [
    "!wget http://www.fit.vutbr.cz/~imikolov/rnnlm/simple-examples.tgz \n",
    "!tar xzf simple-examples.tgz -C data/"
   ]
  },
  {
   "cell_type": "markdown",
   "metadata": {},
   "source": [
    "Additionally, for the sake of making it easy to play around with the model's hyperparameters, we can declare them beforehand. Feel free to change these -- you will see a difference in performance each time you change those!  \n"
   ]
  },
  {
   "cell_type": "code",
   "execution_count": 6,
   "metadata": {},
   "outputs": [],
   "source": [
    "#Initial weight scale\n",
    "init_scale = 0.1\n",
    "#Initial learning rate\n",
    "learning_rate = 1.0\n",
    "#Maximum permissible norm for the gradient (For gradient clipping -- another measure against Exploding Gradients)\n",
    "max_grad_norm = 5\n",
    "#The number of layers in our model\n",
    "num_layers = 2\n",
    "#The total number of recurrence steps, also known as the number of layers when our RNN is \"unfolded\"\n",
    "num_steps = 20\n",
    "#The number of processing units (neurons) in the hidden layers\n",
    "hidden_size_l1 = 256\n",
    "hidden_size_l2 = 128\n",
    "#The maximum number of epochs trained with the initial learning rate\n",
    "max_epoch_decay_lr = 4\n",
    "#The total number of epochs in training\n",
    "max_epoch = 15\n",
    "#The probability for keeping data in the Dropout Layer (This is an optimization, but is outside our scope for this notebook!)\n",
    "#At 1, we ignore the Dropout Layer wrapping.\n",
    "keep_prob = 1\n",
    "#The decay for the learning rate\n",
    "decay = 0.5\n",
    "#The size for each batch of data\n",
    "batch_size = 30\n",
    "#The size of our vocabulary\n",
    "vocab_size = 10000\n",
    "embeding_vector_size= 200\n",
    "#Training flag to separate training from testing\n",
    "is_training = 1\n",
    "#Data directory for our dataset\n",
    "data_dir = \"data/simple-examples/data/\""
   ]
  },
  {
   "cell_type": "code",
   "execution_count": 7,
   "metadata": {},
   "outputs": [],
   "source": [
    "### To unzip a file"
   ]
  },
  {
   "cell_type": "code",
   "execution_count": 8,
   "metadata": {
    "tags": []
   },
   "outputs": [
    {
     "data": {
      "text/plain": [
       "' import tarfile\\nimport os\\n\\ncurrent_dir = os.getcwd()\\nprint(\"current:\", current_dir)\\ntgz_path = current_dir + \\'/simple-examples.tgz\\'\\nprint(\"tar_path:\", tgz_path)\\noutput_dir = current_dir\\nwith tarfile.open(tgz_path, \\'r:gz\\') as tar:\\n    tar.extractall(output_dir)'"
      ]
     },
     "execution_count": 8,
     "metadata": {},
     "output_type": "execute_result"
    }
   ],
   "source": [
    "''' import tarfile\n",
    "import os\n",
    "\n",
    "current_dir = os.getcwd()\n",
    "print(\"current:\", current_dir)\n",
    "tgz_path = current_dir + '/simple-examples.tgz'\n",
    "print(\"tar_path:\", tgz_path)\n",
    "output_dir = current_dir\n",
    "with tarfile.open(tgz_path, 'r:gz') as tar:\n",
    "    tar.extractall(output_dir)'''"
   ]
  },
  {
   "cell_type": "markdown",
   "metadata": {},
   "source": [
    "Some clarifications for LSTM architecture based on the arguments:\n",
    "\n",
    "Network structure:\n",
    "<ul>\n",
    "    <li>In this network, the number of LSTM cells are 2. To give the model more expressive power, we can add multiple layers of LSTMs to process the data. The output of the first layer will become the input of the second and so on.\n",
    "    </li>\n",
    "    <li>The recurrence steps is 20, that is, when our RNN is \"Unfolded\", the recurrence step is 20.</li>   \n",
    "    <li>the structure is like:\n",
    "        <ul>\n",
    "            <li>200 input units -> [200x200] Weight -> 200 Hidden units (first layer) -> [200x200] Weight matrix  -> 200 Hidden units (second layer) ->  [200] weight Matrix -> 200 unit output</li>\n",
    "        </ul>\n",
    "    </li>\n",
    "</ul>\n",
    "<br>\n",
    "\n",
    "Input layer: \n",
    "<ul>\n",
    "    <li>The network has 200 input units.</li>\n",
    "    <li>Suppose each word is represented by an embedding vector of dimensionality e=200. The input layer of each cell will have 200 linear units. These e=200 linear units are connected to each of the h=200 LSTM units in the hidden layer (assuming there is only one hidden layer, though our case has 2 layers).\n",
    "    </li>\n",
    "    <li>The input shape is [batch_size, num_steps], that is [30x20]. It will turn into [30x20x200] after embedding, and then 20x[30x200]\n",
    "    </li>\n",
    "</ul>\n",
    "<br>\n",
    "\n",
    "Hidden layer:\n",
    "<ul>\n",
    "    <li>Each LSTM has 200 hidden units which is equivalent to the dimensionality of the embedding words and output.</li>\n",
    "</ul>\n",
    "<br>\n"
   ]
  },
  {
   "cell_type": "markdown",
   "metadata": {},
   "source": [
    "There is a lot to be done and a ton of information to process at the same time, so go over this code slowly. It may seem complex at first, but if you try to apply what you just learned about language modelling to the code you see, you should be able to understand it.\n",
    "\n",
    "This code is adapted from the <a href=\"https://github.com/tensorflow/models\">PTBModel</a> example bundled with the TensorFlow source code.\n",
    "\n",
    "\n",
    "<h3>Training data</h3>\n",
    "The story starts from data:\n",
    "<ul>\n",
    "    <li>Train data is a list of words, of size 929589, represented by numbers, e.g. [9971, 9972, 9974, 9975,...]</li>\n",
    "    <li>We read data as mini-batch of size b=30. Assume the size of each sentence is 20 words (num_steps = 20). Then it will take $$floor(\\frac{N}{b \\times h})+1=1548$$ iterations for the learner to go through all sentences once. Where N is the size of the list of words, b is batch size, and h is size of each sentence. So, the number of iterators is 1548\n",
    "    </li>\n",
    "    <li>Each batch data is read from train dataset of size 600, and shape of [30x20]</li>\n",
    "</ul>\n"
   ]
  },
  {
   "cell_type": "code",
   "execution_count": 9,
   "metadata": {},
   "outputs": [],
   "source": [
    "# Reads the data and separates it into training data, validation data and testing data\n",
    "raw_data = ptb_raw_data(data_dir)\n",
    "train_data, valid_data, test_data, vocab, word_to_id = raw_data"
   ]
  },
  {
   "cell_type": "code",
   "execution_count": 10,
   "metadata": {},
   "outputs": [
    {
     "data": {
      "text/plain": [
       "929589"
      ]
     },
     "execution_count": 10,
     "metadata": {},
     "output_type": "execute_result"
    }
   ],
   "source": [
    "len(train_data)"
   ]
  },
  {
   "cell_type": "code",
   "execution_count": 11,
   "metadata": {},
   "outputs": [
    {
     "name": "stdout",
     "output_type": "stream",
     "text": [
      "['aer', 'banknote', 'berlitz', 'calloway', 'centrust', 'cluett', 'fromstein', 'gitano', 'guterman', 'hydro-quebec', 'ipo', 'kia', 'memotec', 'mlx', 'nahb', 'punts', 'rake', 'regatta', 'rubens', 'sim', 'snack-food', 'ssangyong', 'swapo', 'wachter', '<eos>', 'pierre', '<unk>', 'N', 'years', 'old', 'will', 'join', 'the', 'board', 'as', 'a', 'nonexecutive', 'director', 'nov.', 'N', '<eos>', 'mr.', '<unk>', 'is', 'chairman', 'of', '<unk>', 'n.v.', 'the', 'dutch', 'publishing', 'group', '<eos>', 'rudolph', '<unk>', 'N', 'years', 'old', 'and', 'former', 'chairman', 'of', 'consolidated', 'gold', 'fields', 'plc', 'was', 'named', 'a', 'nonexecutive', 'director', 'of', 'this', 'british', 'industrial', 'conglomerate', '<eos>', 'a', 'form', 'of', 'asbestos', 'once', 'used', 'to', 'make', 'kent', 'cigarette', 'filters', 'has', 'caused', 'a', 'high', 'percentage', 'of', 'cancer', 'deaths', 'among', 'a', 'group', 'of']\n"
     ]
    }
   ],
   "source": [
    "def id_to_word(id_list):\n",
    "    line = []\n",
    "    for w in id_list:\n",
    "        for word, wid in word_to_id.items():\n",
    "            if wid == w:\n",
    "                line.append(word)\n",
    "    return line            \n",
    "\n",
    "print(id_to_word(train_data[0:100]))"
   ]
  },
  {
   "cell_type": "markdown",
   "metadata": {},
   "source": [
    "Lets just read one mini-batch now and feed our network:\n"
   ]
  },
  {
   "cell_type": "code",
   "execution_count": 12,
   "metadata": {},
   "outputs": [],
   "source": [
    "itera = ptb_iterator(train_data, batch_size, num_steps)\n",
    "first_touple = itera.__next__()\n",
    "_input_data = first_touple[0]\n",
    "_targets = first_touple[1]"
   ]
  },
  {
   "cell_type": "code",
   "execution_count": 13,
   "metadata": {},
   "outputs": [
    {
     "data": {
      "text/plain": [
       "(30, 20)"
      ]
     },
     "execution_count": 13,
     "metadata": {},
     "output_type": "execute_result"
    }
   ],
   "source": [
    "_input_data.shape"
   ]
  },
  {
   "cell_type": "code",
   "execution_count": 14,
   "metadata": {},
   "outputs": [
    {
     "data": {
      "text/plain": [
       "(30, 20)"
      ]
     },
     "execution_count": 14,
     "metadata": {},
     "output_type": "execute_result"
    }
   ],
   "source": [
    "_targets.shape"
   ]
  },
  {
   "cell_type": "markdown",
   "metadata": {},
   "source": [
    "Lets look at 3 sentences of our input x:\n"
   ]
  },
  {
   "cell_type": "code",
   "execution_count": 15,
   "metadata": {},
   "outputs": [
    {
     "data": {
      "text/plain": [
       "array([[9970, 9971, 9972, 9974, 9975, 9976, 9980, 9981, 9982, 9983, 9984,\n",
       "        9986, 9987, 9988, 9989, 9991, 9992, 9993, 9994, 9995],\n",
       "       [2654,    6,  334, 2886,    4,    1,  233,  711,  834,   11,  130,\n",
       "         123,    7,  514,    2,   63,   10,  514,    8,  605],\n",
       "       [   0, 1071,    4,    0,  185,   24,  368,   20,   31, 3109,  954,\n",
       "          12,    3,   21,    2, 2915,    2,   12,    3,   21]],\n",
       "      dtype=int32)"
      ]
     },
     "execution_count": 15,
     "metadata": {},
     "output_type": "execute_result"
    }
   ],
   "source": [
    "_input_data[0:3]"
   ]
  },
  {
   "cell_type": "code",
   "execution_count": 16,
   "metadata": {},
   "outputs": [
    {
     "name": "stdout",
     "output_type": "stream",
     "text": [
      "['aer', 'banknote', 'berlitz', 'calloway', 'centrust', 'cluett', 'fromstein', 'gitano', 'guterman', 'hydro-quebec', 'ipo', 'kia', 'memotec', 'mlx', 'nahb', 'punts', 'rake', 'regatta', 'rubens', 'sim']\n"
     ]
    }
   ],
   "source": [
    "print(id_to_word(_input_data[0,:]))"
   ]
  },
  {
   "cell_type": "markdown",
   "metadata": {},
   "source": [
    "<h3>Embeddings</h3>\n",
    "We have to convert the words in our dataset to vectors of numbers. The traditional approach is to use one-hot encoding method that is usually used for converting categorical values to numerical values. However, One-hot encoded vectors are high-dimensional, sparse and in a big dataset, computationally inefficient. So, we use word2vec approach. It is, in fact, a layer in our LSTM network, where the word IDs will be represented as a dense representation before feeding to the LSTM. \n",
    "\n",
    "The embedded vectors also get updated during the training process of the deep neural network.\n",
    "We create the embeddings for our input data. <b>embedding_vocab</b> is matrix of [10000x200] for all 10000 unique words.\n"
   ]
  },
  {
   "cell_type": "markdown",
   "metadata": {},
   "source": [
    "<b>embedding_lookup()</b> finds the embedded values for our batch of 30x20 words. It  goes to each row of <code>input_data</code>, and for each word in the row/sentence, finds the correspond vector in <code>embedding_dic<code>. <br>\n",
    "It creates a [30x20x200] tensor, so, the first element of <b>inputs</b> (the first sentence), is a matrix of 20x200, which each row of it, is vector representing a word in the sentence.\n"
   ]
  },
  {
   "cell_type": "code",
   "execution_count": 17,
   "metadata": {},
   "outputs": [],
   "source": [
    "embedding_layer = tf.keras.layers.Embedding(vocab_size, embeding_vector_size,batch_input_shape=(batch_size, num_steps),trainable=True,name=\"embedding_vocab\")  "
   ]
  },
  {
   "cell_type": "code",
   "execution_count": 18,
   "metadata": {},
   "outputs": [
    {
     "name": "stderr",
     "output_type": "stream",
     "text": [
      "2023-05-29 19:17:40.841292: W tensorflow/stream_executor/platform/default/dso_loader.cc:64] Could not load dynamic library 'libcuda.so.1'; dlerror: libcuda.so.1: cannot open shared object file: No such file or directory\n",
      "2023-05-29 19:17:40.841363: W tensorflow/stream_executor/cuda/cuda_driver.cc:269] failed call to cuInit: UNKNOWN ERROR (303)\n",
      "2023-05-29 19:17:40.841396: I tensorflow/stream_executor/cuda/cuda_diagnostics.cc:156] kernel driver does not appear to be running on this host (jupyterlab-u2120161092): /proc/driver/nvidia/version does not exist\n",
      "2023-05-29 19:17:40.841985: I tensorflow/core/platform/cpu_feature_guard.cc:193] This TensorFlow binary is optimized with oneAPI Deep Neural Network Library (oneDNN) to use the following CPU instructions in performance-critical operations:  AVX2 AVX512F AVX512_VNNI FMA\n",
      "To enable them in other operations, rebuild TensorFlow with the appropriate compiler flags.\n"
     ]
    },
    {
     "data": {
      "text/plain": [
       "<tf.Tensor: shape=(30, 20, 200), dtype=float32, numpy=\n",
       "array([[[-0.03212253,  0.04514411, -0.02982496, ..., -0.01964066,\n",
       "         -0.01313634,  0.02335444],\n",
       "        [-0.04994719,  0.03488655,  0.01562024, ..., -0.03180156,\n",
       "          0.01453855, -0.04016998],\n",
       "        [-0.00455638,  0.00787808, -0.03850298, ..., -0.03688254,\n",
       "         -0.00509454, -0.01274998],\n",
       "        ...,\n",
       "        [ 0.02186633, -0.04250524, -0.00389719, ...,  0.03280864,\n",
       "         -0.03719661, -0.01769177],\n",
       "        [-0.04287563,  0.02790601, -0.04749021, ...,  0.02904944,\n",
       "          0.00976314,  0.02348676],\n",
       "        [ 0.01764264, -0.00826095,  0.04353884, ..., -0.01578972,\n",
       "          0.0357377 , -0.04019642]],\n",
       "\n",
       "       [[ 0.03446536, -0.01914895,  0.02596461, ..., -0.00731567,\n",
       "         -0.04013156, -0.02612224],\n",
       "        [-0.03402378, -0.01601709,  0.01979483, ...,  0.04046896,\n",
       "         -0.02591045, -0.02526332],\n",
       "        [-0.03868048, -0.03159884, -0.0493507 , ...,  0.01873428,\n",
       "          0.0175004 ,  0.04827863],\n",
       "        ...,\n",
       "        [ 0.03180386, -0.02641131, -0.00961864, ..., -0.00918056,\n",
       "         -0.04248116,  0.03735012],\n",
       "        [ 0.04984385,  0.01365498, -0.00582769, ..., -0.02370327,\n",
       "          0.00321018,  0.02310372],\n",
       "        [-0.04637405,  0.04330714, -0.00223607, ..., -0.02935488,\n",
       "          0.04973388,  0.0036407 ]],\n",
       "\n",
       "       [[ 0.01628793,  0.02316943,  0.01465149, ..., -0.03993832,\n",
       "          0.00096292,  0.03795518],\n",
       "        [-0.02772641,  0.01314403, -0.04346561, ..., -0.03010233,\n",
       "          0.04515177,  0.04660198],\n",
       "        [-0.02519032, -0.04091464,  0.00017167, ...,  0.01895753,\n",
       "          0.03917432, -0.03981596],\n",
       "        ...,\n",
       "        [ 0.02728113, -0.00840174,  0.04261196, ..., -0.04707285,\n",
       "          0.01646631, -0.00110104],\n",
       "        [-0.04372196, -0.04232822,  0.0411546 , ...,  0.00720899,\n",
       "          0.04939939,  0.02269459],\n",
       "        [ 0.0379514 , -0.04637942,  0.01139895, ...,  0.03434929,\n",
       "         -0.0344515 ,  0.00133787]],\n",
       "\n",
       "       ...,\n",
       "\n",
       "       [[ 0.02773169,  0.03742189, -0.0215604 , ...,  0.02169105,\n",
       "          0.04635528, -0.02516752],\n",
       "        [-0.03616076,  0.04459393,  0.01769969, ...,  0.03982537,\n",
       "         -0.02380946, -0.01319859],\n",
       "        [ 0.02670893,  0.04085932,  0.03794774, ...,  0.02362937,\n",
       "          0.02284005,  0.02699995],\n",
       "        ...,\n",
       "        [ 0.03990543, -0.02097274, -0.03899056, ...,  0.00781977,\n",
       "          0.04667404, -0.0379837 ],\n",
       "        [-0.03475311,  0.01114249,  0.04777304, ...,  0.03771338,\n",
       "          0.04096247, -0.02115524],\n",
       "        [-0.01809409,  0.02849795, -0.00950504, ..., -0.00571134,\n",
       "          0.02862165, -0.00186955]],\n",
       "\n",
       "       [[ 0.00729492,  0.04724022,  0.01072687, ...,  0.01741773,\n",
       "          0.04268252, -0.04088057],\n",
       "        [-0.00781832, -0.03385764,  0.01789461, ...,  0.0398124 ,\n",
       "         -0.03299942, -0.043456  ],\n",
       "        [-0.02519032, -0.04091464,  0.00017167, ...,  0.01895753,\n",
       "          0.03917432, -0.03981596],\n",
       "        ...,\n",
       "        [-0.00868972, -0.04196937, -0.0007346 , ..., -0.02646895,\n",
       "          0.04086623, -0.0271168 ],\n",
       "        [-0.03402378, -0.01601709,  0.01979483, ...,  0.04046896,\n",
       "         -0.02591045, -0.02526332],\n",
       "        [ 0.01623596, -0.04229207, -0.03435631, ...,  0.02426528,\n",
       "         -0.03164207, -0.01283552]],\n",
       "\n",
       "       [[-0.0411257 , -0.03382023,  0.02039385, ...,  0.02031684,\n",
       "          0.00513346,  0.00682604],\n",
       "        [ 0.01383645,  0.0239102 ,  0.04328073, ...,  0.03971853,\n",
       "          0.01331793, -0.02803445],\n",
       "        [-0.01720547,  0.00224102, -0.0357991 , ..., -0.04847829,\n",
       "          0.02733446, -0.03558625],\n",
       "        ...,\n",
       "        [ 0.03930998, -0.02003192,  0.03849671, ..., -0.01430319,\n",
       "          0.00228815,  0.00790211],\n",
       "        [ 0.03874737, -0.02247855,  0.02204176, ..., -0.0010054 ,\n",
       "         -0.02101299,  0.00317868],\n",
       "        [ 0.02995253,  0.00321589, -0.02705724, ..., -0.03594055,\n",
       "         -0.01464822, -0.04289191]]], dtype=float32)>"
      ]
     },
     "execution_count": 18,
     "metadata": {},
     "output_type": "execute_result"
    }
   ],
   "source": [
    "# Define where to get the data for our embeddings from\n",
    "inputs = embedding_layer(_input_data)\n",
    "inputs"
   ]
  },
  {
   "cell_type": "markdown",
   "metadata": {},
   "source": [
    "<h3>Constructing Recurrent Neural Networks</h3>\n"
   ]
  },
  {
   "cell_type": "markdown",
   "metadata": {},
   "source": [
    "In this step, we create the stacked LSTM using <b>tf.keras.layers.StackedRNNCells</b>, which is a 2 layer LSTM network:\n"
   ]
  },
  {
   "cell_type": "code",
   "execution_count": 19,
   "metadata": {},
   "outputs": [],
   "source": [
    "lstm_cell_l1 = tf.keras.layers.LSTMCell(hidden_size_l1)\n",
    "lstm_cell_l2 = tf.keras.layers.LSTMCell(hidden_size_l2)"
   ]
  },
  {
   "cell_type": "code",
   "execution_count": 20,
   "metadata": {},
   "outputs": [],
   "source": [
    "stacked_lstm = tf.keras.layers.StackedRNNCells([lstm_cell_l1, lstm_cell_l2])"
   ]
  },
  {
   "cell_type": "markdown",
   "metadata": {},
   "source": [
    "<b>tf.keras.layers.RNN</b> creates a recurrent neural network using <b>stacked_lstm</b>. \n",
    "\n",
    "The input should be a Tensor of shape: [batch_size, max_time, embedding_vector_size], in our case it would be (30, 20, 200)\n"
   ]
  },
  {
   "cell_type": "code",
   "execution_count": 21,
   "metadata": {},
   "outputs": [],
   "source": [
    "layer  =  tf.keras.layers.RNN(stacked_lstm,[batch_size, num_steps],return_state=False,stateful=True,trainable=True)"
   ]
  },
  {
   "cell_type": "markdown",
   "metadata": {},
   "source": [
    "Also, we initialize the states of the nework:\n",
    "\n",
    "<h4>_initial_state</h4>\n",
    "\n",
    "For each LSTM, there are 2 state matrices, c\\_state and m\\_state.  c_state and m_state represent \"Memory State\" and \"Cell State\". Each hidden layer, has a vector of size 30, which keeps the states. so, for 200 hidden units in each LSTM, we have a matrix of size [30x200]\n"
   ]
  },
  {
   "cell_type": "code",
   "execution_count": 22,
   "metadata": {},
   "outputs": [],
   "source": [
    "init_state = tf.Variable(tf.zeros([batch_size,embeding_vector_size]),trainable=False)"
   ]
  },
  {
   "cell_type": "code",
   "execution_count": 23,
   "metadata": {},
   "outputs": [],
   "source": [
    "layer.inital_state = init_state"
   ]
  },
  {
   "cell_type": "code",
   "execution_count": 24,
   "metadata": {},
   "outputs": [
    {
     "data": {
      "text/plain": [
       "<tf.Variable 'Variable:0' shape=(30, 200) dtype=float32, numpy=\n",
       "array([[0., 0., 0., ..., 0., 0., 0.],\n",
       "       [0., 0., 0., ..., 0., 0., 0.],\n",
       "       [0., 0., 0., ..., 0., 0., 0.],\n",
       "       ...,\n",
       "       [0., 0., 0., ..., 0., 0., 0.],\n",
       "       [0., 0., 0., ..., 0., 0., 0.],\n",
       "       [0., 0., 0., ..., 0., 0., 0.]], dtype=float32)>"
      ]
     },
     "execution_count": 24,
     "metadata": {},
     "output_type": "execute_result"
    }
   ],
   "source": [
    "layer.inital_state"
   ]
  },
  {
   "cell_type": "markdown",
   "metadata": {},
   "source": [
    "so, lets look at the outputs. The output of the stackedLSTM comes from 128 hidden_layer, and in each time step(=20), one of them get activated. we use the linear activation to map the 128 hidden layer to a [30X20 matrix]\n"
   ]
  },
  {
   "cell_type": "code",
   "execution_count": 25,
   "metadata": {},
   "outputs": [],
   "source": [
    "outputs = layer(inputs)"
   ]
  },
  {
   "cell_type": "code",
   "execution_count": 26,
   "metadata": {},
   "outputs": [
    {
     "data": {
      "text/plain": [
       "<tf.Tensor: shape=(30, 20, 128), dtype=float32, numpy=\n",
       "array([[[-7.97744433e-04, -2.62591115e-04,  4.71971667e-04, ...,\n",
       "          6.36648445e-04, -1.04013819e-03,  8.45375471e-05],\n",
       "        [-1.97892496e-03, -2.75595783e-04,  5.84314519e-04, ...,\n",
       "          1.04158193e-04, -1.34817208e-03,  1.74865374e-04],\n",
       "        [-1.21756562e-03,  3.90323985e-04,  2.31516897e-05, ...,\n",
       "          1.08143846e-04, -4.49544343e-04,  4.07022744e-04],\n",
       "        ...,\n",
       "        [-6.33149082e-03, -9.01319960e-04, -1.06876215e-03, ...,\n",
       "         -9.65383556e-03, -4.05552844e-03, -5.23467176e-03],\n",
       "        [-5.93953580e-03, -1.02264120e-03, -4.17371484e-04, ...,\n",
       "         -8.72568041e-03, -5.33229532e-03, -4.44535026e-03],\n",
       "        [-5.14250156e-03, -1.15977926e-03,  9.58010205e-04, ...,\n",
       "         -7.71895330e-03, -8.05096049e-03, -3.56542110e-03]],\n",
       "\n",
       "       [[-9.00077430e-06, -1.37412176e-03,  1.05308555e-03, ...,\n",
       "          7.83272990e-05, -1.69395166e-03, -7.64037657e-04],\n",
       "        [-4.70766769e-04, -2.93313409e-03,  1.45725964e-03, ...,\n",
       "         -2.88776209e-04, -2.94078351e-03, -8.90415919e-04],\n",
       "        [ 2.00256254e-04, -3.06978426e-03,  1.65208557e-03, ...,\n",
       "         -8.81929940e-04, -3.52417561e-03, -3.75452946e-04],\n",
       "        ...,\n",
       "        [ 5.87802799e-03, -5.43361204e-03,  5.43685863e-04, ...,\n",
       "         -3.78202181e-03,  1.78432569e-03,  9.14264296e-04],\n",
       "        [ 6.54424820e-03, -4.80864197e-03,  1.14321499e-03, ...,\n",
       "         -4.94793104e-03,  1.12409855e-03, -9.85396837e-05],\n",
       "        [ 8.40568356e-03, -4.38115699e-03,  2.07489124e-03, ...,\n",
       "         -4.93853772e-03, -7.71946565e-04, -1.16411375e-03]],\n",
       "\n",
       "       [[ 8.80969281e-04, -1.59877614e-04,  4.22774989e-04, ...,\n",
       "          5.46232157e-04,  8.81888613e-04, -1.38216431e-03],\n",
       "        [ 5.21813810e-04, -8.39058659e-04,  1.21488201e-03, ...,\n",
       "          2.24062591e-04,  1.62823219e-03, -1.53534545e-03],\n",
       "        [ 1.44987239e-03, -1.45595032e-03,  8.84864421e-04, ...,\n",
       "          5.94910292e-04,  3.40104685e-03, -1.78751978e-03],\n",
       "        ...,\n",
       "        [ 7.23309675e-03,  3.21649131e-03,  4.02014593e-05, ...,\n",
       "          3.17496248e-03,  2.86475383e-03, -4.67647985e-03],\n",
       "        [ 7.07862666e-03,  2.54758610e-03, -8.55681428e-04, ...,\n",
       "          4.05378174e-03,  3.10046738e-03, -4.60367929e-03],\n",
       "        [ 8.02616403e-03,  1.28035166e-03, -1.30374311e-03, ...,\n",
       "          4.32190113e-03,  2.34987610e-03, -5.61351562e-03]],\n",
       "\n",
       "       ...,\n",
       "\n",
       "       [[ 1.38087664e-03,  2.97433900e-04,  5.63062495e-04, ...,\n",
       "          1.32513628e-03, -9.71750007e-04,  5.37370797e-04],\n",
       "        [ 5.34703257e-04, -1.24461809e-03,  1.14066665e-04, ...,\n",
       "          1.21895911e-03, -1.68325310e-03,  3.03520937e-04],\n",
       "        [-1.52261672e-03, -8.35472601e-04, -1.16759853e-03, ...,\n",
       "          5.86910348e-04, -3.37607111e-03, -1.12074392e-03],\n",
       "        ...,\n",
       "        [-3.97081050e-04, -3.91081627e-03, -3.46599938e-03, ...,\n",
       "          4.39290749e-03, -8.32096767e-03, -4.11738362e-03],\n",
       "        [ 2.11670194e-04, -1.91009638e-03, -2.58077239e-03, ...,\n",
       "          5.89685747e-03, -7.71980314e-03, -2.67538056e-03],\n",
       "        [ 9.45911452e-04,  5.10827871e-04, -3.67985107e-03, ...,\n",
       "          6.82992581e-03, -5.86956460e-03, -1.93836587e-03]],\n",
       "\n",
       "       [[-6.99177908e-04, -7.22113647e-04,  1.27129129e-03, ...,\n",
       "         -1.11681045e-04, -4.60447598e-04, -7.94746215e-04],\n",
       "        [-3.60161037e-04,  4.89065307e-04,  1.97086972e-03, ...,\n",
       "          6.56797420e-05, -3.89123481e-04, -7.94112799e-04],\n",
       "        [ 6.38868834e-04,  1.13793125e-03,  1.60570780e-03, ...,\n",
       "          5.21406299e-04,  9.70143534e-04, -9.84277227e-04],\n",
       "        ...,\n",
       "        [ 3.16365832e-03,  9.15806368e-03, -3.70282191e-03, ...,\n",
       "          6.23577693e-03, -3.36873275e-03, -8.28582619e-04],\n",
       "        [ 1.47110398e-03,  7.98488781e-03, -3.59737175e-03, ...,\n",
       "          5.67349605e-03, -4.37100744e-03, -1.00283138e-03],\n",
       "        [ 1.12848578e-03,  6.61817193e-03, -3.12275137e-03, ...,\n",
       "          5.76842064e-03, -5.27143152e-03, -8.59199150e-04]],\n",
       "\n",
       "       [[ 7.97294371e-04,  8.80688138e-04,  9.33722011e-04, ...,\n",
       "         -3.22715961e-04, -3.50038317e-04,  1.12082584e-04],\n",
       "        [ 1.21667364e-03,  4.20122145e-04,  2.76545645e-03, ...,\n",
       "         -5.46979369e-04,  9.19664817e-05, -9.79871838e-04],\n",
       "        [ 8.52233323e-04,  2.32277394e-04,  4.41360148e-03, ...,\n",
       "         -1.48974906e-03, -1.34454633e-03, -1.85355870e-03],\n",
       "        ...,\n",
       "        [-3.90740432e-04,  8.81201215e-03, -4.12091985e-03, ...,\n",
       "          2.29299098e-04,  1.32484152e-03, -2.07292056e-03],\n",
       "        [-5.10429731e-04,  9.49269813e-03, -5.20337885e-03, ...,\n",
       "          6.15161320e-04,  3.99580132e-03, -2.11594556e-03],\n",
       "        [-1.86223933e-03,  9.40235145e-03, -4.81271837e-03, ...,\n",
       "          1.36092177e-03,  4.90915263e-03, -2.38819746e-03]]],\n",
       "      dtype=float32)>"
      ]
     },
     "execution_count": 26,
     "metadata": {},
     "output_type": "execute_result"
    }
   ],
   "source": [
    "outputs"
   ]
  },
  {
   "cell_type": "markdown",
   "metadata": {},
   "source": [
    "<h2>Dense layer</h2>\n",
    "We now create densely-connected neural network layer that would reshape the outputs tensor from  [30 x 20 x 128] to [30 x 20 x 10000].\n"
   ]
  },
  {
   "cell_type": "code",
   "execution_count": 27,
   "metadata": {},
   "outputs": [],
   "source": [
    "dense = tf.keras.layers.Dense(vocab_size)"
   ]
  },
  {
   "cell_type": "code",
   "execution_count": 28,
   "metadata": {},
   "outputs": [],
   "source": [
    "logits_outputs  = dense(outputs)"
   ]
  },
  {
   "cell_type": "code",
   "execution_count": 29,
   "metadata": {},
   "outputs": [
    {
     "name": "stdout",
     "output_type": "stream",
     "text": [
      "shape of the output from dense layer:  (30, 20, 10000)\n"
     ]
    }
   ],
   "source": [
    "print(\"shape of the output from dense layer: \", logits_outputs.shape) #(batch_size, sequence_length, vocab_size)"
   ]
  },
  {
   "cell_type": "markdown",
   "metadata": {},
   "source": [
    "<h2>Activation layer</h2>\n",
    "\n",
    "\n",
    "A softmax activation layers is also then applied to derive the probability of the output being in any of the multiclass(10000 in this case) possibilities. \n"
   ]
  },
  {
   "cell_type": "code",
   "execution_count": 30,
   "metadata": {},
   "outputs": [],
   "source": [
    "activation = tf.keras.layers.Activation('softmax')"
   ]
  },
  {
   "cell_type": "code",
   "execution_count": 31,
   "metadata": {},
   "outputs": [],
   "source": [
    "output_words_prob = activation(logits_outputs)"
   ]
  },
  {
   "cell_type": "code",
   "execution_count": 32,
   "metadata": {},
   "outputs": [
    {
     "name": "stdout",
     "output_type": "stream",
     "text": [
      "shape of the output from the activation layer:  (30, 20, 10000)\n"
     ]
    }
   ],
   "source": [
    "print(\"shape of the output from the activation layer: \", output_words_prob.shape) #(batch_size, sequence_length, vocab_size)"
   ]
  },
  {
   "cell_type": "markdown",
   "metadata": {},
   "source": [
    "Lets look at the probability of observing words for t=0 to t=20:\n"
   ]
  },
  {
   "cell_type": "code",
   "execution_count": 33,
   "metadata": {},
   "outputs": [
    {
     "name": "stdout",
     "output_type": "stream",
     "text": [
      "The probability of observing words in t=0 to t=20 tf.Tensor(\n",
      "[[9.99895783e-05 9.99866461e-05 1.00019628e-04 ... 9.99836702e-05\n",
      "  1.00002326e-04 9.99772892e-05]\n",
      " [9.99928452e-05 9.99753611e-05 1.00025311e-04 ... 9.99950353e-05\n",
      "  9.99990516e-05 9.99630865e-05]\n",
      " [9.99865515e-05 9.99873519e-05 1.00024590e-04 ... 9.99841359e-05\n",
      "  9.99792246e-05 9.99708936e-05]\n",
      " ...\n",
      " [1.00038895e-04 1.00007412e-04 9.99757031e-05 ... 9.99696931e-05\n",
      "  9.99856129e-05 1.00055411e-04]\n",
      " [1.00016972e-04 9.99812619e-05 9.99904951e-05 ... 9.99589320e-05\n",
      "  9.99838594e-05 1.00056583e-04]\n",
      " [9.99872718e-05 9.99317854e-05 1.00011304e-04 ... 9.99366603e-05\n",
      "  9.99925469e-05 1.00059289e-04]], shape=(20, 10000), dtype=float32)\n"
     ]
    }
   ],
   "source": [
    "print(\"The probability of observing words in t=0 to t=20\", output_words_prob[0,0:num_steps])"
   ]
  },
  {
   "cell_type": "markdown",
   "metadata": {},
   "source": [
    "<h3>Prediction</h3>\n",
    "What is the word correspond to the probability output? Lets use the maximum probability:\n"
   ]
  },
  {
   "cell_type": "code",
   "execution_count": 34,
   "metadata": {},
   "outputs": [
    {
     "data": {
      "text/plain": [
       "array([1696, 5648, 4817, 4817,  819, 2801, 2801, 2801, 2801, 2801, 3479,\n",
       "       2465, 2465, 4319, 4319, 5157, 5157, 9887, 9887, 2003])"
      ]
     },
     "execution_count": 34,
     "metadata": {},
     "output_type": "execute_result"
    }
   ],
   "source": [
    "np.argmax(output_words_prob[0,0:num_steps], axis=1)"
   ]
  },
  {
   "cell_type": "markdown",
   "metadata": {},
   "source": [
    "So, what is the ground truth for the first word of first sentence? You can get it from target tensor, if you want to find the embedding vector: \n"
   ]
  },
  {
   "cell_type": "code",
   "execution_count": 35,
   "metadata": {},
   "outputs": [
    {
     "data": {
      "text/plain": [
       "array([9971, 9972, 9974, 9975, 9976, 9980, 9981, 9982, 9983, 9984, 9986,\n",
       "       9987, 9988, 9989, 9991, 9992, 9993, 9994, 9995, 9996], dtype=int32)"
      ]
     },
     "execution_count": 35,
     "metadata": {},
     "output_type": "execute_result"
    }
   ],
   "source": [
    "_targets[0]"
   ]
  },
  {
   "cell_type": "markdown",
   "metadata": {},
   "source": [
    "<h4>Objective function</h4>\n",
    "\n",
    "\n",
    "How similar the predicted words are to the target words?\n",
    "\n",
    "\n",
    "Now we have to define our objective function, to calculate the similarity of predicted values to ground truth, and then, penalize the model with the error. Our objective is to minimize loss function, that is, to minimize the average negative log probability of the target words:\n",
    "\n",
    "$$\\text{loss} = -\\frac{1}{N}\\sum_{i=1}^{N} \\ln p_{\\text{target}_i}$$\n",
    "\n",
    "This function is already implemented and available in TensorFlow through *tf.keras.losses.sparse_categorical_crossentropy*. It calculates the categorical cross-entropy loss for <b>logits</b> and the <b>target</b> sequence.  \n",
    "\n",
    "The arguments of this function are:  \n",
    "<ul>\n",
    "    <li>logits: List of 2D Tensors of shape [batch_size x num_decoder_symbols].</li>  \n",
    "    <li>targets: List of 1D batch-sized int32 Tensors of the same length as logits.</li>   \n",
    "</ul>\n"
   ]
  },
  {
   "cell_type": "code",
   "execution_count": 36,
   "metadata": {},
   "outputs": [],
   "source": [
    "def crossentropy(y_true, y_pred):\n",
    "    return tf.keras.losses.sparse_categorical_crossentropy(y_true, y_pred)"
   ]
  },
  {
   "cell_type": "code",
   "execution_count": 37,
   "metadata": {},
   "outputs": [],
   "source": [
    "loss  = crossentropy(_targets, output_words_prob)"
   ]
  },
  {
   "cell_type": "markdown",
   "metadata": {},
   "source": [
    "Lets look at the first 10 values of loss:\n"
   ]
  },
  {
   "cell_type": "code",
   "execution_count": 38,
   "metadata": {},
   "outputs": [
    {
     "data": {
      "text/plain": [
       "<tf.Tensor: shape=(10,), dtype=float32, numpy=\n",
       "array([9.210492, 9.210819, 9.21027 , 9.210068, 9.21    , 9.209824,\n",
       "       9.211011, 9.210361, 9.210326, 9.209524], dtype=float32)>"
      ]
     },
     "execution_count": 38,
     "metadata": {},
     "output_type": "execute_result"
    }
   ],
   "source": [
    "loss[0,:10]"
   ]
  },
  {
   "cell_type": "markdown",
   "metadata": {},
   "source": [
    "Now, we define cost as average of the losses:\n"
   ]
  },
  {
   "cell_type": "code",
   "execution_count": 39,
   "metadata": {},
   "outputs": [
    {
     "data": {
      "text/plain": [
       "<tf.Tensor: shape=(), dtype=float32, numpy=184.20557>"
      ]
     },
     "execution_count": 39,
     "metadata": {},
     "output_type": "execute_result"
    }
   ],
   "source": [
    "cost = tf.reduce_sum(loss / batch_size)\n",
    "cost"
   ]
  },
  {
   "cell_type": "markdown",
   "metadata": {},
   "source": [
    "<h3>Training</h3>\n",
    "\n",
    "To do training for our network, we have to take the following steps:\n",
    "<ol>\n",
    "    <li>Define the optimizer.</li>\n",
    "    <li>Assemble layers to build model.</li>\n",
    "    <li>Calculate the gradients based on the loss function.</li>\n",
    "    <li>Apply the optimizer to the variables/gradients tuple.</li>\n",
    "</ol>\n"
   ]
  },
  {
   "cell_type": "markdown",
   "metadata": {},
   "source": [
    "<h4>1. Define Optimizer</h4>\n",
    "\n"
   ]
  },
  {
   "cell_type": "code",
   "execution_count": 40,
   "metadata": {},
   "outputs": [
    {
     "name": "stderr",
     "output_type": "stream",
     "text": [
      "/home/jupyterlab/conda/envs/python/lib/python3.7/site-packages/keras/optimizers/optimizer_v2/gradient_descent.py:108: UserWarning: The `lr` argument is deprecated, use `learning_rate` instead.\n",
      "  super(SGD, self).__init__(name, **kwargs)\n"
     ]
    }
   ],
   "source": [
    "# Create a variable for the learning rate\n",
    "lr = tf.Variable(0.0, trainable=False)\n",
    "optimizer = tf.keras.optimizers.SGD(lr=lr, clipnorm=max_grad_norm)"
   ]
  },
  {
   "cell_type": "markdown",
   "metadata": {},
   "source": [
    "<h4>2. Assemble layers to build model.</h4>\n"
   ]
  },
  {
   "cell_type": "code",
   "execution_count": 41,
   "metadata": {},
   "outputs": [
    {
     "name": "stdout",
     "output_type": "stream",
     "text": [
      "Model: \"sequential\"\n",
      "_________________________________________________________________\n",
      " Layer (type)                Output Shape              Param #   \n",
      "=================================================================\n",
      " embedding_vocab (Embedding)  (30, 20, 200)            2000000   \n",
      "                                                                 \n",
      " rnn (RNN)                   (30, 20, 128)             671088    \n",
      "                                                                 \n",
      " dense (Dense)               (30, 20, 10000)           1290000   \n",
      "                                                                 \n",
      " activation (Activation)     (30, 20, 10000)           0         \n",
      "                                                                 \n",
      "=================================================================\n",
      "Total params: 3,961,088\n",
      "Trainable params: 3,955,088\n",
      "Non-trainable params: 6,000\n",
      "_________________________________________________________________\n"
     ]
    }
   ],
   "source": [
    "model = tf.keras.Sequential()\n",
    "model.add(embedding_layer)\n",
    "model.add(layer)\n",
    "model.add(dense)\n",
    "model.add(activation)\n",
    "model.compile(loss=crossentropy, optimizer=optimizer)\n",
    "model.summary()"
   ]
  },
  {
   "cell_type": "markdown",
   "metadata": {},
   "source": [
    "\n",
    "<h4>2. Trainable Variables</h4>\n"
   ]
  },
  {
   "cell_type": "markdown",
   "metadata": {},
   "source": [
    "Defining a variable, if you passed <i>trainable=True</i>, the variable constructor automatically adds new variables to the graph collection <b>GraphKeys.TRAINABLE_VARIABLES</b>. Now, using <i>tf.trainable_variables()</i> you can get all variables created with <b>trainable=True</b>.\n"
   ]
  },
  {
   "cell_type": "code",
   "execution_count": 42,
   "metadata": {},
   "outputs": [],
   "source": [
    "# Get all TensorFlow variables marked as \"trainable\" (i.e. all of them except _lr, which we just created)\n",
    "tvars = model.trainable_variables"
   ]
  },
  {
   "cell_type": "markdown",
   "metadata": {},
   "source": [
    "Note: we can find the name and scope of all variables:\n"
   ]
  },
  {
   "cell_type": "code",
   "execution_count": 43,
   "metadata": {},
   "outputs": [
    {
     "data": {
      "text/plain": [
       "['embedding_vocab/embeddings:0',\n",
       " 'rnn/stacked_rnn_cells/lstm_cell/kernel:0',\n",
       " 'rnn/stacked_rnn_cells/lstm_cell/recurrent_kernel:0',\n",
       " 'rnn/stacked_rnn_cells/lstm_cell/bias:0',\n",
       " 'rnn/stacked_rnn_cells/lstm_cell_1/kernel:0',\n",
       " 'rnn/stacked_rnn_cells/lstm_cell_1/recurrent_kernel:0',\n",
       " 'rnn/stacked_rnn_cells/lstm_cell_1/bias:0',\n",
       " 'dense/kernel:0',\n",
       " 'dense/bias:0']"
      ]
     },
     "execution_count": 43,
     "metadata": {},
     "output_type": "execute_result"
    }
   ],
   "source": [
    "[v.name for v in tvars]"
   ]
  },
  {
   "cell_type": "markdown",
   "metadata": {},
   "source": [
    "<h4>3. Calculate the gradients based on the loss function</h4>\n"
   ]
  },
  {
   "cell_type": "markdown",
   "metadata": {},
   "source": [
    "**Gradient**: The gradient of a function is the slope of its derivative (line), or in other words, the rate of change of a function. It's a vector (a direction to move) that points in the direction of greatest increase of the function, and calculated by the <b>derivative</b> operation.\n"
   ]
  },
  {
   "cell_type": "markdown",
   "metadata": {},
   "source": [
    "First lets recall the gradient function using an toy example:\n",
    "$$ z = \\left(2x^2 + 3xy\\right)$$\n"
   ]
  },
  {
   "cell_type": "code",
   "execution_count": 44,
   "metadata": {},
   "outputs": [],
   "source": [
    "x = tf.constant(1.0)\n",
    "y =  tf.constant(2.0)\n",
    "with tf.GradientTape(persistent=True) as g:\n",
    "    g.watch(x)\n",
    "    g.watch(y)\n",
    "    func_test = 2 * x * x + 3 * x * y"
   ]
  },
  {
   "cell_type": "markdown",
   "metadata": {},
   "source": [
    "The <b>tf.gradients()</b> function allows you to compute the symbolic gradient of one tensor with respect to one or more other tensors—including variables. <b>tf.gradients(func, xs)</b> constructs symbolic partial derivatives of sum of <b>func</b> w.r.t. <i>x</i> in <b>xs</b>. \n",
    "\n",
    "Now, lets look at the derivitive w.r.t. <b>var_x</b>:\n",
    "$$ \\frac{\\partial \\:}{\\partial \\:x}\\left(2x^2 + 3xy\\right) = 4x + 3y $$\n"
   ]
  },
  {
   "cell_type": "code",
   "execution_count": 45,
   "metadata": {},
   "outputs": [
    {
     "name": "stdout",
     "output_type": "stream",
     "text": [
      "tf.Tensor(10.0, shape=(), dtype=float32)\n"
     ]
    }
   ],
   "source": [
    "var_grad = g.gradient(func_test, x) # Will compute to 10.0\n",
    "print(var_grad)"
   ]
  },
  {
   "cell_type": "markdown",
   "metadata": {},
   "source": [
    "the derivative w.r.t. <b>var_y</b>:\n",
    "$$ \\frac{\\partial \\:}{\\partial \\:y}\\left(2x^2 + 3xy\\right) = 3x $$\n"
   ]
  },
  {
   "cell_type": "code",
   "execution_count": 46,
   "metadata": {},
   "outputs": [
    {
     "name": "stdout",
     "output_type": "stream",
     "text": [
      "tf.Tensor(3.0, shape=(), dtype=float32)\n"
     ]
    }
   ],
   "source": [
    "var_grad = g.gradient(func_test, y) # Will compute to 3.0\n",
    "print(var_grad)"
   ]
  },
  {
   "cell_type": "markdown",
   "metadata": {},
   "source": [
    "Now, we can look at gradients w.r.t all variables:\n"
   ]
  },
  {
   "cell_type": "code",
   "execution_count": 47,
   "metadata": {},
   "outputs": [],
   "source": [
    "with tf.GradientTape() as tape:\n",
    "    # Forward pass.\n",
    "    output_words_prob = model(_input_data)\n",
    "    # Loss value for this batch.\n",
    "    loss  = crossentropy(_targets, output_words_prob)\n",
    "    cost = tf.reduce_sum(loss,axis=0) / batch_size"
   ]
  },
  {
   "cell_type": "code",
   "execution_count": 48,
   "metadata": {},
   "outputs": [],
   "source": [
    "# Get gradients of loss wrt the trainable variables.\n",
    "grad_t_list = tape.gradient(cost, tvars)"
   ]
  },
  {
   "cell_type": "code",
   "execution_count": 49,
   "metadata": {},
   "outputs": [
    {
     "name": "stdout",
     "output_type": "stream",
     "text": [
      "[<tensorflow.python.framework.indexed_slices.IndexedSlices object at 0x7f58accfd090>, <tf.Tensor: shape=(200, 1024), dtype=float32, numpy=\n",
      "array([[-7.97916471e-08, -1.84975150e-07,  1.36221061e-08, ...,\n",
      "        -1.09379448e-06,  1.70786450e-07,  2.56012470e-07],\n",
      "       [-8.12820744e-08, -4.67654786e-07, -1.04843025e-07, ...,\n",
      "         4.34787950e-07,  8.03136260e-08, -7.74237719e-07],\n",
      "       [-5.22149321e-07,  6.25347809e-07, -6.14259591e-07, ...,\n",
      "        -3.03679712e-08,  7.24078930e-08,  5.13738883e-07],\n",
      "       ...,\n",
      "       [ 2.43543752e-07, -2.48517665e-07, -3.02447845e-09, ...,\n",
      "        -1.36189215e-07, -2.16949303e-08, -6.29577073e-07],\n",
      "       [-2.38992186e-08,  1.58459670e-07,  3.59680939e-07, ...,\n",
      "         8.42914574e-08, -1.64544758e-07, -3.71595434e-07],\n",
      "       [ 4.45403941e-07,  2.43467184e-07,  6.32681463e-09, ...,\n",
      "         3.02616542e-07,  6.99680697e-07,  1.59352254e-07]], dtype=float32)>, <tf.Tensor: shape=(256, 1024), dtype=float32, numpy=\n",
      "array([[-7.6702392e-08,  1.8345002e-08, -2.0374285e-08, ...,\n",
      "         1.5888759e-08,  3.7002508e-08,  1.1193549e-08],\n",
      "       [-4.6614382e-08,  2.1008192e-07, -4.4418749e-07, ...,\n",
      "        -1.7045967e-07,  9.4305479e-09, -8.9816474e-09],\n",
      "       [ 8.7883762e-08, -6.4333705e-08, -2.9097879e-07, ...,\n",
      "        -1.2695382e-07, -1.6588726e-07,  2.7584878e-07],\n",
      "       ...,\n",
      "       [-2.8253146e-07, -2.9031835e-07, -8.2584179e-09, ...,\n",
      "        -6.5002200e-07, -3.5969663e-08,  1.4089963e-07],\n",
      "       [ 8.5923261e-08,  1.0876066e-07,  3.7228841e-07, ...,\n",
      "        -1.8427038e-08,  3.3295780e-07,  1.1135257e-07],\n",
      "       [-1.5609938e-08, -1.3852581e-07, -5.6775072e-08, ...,\n",
      "        -2.1772493e-07, -1.7742595e-07,  4.1742376e-07]], dtype=float32)>, <tf.Tensor: shape=(1024,), dtype=float32, numpy=\n",
      "array([-1.3030046e-06, -5.0423660e-06, -4.2733456e-05, ...,\n",
      "       -1.7136270e-05, -2.6794882e-05,  3.0693744e-05], dtype=float32)>, <tf.Tensor: shape=(256, 512), dtype=float32, numpy=\n",
      "array([[ 3.86456321e-07, -1.41855978e-07,  4.11102121e-08, ...,\n",
      "         9.69574998e-08, -3.05391154e-07, -1.53695879e-07],\n",
      "       [-9.16997237e-07,  5.08311526e-09, -1.28208100e-07, ...,\n",
      "         3.25772447e-07,  6.41802899e-07,  3.24977862e-07],\n",
      "       [-8.09563403e-07,  3.52505424e-07,  6.20585396e-08, ...,\n",
      "         3.39726398e-08,  4.81821644e-07,  3.04892865e-07],\n",
      "       ...,\n",
      "       [-9.18642627e-07, -4.50032900e-08, -9.05125574e-08, ...,\n",
      "         7.48993330e-08,  8.85920883e-07,  2.43654426e-07],\n",
      "       [ 4.70361243e-07, -3.48645699e-07, -1.14535666e-07, ...,\n",
      "        -3.02569106e-07, -8.40613552e-08, -2.70231283e-07],\n",
      "       [-9.81683115e-07,  2.43424779e-07, -2.24135320e-07, ...,\n",
      "         4.67106929e-07,  9.75565968e-07,  1.93794051e-07]], dtype=float32)>, <tf.Tensor: shape=(128, 512), dtype=float32, numpy=\n",
      "array([[-1.3385651e-06,  1.6087897e-07, -1.2651223e-07, ...,\n",
      "         3.8726205e-07,  7.1824638e-07,  2.5771297e-07],\n",
      "       [-7.8552091e-07,  3.9357303e-07, -6.5087924e-08, ...,\n",
      "         1.2547272e-07,  4.6880541e-07, -2.7213190e-08],\n",
      "       [-1.7230496e-07, -7.6230648e-08,  1.0229101e-08, ...,\n",
      "        -1.2810801e-08,  1.0740969e-07,  9.0859800e-09],\n",
      "       ...,\n",
      "       [-4.4702682e-07, -8.2207734e-08, -6.4373161e-08, ...,\n",
      "         2.6573176e-07,  4.4105343e-07,  1.7380636e-07],\n",
      "       [-9.9689669e-07,  3.0062006e-07, -3.9755580e-08, ...,\n",
      "         2.8431703e-07,  9.0544802e-07,  1.9871339e-07],\n",
      "       [ 7.1228544e-07, -1.9799316e-07,  2.8586147e-08, ...,\n",
      "        -8.1941408e-08, -2.8699372e-07, -4.5556772e-07]], dtype=float32)>, <tf.Tensor: shape=(512,), dtype=float32, numpy=\n",
      "array([-1.26014696e-04,  3.42047497e-05, -2.26498523e-05,  4.52430613e-05,\n",
      "       -1.37795832e-05, -5.71690180e-07,  1.22862830e-05,  6.17034721e-06,\n",
      "       -5.89160882e-05, -1.07191699e-05, -6.29377100e-05, -4.06893487e-05,\n",
      "       -5.65412629e-05,  5.61807428e-06, -3.44013324e-06, -4.26662200e-06,\n",
      "       -1.20245459e-04, -8.01076112e-06, -1.38961695e-05,  5.04246091e-05,\n",
      "        1.28061874e-05,  3.68998590e-05,  6.57513874e-06, -1.25434999e-05,\n",
      "        2.04738099e-05,  4.30095606e-05,  2.98062660e-05, -2.85712304e-05,\n",
      "       -1.25746537e-05, -1.09689536e-05,  5.30793950e-05, -2.93618632e-06,\n",
      "        2.49155164e-06, -2.26366319e-06, -1.25237020e-05,  1.29780838e-05,\n",
      "        2.54339466e-05,  2.16614717e-06, -2.50246921e-05, -1.12294956e-05,\n",
      "        1.36167446e-05, -1.30064931e-04, -4.11495712e-05, -4.18956333e-05,\n",
      "        1.86205398e-07, -2.31853453e-04,  2.52760692e-05, -3.74952870e-05,\n",
      "        3.19466126e-05, -3.67778339e-05, -2.78058251e-05, -2.03885465e-05,\n",
      "       -2.46547279e-06, -2.38967259e-05, -4.84886550e-05,  7.96731729e-06,\n",
      "        1.23212076e-05, -1.55188936e-05,  7.30425700e-06,  3.06114816e-05,\n",
      "       -3.87677246e-05, -6.31075454e-06,  4.79948067e-05, -4.58037903e-05,\n",
      "       -4.49987556e-06, -7.18613519e-05, -1.36912968e-06,  5.43592705e-06,\n",
      "       -2.22398321e-05, -2.78023144e-05,  3.44147047e-05,  9.05118650e-05,\n",
      "       -3.50338996e-05,  5.92714605e-06, -5.87268096e-06,  6.73392860e-05,\n",
      "       -9.84350663e-06, -2.40972531e-06,  3.72302966e-05, -2.48277520e-05,\n",
      "        2.63671118e-05, -7.90034392e-06, -4.25708095e-07, -2.08457914e-05,\n",
      "       -1.75701789e-05, -6.25706571e-06, -9.52169376e-06, -1.96276178e-05,\n",
      "        1.54332884e-06,  5.46207739e-05, -5.39105531e-06, -2.51881720e-05,\n",
      "       -6.33907403e-05, -2.65878261e-05, -2.01843136e-06,  2.28374956e-05,\n",
      "        6.96123789e-06, -1.13233091e-05,  2.77865511e-05, -2.51275032e-05,\n",
      "        6.42870873e-05, -1.37605339e-05,  2.31371132e-06,  6.68569783e-06,\n",
      "        1.62892138e-05, -3.92973452e-05, -4.41656766e-07, -2.28125718e-05,\n",
      "       -2.43797112e-05, -8.39862696e-05, -1.02678250e-05,  1.60178661e-06,\n",
      "       -4.70385021e-05,  1.08129052e-05, -6.43380481e-05, -3.96056748e-06,\n",
      "       -2.34202726e-05,  2.08709353e-05, -2.21954542e-05, -5.67220995e-05,\n",
      "        5.96649661e-05, -3.06037009e-06,  1.60557411e-05, -3.16213373e-05,\n",
      "        8.92602293e-06,  5.15946122e-05,  9.51729744e-05,  3.19916944e-05,\n",
      "       -1.74883055e-04,  5.21685324e-05, -1.23376958e-05,  7.35727372e-05,\n",
      "       -1.64021039e-05,  3.61052735e-05,  1.73165026e-05,  1.16045376e-05,\n",
      "       -9.15525598e-05, -1.49747984e-05, -7.54795037e-05, -5.76941238e-05,\n",
      "       -8.57865089e-05,  3.15988618e-05, -5.90859599e-06, -3.22180495e-05,\n",
      "       -1.86322228e-04,  1.30138687e-06, -1.62635915e-05,  6.21781583e-05,\n",
      "        2.39405217e-05,  5.19422501e-05,  1.20827681e-05, -2.20408656e-05,\n",
      "        2.49576715e-05,  6.89063745e-05,  4.34306348e-05, -3.30399198e-05,\n",
      "       -5.75363083e-06,  3.82069738e-05,  7.77624518e-05,  1.20448567e-06,\n",
      "        2.06088662e-05, -1.16220394e-06, -1.40118054e-05,  2.82826859e-05,\n",
      "        1.94711392e-05,  2.13478288e-05, -3.63081272e-05,  2.13676012e-05,\n",
      "        7.98374458e-06, -1.58137351e-04, -5.47646414e-05, -5.36430307e-05,\n",
      "       -2.04977528e-06, -3.18003993e-04,  4.40431904e-05, -3.96842770e-05,\n",
      "        6.40232392e-05, -3.71033966e-05, -4.93846419e-05, -3.36613193e-05,\n",
      "       -1.05095023e-06, -2.95818172e-05, -6.31238800e-05,  1.90993651e-05,\n",
      "        2.29006619e-05,  2.54080624e-06, -2.21456830e-05,  5.83556393e-05,\n",
      "        3.97556505e-07, -1.34569200e-06,  6.63174578e-05, -2.99059102e-05,\n",
      "        2.87443117e-06, -1.01850732e-04,  8.29844612e-06, -4.54442943e-06,\n",
      "       -3.23366985e-05, -4.37563504e-05,  4.19731296e-05,  9.60748221e-05,\n",
      "       -4.93230145e-05, -7.13830377e-06,  1.18785483e-05,  1.03000209e-04,\n",
      "       -3.12408738e-05, -2.21978407e-05,  2.34434629e-05, -1.28046449e-05,\n",
      "        5.63345238e-05,  1.80772422e-05, -4.00264207e-06, -2.86481227e-05,\n",
      "       -1.93725245e-05,  4.07644984e-06, -2.15252512e-05, -2.05005417e-05,\n",
      "        3.26626941e-05,  1.00777521e-04,  1.13315709e-05, -2.87073526e-05,\n",
      "       -4.21431469e-05, -3.75331583e-05,  1.40587554e-05,  1.81824580e-05,\n",
      "       -1.21783305e-05, -1.53141627e-05,  3.17550148e-05, -3.11525837e-05,\n",
      "        6.88669170e-05, -1.11612726e-05,  1.72624677e-05,  1.69100240e-05,\n",
      "        2.74133326e-05, -2.68313706e-05,  1.53152505e-05, -1.09105113e-05,\n",
      "       -5.15746833e-05, -1.15378512e-04, -3.86803640e-06, -6.10667757e-06,\n",
      "       -5.51031262e-05,  1.50631286e-05, -1.14783288e-04,  2.42410388e-05,\n",
      "       -1.83750562e-05,  2.43084251e-05, -4.47690763e-05, -5.58377214e-05,\n",
      "        8.37146799e-05, -1.72205655e-05,  1.88919348e-05, -5.79891785e-05,\n",
      "        2.29273865e-05,  6.94046685e-05,  1.20248493e-04,  7.47150116e-05,\n",
      "       -4.64499630e-02,  1.15239508e-02, -4.51205764e-03, -3.31850424e-02,\n",
      "        1.87124703e-02, -5.73563948e-02,  3.58135253e-02, -1.99763067e-02,\n",
      "       -1.68650281e-02,  1.52512416e-02, -4.55811732e-02,  6.74787955e-03,\n",
      "        5.50129861e-02, -4.52445168e-03, -4.67406632e-03, -2.52638254e-02,\n",
      "        4.54097874e-02,  8.36019963e-03,  2.24753357e-02,  1.78896431e-02,\n",
      "       -1.68123208e-02,  1.39270611e-02,  7.37524964e-03, -4.40559816e-03,\n",
      "       -7.48402439e-03,  4.44478765e-02, -3.27172875e-02,  3.58373625e-04,\n",
      "       -1.91722475e-02, -3.15407440e-02, -4.09742408e-02, -1.70921646e-02,\n",
      "        5.36481179e-02,  1.64038204e-02,  9.21594072e-03,  3.24081630e-02,\n",
      "        3.96806980e-03, -1.69003010e-02, -7.79907964e-03,  4.00382057e-02,\n",
      "        1.48153314e-02,  3.57657336e-02, -4.19337153e-02, -3.30153783e-03,\n",
      "        4.38203253e-02,  5.20380139e-02,  6.78828638e-03,  2.14607641e-02,\n",
      "        9.53320321e-03, -2.74077784e-02, -3.52185294e-02,  1.37860021e-02,\n",
      "       -1.09145474e-02,  9.21961199e-03,  3.79266664e-02, -9.39208828e-03,\n",
      "        4.71945433e-03, -2.76478305e-02, -6.02308055e-03, -1.96029823e-02,\n",
      "        3.10949348e-02,  1.97910108e-02, -2.59672701e-02, -7.65364617e-03,\n",
      "       -4.10968475e-02, -5.83621897e-02, -3.73224691e-02, -7.91593920e-03,\n",
      "       -2.04312447e-02,  2.38761418e-02, -2.74964236e-02, -2.29314938e-02,\n",
      "       -2.65116543e-02, -1.85551867e-03, -3.59875034e-03,  4.63133380e-02,\n",
      "        4.31998409e-02,  2.36092042e-02,  5.56905195e-03, -3.16349640e-02,\n",
      "       -2.77552865e-02, -5.36203734e-04, -2.61735730e-02, -4.88120364e-03,\n",
      "       -2.45221276e-02,  4.01350390e-03, -1.54551612e-02,  1.19638192e-02,\n",
      "        1.57339014e-02,  5.57663664e-02,  1.70693838e-03,  1.35578047e-02,\n",
      "        1.53854601e-02,  1.48060080e-02,  1.98091250e-02, -3.28811333e-02,\n",
      "       -1.52254812e-02, -9.23298998e-04, -5.17787226e-02,  1.14512304e-02,\n",
      "       -5.60834678e-03, -1.87585987e-02,  2.03437563e-02, -1.48025779e-02,\n",
      "       -2.31836503e-03, -2.62577422e-02,  1.54439546e-02,  1.18743349e-02,\n",
      "        4.82134931e-02, -2.44223084e-02,  1.78505816e-02,  1.12953708e-02,\n",
      "        2.10298202e-03, -2.85966266e-02, -3.81286116e-03,  3.45580541e-02,\n",
      "        2.55126804e-02,  2.25112252e-02, -8.23040307e-03,  1.65157970e-02,\n",
      "       -2.33238954e-02,  2.12185346e-02,  3.14853042e-02, -1.80350412e-02,\n",
      "        9.97604337e-03,  2.04162970e-02,  5.95759675e-02, -3.78374606e-02,\n",
      "       -1.44363585e-04,  3.98255506e-05, -1.89267921e-05,  4.57311908e-05,\n",
      "       -2.35651132e-05,  4.42746023e-06,  2.06734112e-05,  2.96897406e-06,\n",
      "       -6.82306272e-05, -6.81830898e-06, -7.81605922e-05, -5.09264355e-05,\n",
      "       -4.89876438e-05,  9.28212467e-06, -7.48719867e-06, -4.46524837e-06,\n",
      "       -1.31230758e-04,  1.77492348e-06, -1.20574223e-05,  6.47499619e-05,\n",
      "        9.23236257e-06,  4.49081635e-05,  8.69784253e-06, -9.02766351e-06,\n",
      "        1.80143797e-05,  5.57735548e-05,  3.40145853e-05, -4.07230109e-05,\n",
      "       -9.86705527e-06, -6.08721894e-06,  6.75992633e-05, -4.97395513e-06,\n",
      "        1.20158256e-06, -3.51976723e-06, -1.68361221e-05,  1.56044207e-05,\n",
      "        2.69744723e-05, -3.31123556e-06, -3.27158050e-05, -1.17613727e-05,\n",
      "        2.21843948e-06, -1.35520226e-04, -4.22960329e-05, -3.35538825e-05,\n",
      "        2.60378420e-06, -2.60312343e-04,  1.83093198e-05, -3.40395854e-05,\n",
      "        4.16758085e-05, -4.50271837e-05, -2.87797920e-05, -1.50206160e-05,\n",
      "        5.47221134e-07, -2.26137709e-05, -5.99611085e-05,  9.12643645e-06,\n",
      "        2.53561338e-05, -1.15498369e-06,  2.73818932e-06,  3.31825395e-05,\n",
      "       -2.64340779e-05, -1.26935520e-05,  5.39815446e-05, -5.18600536e-05,\n",
      "       -5.09571737e-06, -7.27553779e-05,  6.23832784e-06,  6.31347666e-06,\n",
      "       -2.30117857e-05, -3.94400413e-05,  4.12629852e-05,  8.22399743e-05,\n",
      "       -3.49072325e-05,  3.88996341e-06,  1.41915370e-06,  7.22275145e-05,\n",
      "       -7.82268580e-06, -7.65091954e-06,  3.85751919e-05, -2.35370353e-05,\n",
      "        2.49977547e-05, -9.34722539e-06, -4.98990630e-07, -3.11396616e-05,\n",
      "       -2.34631698e-05, -8.25031748e-07, -7.84427175e-06, -2.18497262e-05,\n",
      "        5.49421020e-06,  7.07001454e-05, -8.61490935e-06, -3.28226488e-05,\n",
      "       -5.78854233e-05, -2.36170636e-05,  4.06005802e-06,  2.85587994e-05,\n",
      "        6.87755346e-06, -1.13627493e-05,  3.17284575e-05, -2.90645894e-05,\n",
      "        7.65690638e-05, -1.69964205e-05,  6.61650847e-06,  3.76258413e-06,\n",
      "        1.85462159e-05, -3.91197500e-05, -6.39444806e-06, -1.05407198e-05,\n",
      "       -3.38890459e-05, -9.40086902e-05, -1.24388125e-05,  4.08628694e-07,\n",
      "       -5.83994843e-05,  6.43632347e-06, -8.89747243e-05, -1.97602367e-06,\n",
      "       -2.53165781e-05,  2.43836657e-05, -2.07561661e-05, -6.31051298e-05,\n",
      "        6.66272972e-05, -4.76452306e-06,  8.65541460e-06, -4.42253004e-05,\n",
      "        9.24520555e-06,  5.71881756e-05,  1.05956402e-04,  4.36357441e-05],\n",
      "      dtype=float32)>, <tf.Tensor: shape=(128, 10000), dtype=float32, numpy=\n",
      "array([[-4.5712260e-03, -6.5728594e-03, -4.7834138e-03, ...,\n",
      "         9.0450039e-06,  9.0343601e-06,  9.0471203e-06],\n",
      "       [-1.7119888e-03, -3.1051326e-03, -2.6795238e-03, ...,\n",
      "         4.0656068e-06,  4.0593172e-06,  4.0666118e-06],\n",
      "       [-7.9132279e-04, -5.1479577e-04,  2.9847317e-04, ...,\n",
      "         2.5760136e-07,  2.5681783e-07,  2.5838534e-07],\n",
      "       ...,\n",
      "       [-2.4457604e-03, -3.0171056e-03, -1.5367945e-03, ...,\n",
      "         3.1265490e-06,  3.1231743e-06,  3.1280047e-06],\n",
      "       [-3.4257532e-03, -5.1656626e-03, -3.5807854e-03, ...,\n",
      "         5.1644247e-06,  5.1571556e-06,  5.1671086e-06],\n",
      "       [ 1.7563639e-03,  2.2874274e-03,  2.0709168e-03, ...,\n",
      "        -3.7130371e-06, -3.7080940e-06, -3.7153245e-06]], dtype=float32)>, <tf.Tensor: shape=(10000,), dtype=float32, numpy=\n",
      "array([-0.79799795, -1.0313315 , -1.0313314 , ...,  0.00200031,\n",
      "        0.00199874,  0.00200055], dtype=float32)>]\n"
     ]
    }
   ],
   "source": [
    "print(grad_t_list)"
   ]
  },
  {
   "cell_type": "markdown",
   "metadata": {},
   "source": [
    "\n",
    "\n",
    "\n",
    "now, we have a list of tensors, t-list. We can use it to find clipped tensors. <b>clip_by_global_norm</b> clips values of multiple tensors by the ratio of the sum of their norms.\n",
    "\n",
    "<b>clip_by_global_norm</b> get <i>t-list</i> as input and returns 2 things:\n",
    "<ul>\n",
    "    <li>a list of clipped tensors, so called <i>list_clipped</i></li> \n",
    "    <li>the global norm (global_norm) of all tensors in t_list</li> \n",
    "</ul>\n"
   ]
  },
  {
   "cell_type": "code",
   "execution_count": 50,
   "metadata": {},
   "outputs": [
    {
     "data": {
      "text/plain": [
       "[<tensorflow.python.framework.indexed_slices.IndexedSlices at 0x7f58accfe510>,\n",
       " <tf.Tensor: shape=(200, 1024), dtype=float32, numpy=\n",
       " array([[-7.97916471e-08, -1.84975150e-07,  1.36221061e-08, ...,\n",
       "         -1.09379448e-06,  1.70786450e-07,  2.56012470e-07],\n",
       "        [-8.12820744e-08, -4.67654786e-07, -1.04843025e-07, ...,\n",
       "          4.34787950e-07,  8.03136260e-08, -7.74237719e-07],\n",
       "        [-5.22149321e-07,  6.25347809e-07, -6.14259591e-07, ...,\n",
       "         -3.03679712e-08,  7.24078930e-08,  5.13738883e-07],\n",
       "        ...,\n",
       "        [ 2.43543752e-07, -2.48517665e-07, -3.02447845e-09, ...,\n",
       "         -1.36189215e-07, -2.16949303e-08, -6.29577073e-07],\n",
       "        [-2.38992186e-08,  1.58459670e-07,  3.59680939e-07, ...,\n",
       "          8.42914574e-08, -1.64544758e-07, -3.71595434e-07],\n",
       "        [ 4.45403941e-07,  2.43467184e-07,  6.32681463e-09, ...,\n",
       "          3.02616542e-07,  6.99680697e-07,  1.59352254e-07]], dtype=float32)>,\n",
       " <tf.Tensor: shape=(256, 1024), dtype=float32, numpy=\n",
       " array([[-7.6702392e-08,  1.8345002e-08, -2.0374285e-08, ...,\n",
       "          1.5888759e-08,  3.7002508e-08,  1.1193549e-08],\n",
       "        [-4.6614382e-08,  2.1008192e-07, -4.4418749e-07, ...,\n",
       "         -1.7045967e-07,  9.4305479e-09, -8.9816474e-09],\n",
       "        [ 8.7883762e-08, -6.4333705e-08, -2.9097879e-07, ...,\n",
       "         -1.2695382e-07, -1.6588726e-07,  2.7584878e-07],\n",
       "        ...,\n",
       "        [-2.8253146e-07, -2.9031835e-07, -8.2584179e-09, ...,\n",
       "         -6.5002200e-07, -3.5969663e-08,  1.4089963e-07],\n",
       "        [ 8.5923261e-08,  1.0876066e-07,  3.7228841e-07, ...,\n",
       "         -1.8427038e-08,  3.3295780e-07,  1.1135257e-07],\n",
       "        [-1.5609938e-08, -1.3852581e-07, -5.6775072e-08, ...,\n",
       "         -2.1772493e-07, -1.7742595e-07,  4.1742376e-07]], dtype=float32)>,\n",
       " <tf.Tensor: shape=(1024,), dtype=float32, numpy=\n",
       " array([-1.3030046e-06, -5.0423660e-06, -4.2733456e-05, ...,\n",
       "        -1.7136270e-05, -2.6794882e-05,  3.0693744e-05], dtype=float32)>,\n",
       " <tf.Tensor: shape=(256, 512), dtype=float32, numpy=\n",
       " array([[ 3.86456321e-07, -1.41855978e-07,  4.11102121e-08, ...,\n",
       "          9.69574998e-08, -3.05391154e-07, -1.53695879e-07],\n",
       "        [-9.16997237e-07,  5.08311526e-09, -1.28208100e-07, ...,\n",
       "          3.25772447e-07,  6.41802899e-07,  3.24977862e-07],\n",
       "        [-8.09563403e-07,  3.52505424e-07,  6.20585396e-08, ...,\n",
       "          3.39726398e-08,  4.81821644e-07,  3.04892865e-07],\n",
       "        ...,\n",
       "        [-9.18642627e-07, -4.50032900e-08, -9.05125574e-08, ...,\n",
       "          7.48993330e-08,  8.85920883e-07,  2.43654426e-07],\n",
       "        [ 4.70361243e-07, -3.48645699e-07, -1.14535666e-07, ...,\n",
       "         -3.02569106e-07, -8.40613552e-08, -2.70231283e-07],\n",
       "        [-9.81683115e-07,  2.43424779e-07, -2.24135320e-07, ...,\n",
       "          4.67106929e-07,  9.75565968e-07,  1.93794051e-07]], dtype=float32)>,\n",
       " <tf.Tensor: shape=(128, 512), dtype=float32, numpy=\n",
       " array([[-1.3385651e-06,  1.6087897e-07, -1.2651223e-07, ...,\n",
       "          3.8726205e-07,  7.1824638e-07,  2.5771297e-07],\n",
       "        [-7.8552091e-07,  3.9357303e-07, -6.5087924e-08, ...,\n",
       "          1.2547272e-07,  4.6880541e-07, -2.7213190e-08],\n",
       "        [-1.7230496e-07, -7.6230648e-08,  1.0229101e-08, ...,\n",
       "         -1.2810801e-08,  1.0740969e-07,  9.0859800e-09],\n",
       "        ...,\n",
       "        [-4.4702682e-07, -8.2207734e-08, -6.4373161e-08, ...,\n",
       "          2.6573176e-07,  4.4105343e-07,  1.7380636e-07],\n",
       "        [-9.9689669e-07,  3.0062006e-07, -3.9755580e-08, ...,\n",
       "          2.8431703e-07,  9.0544802e-07,  1.9871339e-07],\n",
       "        [ 7.1228544e-07, -1.9799316e-07,  2.8586147e-08, ...,\n",
       "         -8.1941408e-08, -2.8699372e-07, -4.5556772e-07]], dtype=float32)>,\n",
       " <tf.Tensor: shape=(512,), dtype=float32, numpy=\n",
       " array([-1.26014696e-04,  3.42047497e-05, -2.26498523e-05,  4.52430613e-05,\n",
       "        -1.37795832e-05, -5.71690180e-07,  1.22862830e-05,  6.17034721e-06,\n",
       "        -5.89160882e-05, -1.07191699e-05, -6.29377100e-05, -4.06893487e-05,\n",
       "        -5.65412629e-05,  5.61807428e-06, -3.44013324e-06, -4.26662200e-06,\n",
       "        -1.20245459e-04, -8.01076112e-06, -1.38961695e-05,  5.04246091e-05,\n",
       "         1.28061874e-05,  3.68998590e-05,  6.57513874e-06, -1.25434999e-05,\n",
       "         2.04738099e-05,  4.30095606e-05,  2.98062660e-05, -2.85712304e-05,\n",
       "        -1.25746537e-05, -1.09689536e-05,  5.30793950e-05, -2.93618632e-06,\n",
       "         2.49155164e-06, -2.26366319e-06, -1.25237020e-05,  1.29780838e-05,\n",
       "         2.54339466e-05,  2.16614717e-06, -2.50246921e-05, -1.12294956e-05,\n",
       "         1.36167446e-05, -1.30064931e-04, -4.11495712e-05, -4.18956333e-05,\n",
       "         1.86205398e-07, -2.31853453e-04,  2.52760692e-05, -3.74952870e-05,\n",
       "         3.19466126e-05, -3.67778339e-05, -2.78058251e-05, -2.03885465e-05,\n",
       "        -2.46547279e-06, -2.38967259e-05, -4.84886550e-05,  7.96731729e-06,\n",
       "         1.23212076e-05, -1.55188936e-05,  7.30425700e-06,  3.06114816e-05,\n",
       "        -3.87677246e-05, -6.31075454e-06,  4.79948067e-05, -4.58037903e-05,\n",
       "        -4.49987556e-06, -7.18613519e-05, -1.36912968e-06,  5.43592705e-06,\n",
       "        -2.22398321e-05, -2.78023144e-05,  3.44147047e-05,  9.05118650e-05,\n",
       "        -3.50338996e-05,  5.92714605e-06, -5.87268096e-06,  6.73392860e-05,\n",
       "        -9.84350663e-06, -2.40972531e-06,  3.72302966e-05, -2.48277520e-05,\n",
       "         2.63671118e-05, -7.90034392e-06, -4.25708095e-07, -2.08457914e-05,\n",
       "        -1.75701789e-05, -6.25706571e-06, -9.52169376e-06, -1.96276178e-05,\n",
       "         1.54332884e-06,  5.46207739e-05, -5.39105531e-06, -2.51881720e-05,\n",
       "        -6.33907403e-05, -2.65878261e-05, -2.01843136e-06,  2.28374956e-05,\n",
       "         6.96123789e-06, -1.13233091e-05,  2.77865511e-05, -2.51275032e-05,\n",
       "         6.42870873e-05, -1.37605339e-05,  2.31371132e-06,  6.68569783e-06,\n",
       "         1.62892138e-05, -3.92973452e-05, -4.41656766e-07, -2.28125718e-05,\n",
       "        -2.43797112e-05, -8.39862696e-05, -1.02678250e-05,  1.60178661e-06,\n",
       "        -4.70385021e-05,  1.08129052e-05, -6.43380481e-05, -3.96056748e-06,\n",
       "        -2.34202726e-05,  2.08709353e-05, -2.21954542e-05, -5.67220995e-05,\n",
       "         5.96649661e-05, -3.06037009e-06,  1.60557411e-05, -3.16213373e-05,\n",
       "         8.92602293e-06,  5.15946122e-05,  9.51729744e-05,  3.19916944e-05,\n",
       "        -1.74883055e-04,  5.21685324e-05, -1.23376958e-05,  7.35727372e-05,\n",
       "        -1.64021039e-05,  3.61052735e-05,  1.73165026e-05,  1.16045376e-05,\n",
       "        -9.15525598e-05, -1.49747984e-05, -7.54795037e-05, -5.76941238e-05,\n",
       "        -8.57865089e-05,  3.15988618e-05, -5.90859599e-06, -3.22180495e-05,\n",
       "        -1.86322228e-04,  1.30138687e-06, -1.62635915e-05,  6.21781583e-05,\n",
       "         2.39405217e-05,  5.19422501e-05,  1.20827681e-05, -2.20408656e-05,\n",
       "         2.49576715e-05,  6.89063745e-05,  4.34306348e-05, -3.30399198e-05,\n",
       "        -5.75363083e-06,  3.82069738e-05,  7.77624518e-05,  1.20448567e-06,\n",
       "         2.06088662e-05, -1.16220394e-06, -1.40118054e-05,  2.82826859e-05,\n",
       "         1.94711392e-05,  2.13478288e-05, -3.63081272e-05,  2.13676012e-05,\n",
       "         7.98374458e-06, -1.58137351e-04, -5.47646414e-05, -5.36430307e-05,\n",
       "        -2.04977528e-06, -3.18003993e-04,  4.40431904e-05, -3.96842770e-05,\n",
       "         6.40232392e-05, -3.71033966e-05, -4.93846419e-05, -3.36613193e-05,\n",
       "        -1.05095023e-06, -2.95818172e-05, -6.31238800e-05,  1.90993651e-05,\n",
       "         2.29006619e-05,  2.54080624e-06, -2.21456830e-05,  5.83556393e-05,\n",
       "         3.97556505e-07, -1.34569200e-06,  6.63174578e-05, -2.99059102e-05,\n",
       "         2.87443117e-06, -1.01850732e-04,  8.29844612e-06, -4.54442943e-06,\n",
       "        -3.23366985e-05, -4.37563504e-05,  4.19731296e-05,  9.60748221e-05,\n",
       "        -4.93230145e-05, -7.13830377e-06,  1.18785483e-05,  1.03000209e-04,\n",
       "        -3.12408738e-05, -2.21978407e-05,  2.34434629e-05, -1.28046449e-05,\n",
       "         5.63345238e-05,  1.80772422e-05, -4.00264207e-06, -2.86481227e-05,\n",
       "        -1.93725245e-05,  4.07644984e-06, -2.15252512e-05, -2.05005417e-05,\n",
       "         3.26626941e-05,  1.00777521e-04,  1.13315709e-05, -2.87073526e-05,\n",
       "        -4.21431469e-05, -3.75331583e-05,  1.40587554e-05,  1.81824580e-05,\n",
       "        -1.21783305e-05, -1.53141627e-05,  3.17550148e-05, -3.11525837e-05,\n",
       "         6.88669170e-05, -1.11612726e-05,  1.72624677e-05,  1.69100240e-05,\n",
       "         2.74133326e-05, -2.68313706e-05,  1.53152505e-05, -1.09105113e-05,\n",
       "        -5.15746833e-05, -1.15378512e-04, -3.86803640e-06, -6.10667757e-06,\n",
       "        -5.51031262e-05,  1.50631286e-05, -1.14783288e-04,  2.42410388e-05,\n",
       "        -1.83750562e-05,  2.43084251e-05, -4.47690763e-05, -5.58377214e-05,\n",
       "         8.37146799e-05, -1.72205655e-05,  1.88919348e-05, -5.79891785e-05,\n",
       "         2.29273865e-05,  6.94046685e-05,  1.20248493e-04,  7.47150116e-05,\n",
       "        -4.64499630e-02,  1.15239508e-02, -4.51205764e-03, -3.31850424e-02,\n",
       "         1.87124703e-02, -5.73563948e-02,  3.58135253e-02, -1.99763067e-02,\n",
       "        -1.68650281e-02,  1.52512416e-02, -4.55811732e-02,  6.74787955e-03,\n",
       "         5.50129861e-02, -4.52445168e-03, -4.67406632e-03, -2.52638254e-02,\n",
       "         4.54097874e-02,  8.36019963e-03,  2.24753357e-02,  1.78896431e-02,\n",
       "        -1.68123208e-02,  1.39270611e-02,  7.37524964e-03, -4.40559816e-03,\n",
       "        -7.48402439e-03,  4.44478765e-02, -3.27172875e-02,  3.58373625e-04,\n",
       "        -1.91722475e-02, -3.15407440e-02, -4.09742408e-02, -1.70921646e-02,\n",
       "         5.36481179e-02,  1.64038204e-02,  9.21594072e-03,  3.24081630e-02,\n",
       "         3.96806980e-03, -1.69003010e-02, -7.79907964e-03,  4.00382057e-02,\n",
       "         1.48153314e-02,  3.57657336e-02, -4.19337153e-02, -3.30153783e-03,\n",
       "         4.38203253e-02,  5.20380139e-02,  6.78828638e-03,  2.14607641e-02,\n",
       "         9.53320321e-03, -2.74077784e-02, -3.52185294e-02,  1.37860021e-02,\n",
       "        -1.09145474e-02,  9.21961199e-03,  3.79266664e-02, -9.39208828e-03,\n",
       "         4.71945433e-03, -2.76478305e-02, -6.02308055e-03, -1.96029823e-02,\n",
       "         3.10949348e-02,  1.97910108e-02, -2.59672701e-02, -7.65364617e-03,\n",
       "        -4.10968475e-02, -5.83621897e-02, -3.73224691e-02, -7.91593920e-03,\n",
       "        -2.04312447e-02,  2.38761418e-02, -2.74964236e-02, -2.29314938e-02,\n",
       "        -2.65116543e-02, -1.85551867e-03, -3.59875034e-03,  4.63133380e-02,\n",
       "         4.31998409e-02,  2.36092042e-02,  5.56905195e-03, -3.16349640e-02,\n",
       "        -2.77552865e-02, -5.36203734e-04, -2.61735730e-02, -4.88120364e-03,\n",
       "        -2.45221276e-02,  4.01350390e-03, -1.54551612e-02,  1.19638192e-02,\n",
       "         1.57339014e-02,  5.57663664e-02,  1.70693838e-03,  1.35578047e-02,\n",
       "         1.53854601e-02,  1.48060080e-02,  1.98091250e-02, -3.28811333e-02,\n",
       "        -1.52254812e-02, -9.23298998e-04, -5.17787226e-02,  1.14512304e-02,\n",
       "        -5.60834678e-03, -1.87585987e-02,  2.03437563e-02, -1.48025779e-02,\n",
       "        -2.31836503e-03, -2.62577422e-02,  1.54439546e-02,  1.18743349e-02,\n",
       "         4.82134931e-02, -2.44223084e-02,  1.78505816e-02,  1.12953708e-02,\n",
       "         2.10298202e-03, -2.85966266e-02, -3.81286116e-03,  3.45580541e-02,\n",
       "         2.55126804e-02,  2.25112252e-02, -8.23040307e-03,  1.65157970e-02,\n",
       "        -2.33238954e-02,  2.12185346e-02,  3.14853042e-02, -1.80350412e-02,\n",
       "         9.97604337e-03,  2.04162970e-02,  5.95759675e-02, -3.78374606e-02,\n",
       "        -1.44363585e-04,  3.98255506e-05, -1.89267921e-05,  4.57311908e-05,\n",
       "        -2.35651132e-05,  4.42746023e-06,  2.06734112e-05,  2.96897406e-06,\n",
       "        -6.82306272e-05, -6.81830898e-06, -7.81605922e-05, -5.09264355e-05,\n",
       "        -4.89876438e-05,  9.28212467e-06, -7.48719867e-06, -4.46524837e-06,\n",
       "        -1.31230758e-04,  1.77492348e-06, -1.20574223e-05,  6.47499619e-05,\n",
       "         9.23236257e-06,  4.49081635e-05,  8.69784253e-06, -9.02766351e-06,\n",
       "         1.80143797e-05,  5.57735548e-05,  3.40145853e-05, -4.07230109e-05,\n",
       "        -9.86705527e-06, -6.08721894e-06,  6.75992633e-05, -4.97395513e-06,\n",
       "         1.20158256e-06, -3.51976723e-06, -1.68361221e-05,  1.56044207e-05,\n",
       "         2.69744723e-05, -3.31123556e-06, -3.27158050e-05, -1.17613727e-05,\n",
       "         2.21843948e-06, -1.35520226e-04, -4.22960329e-05, -3.35538825e-05,\n",
       "         2.60378420e-06, -2.60312343e-04,  1.83093198e-05, -3.40395854e-05,\n",
       "         4.16758085e-05, -4.50271837e-05, -2.87797920e-05, -1.50206160e-05,\n",
       "         5.47221134e-07, -2.26137709e-05, -5.99611085e-05,  9.12643645e-06,\n",
       "         2.53561338e-05, -1.15498369e-06,  2.73818932e-06,  3.31825395e-05,\n",
       "        -2.64340779e-05, -1.26935520e-05,  5.39815446e-05, -5.18600536e-05,\n",
       "        -5.09571737e-06, -7.27553779e-05,  6.23832784e-06,  6.31347666e-06,\n",
       "        -2.30117857e-05, -3.94400413e-05,  4.12629852e-05,  8.22399743e-05,\n",
       "        -3.49072325e-05,  3.88996341e-06,  1.41915370e-06,  7.22275145e-05,\n",
       "        -7.82268580e-06, -7.65091954e-06,  3.85751919e-05, -2.35370353e-05,\n",
       "         2.49977547e-05, -9.34722539e-06, -4.98990630e-07, -3.11396616e-05,\n",
       "        -2.34631698e-05, -8.25031748e-07, -7.84427175e-06, -2.18497262e-05,\n",
       "         5.49421020e-06,  7.07001454e-05, -8.61490935e-06, -3.28226488e-05,\n",
       "        -5.78854233e-05, -2.36170636e-05,  4.06005802e-06,  2.85587994e-05,\n",
       "         6.87755346e-06, -1.13627493e-05,  3.17284575e-05, -2.90645894e-05,\n",
       "         7.65690638e-05, -1.69964205e-05,  6.61650847e-06,  3.76258413e-06,\n",
       "         1.85462159e-05, -3.91197500e-05, -6.39444806e-06, -1.05407198e-05,\n",
       "        -3.38890459e-05, -9.40086902e-05, -1.24388125e-05,  4.08628694e-07,\n",
       "        -5.83994843e-05,  6.43632347e-06, -8.89747243e-05, -1.97602367e-06,\n",
       "        -2.53165781e-05,  2.43836657e-05, -2.07561661e-05, -6.31051298e-05,\n",
       "         6.66272972e-05, -4.76452306e-06,  8.65541460e-06, -4.42253004e-05,\n",
       "         9.24520555e-06,  5.71881756e-05,  1.05956402e-04,  4.36357441e-05],\n",
       "       dtype=float32)>,\n",
       " <tf.Tensor: shape=(128, 10000), dtype=float32, numpy=\n",
       " array([[-4.5712260e-03, -6.5728594e-03, -4.7834138e-03, ...,\n",
       "          9.0450039e-06,  9.0343601e-06,  9.0471203e-06],\n",
       "        [-1.7119888e-03, -3.1051326e-03, -2.6795238e-03, ...,\n",
       "          4.0656068e-06,  4.0593172e-06,  4.0666118e-06],\n",
       "        [-7.9132279e-04, -5.1479577e-04,  2.9847317e-04, ...,\n",
       "          2.5760136e-07,  2.5681783e-07,  2.5838534e-07],\n",
       "        ...,\n",
       "        [-2.4457604e-03, -3.0171056e-03, -1.5367945e-03, ...,\n",
       "          3.1265490e-06,  3.1231743e-06,  3.1280047e-06],\n",
       "        [-3.4257532e-03, -5.1656626e-03, -3.5807854e-03, ...,\n",
       "          5.1644247e-06,  5.1571556e-06,  5.1671086e-06],\n",
       "        [ 1.7563639e-03,  2.2874274e-03,  2.0709168e-03, ...,\n",
       "         -3.7130371e-06, -3.7080940e-06, -3.7153245e-06]], dtype=float32)>,\n",
       " <tf.Tensor: shape=(10000,), dtype=float32, numpy=\n",
       " array([-0.79799795, -1.0313315 , -1.0313314 , ...,  0.00200031,\n",
       "         0.00199874,  0.00200055], dtype=float32)>]"
      ]
     },
     "execution_count": 50,
     "metadata": {},
     "output_type": "execute_result"
    }
   ],
   "source": [
    "# Define the gradient clipping threshold\n",
    "grads, _ = tf.clip_by_global_norm(grad_t_list, max_grad_norm)\n",
    "grads"
   ]
  },
  {
   "cell_type": "markdown",
   "metadata": {},
   "source": [
    "<h4> 4.Apply the optimizer to the variables/gradients tuple. </h4>\n"
   ]
  },
  {
   "cell_type": "code",
   "execution_count": 51,
   "metadata": {},
   "outputs": [],
   "source": [
    "# Create the training TensorFlow Operation through our optimizer\n",
    "train_op = optimizer.apply_gradients(zip(grads, tvars))"
   ]
  },
  {
   "cell_type": "markdown",
   "metadata": {},
   "source": [
    "<a id=\"ltsm\"></a>\n",
    "<h2>LSTM</h2>\n"
   ]
  },
  {
   "cell_type": "markdown",
   "metadata": {},
   "source": [
    "We learned how the model is build step by step. Noe, let's then create a Class that represents our model. This class needs a few things:\n",
    "<ul>\n",
    "    <li>We have to create the model in accordance with our defined hyperparameters</li>\n",
    "    <li>We have to create the LSTM cell structure and connect them with our RNN structure</li>\n",
    "    <li>We have to create the word embeddings and point them to the input data</li>\n",
    "    <li>We have to create the input structure for our RNN</li>\n",
    "    <li>We need to create a logistic structure to return the probability of our words</li>\n",
    "    <li>We need to create the loss and cost functions for our optimizer to work, and then create the optimizer</li>\n",
    "    <li>And finally, we need to create a training operation that can be run to actually train our model</li>\n",
    "</ul>\n"
   ]
  },
  {
   "cell_type": "code",
   "execution_count": 52,
   "metadata": {},
   "outputs": [],
   "source": [
    "class PTBModel(object):\n",
    "\n",
    "\n",
    "    def __init__(self):\n",
    "        ######################################\n",
    "        # Setting parameters for ease of use #\n",
    "        ######################################\n",
    "        self.batch_size = batch_size\n",
    "        self.num_steps = num_steps\n",
    "        self.hidden_size_l1 = hidden_size_l1\n",
    "        self.hidden_size_l2 = hidden_size_l2\n",
    "        self.vocab_size = vocab_size\n",
    "        self.embeding_vector_size = embeding_vector_size\n",
    "        # Create a variable for the learning rate\n",
    "        self._lr = 1.0\n",
    "        \n",
    "        ###############################################################################\n",
    "        # Initializing the model using keras Sequential API  #\n",
    "        ###############################################################################\n",
    "        \n",
    "        self._model = tf.keras.models.Sequential()\n",
    "        \n",
    "        ####################################################################\n",
    "        # Creating the word embeddings layer and adding it to the sequence #\n",
    "        ####################################################################\n",
    "        with tf.device(\"/cpu:0\"):\n",
    "            # Create the embeddings for our input data. Size is hidden size.\n",
    "            self._embedding_layer = tf.keras.layers.Embedding(self.vocab_size, self.embeding_vector_size,batch_input_shape=(self.batch_size, self.num_steps),trainable=True,name=\"embedding_vocab\")  #[10000x200]\n",
    "            self._model.add(self._embedding_layer)\n",
    "            \n",
    "\n",
    "        ##########################################################################\n",
    "        # Creating the LSTM cell structure and connect it with the RNN structure #\n",
    "        ##########################################################################\n",
    "        # Create the LSTM Cells. \n",
    "        # This creates only the structure for the LSTM and has to be associated with a RNN unit still.\n",
    "        # The argument  of LSTMCell is size of hidden layer, that is, the number of hidden units of the LSTM (inside A). \n",
    "        # LSTM cell processes one word at a time and computes probabilities of the possible continuations of the sentence.\n",
    "        lstm_cell_l1 = tf.keras.layers.LSTMCell(hidden_size_l1)\n",
    "        lstm_cell_l2 = tf.keras.layers.LSTMCell(hidden_size_l2)\n",
    "        \n",
    "\n",
    "        \n",
    "        # By taking in the LSTM cells as parameters, the StackedRNNCells function junctions the LSTM units to the RNN units.\n",
    "        # RNN cell composed sequentially of stacked simple cells.\n",
    "        stacked_lstm = tf.keras.layers.StackedRNNCells([lstm_cell_l1, lstm_cell_l2])\n",
    "\n",
    "\n",
    "        \n",
    "\n",
    "        ############################################\n",
    "        # Creating the input structure for our RNN #\n",
    "        ############################################\n",
    "        # Input structure is 20x[30x200]\n",
    "        # Considering each word is represended by a 200 dimentional vector, and we have 30 batchs, we create 30 word-vectors of size [30xx2000]\n",
    "        # The input structure is fed from the embeddings, which are filled in by the input data\n",
    "        # Feeding a batch of b sentences to a RNN:\n",
    "        # In step 1,  first word of each of the b sentences (in a batch) is input in parallel.  \n",
    "        # In step 2,  second word of each of the b sentences is input in parallel. \n",
    "        # The parallelism is only for efficiency.  \n",
    "        # Each sentence in a batch is handled in parallel, but the network sees one word of a sentence at a time and does the computations accordingly. \n",
    "        # All the computations involving the words of all sentences in a batch at a given time step are done in parallel. \n",
    "\n",
    "        ########################################################################################################\n",
    "        # Instantiating our RNN model and setting stateful to True to feed forward the state to the next layer #\n",
    "        ########################################################################################################\n",
    "        \n",
    "        self._RNNlayer  =  tf.keras.layers.RNN(stacked_lstm,[batch_size, num_steps],return_state=False,stateful=True,trainable=True)\n",
    "        \n",
    "        # Define the initial state, i.e., the model state for the very first data point\n",
    "        # It initialize the state of the LSTM memory. The memory state of the network is initialized with a vector of zeros and gets updated after reading each word.\n",
    "        self._initial_state = tf.Variable(tf.zeros([batch_size,embeding_vector_size]),trainable=False)\n",
    "        self._RNNlayer.inital_state = self._initial_state\n",
    "    \n",
    "        ############################################\n",
    "        # Adding RNN layer to keras sequential API #\n",
    "        ############################################        \n",
    "        self._model.add(self._RNNlayer)\n",
    "        \n",
    "        #self._model.add(tf.keras.layers.LSTM(hidden_size_l1,return_sequences=True,stateful=True))\n",
    "        #self._model.add(tf.keras.layers.LSTM(hidden_size_l2,return_sequences=True))\n",
    "        \n",
    "        \n",
    "        ####################################################################################################\n",
    "        # Instantiating a Dense layer that connects the output to the vocab_size  and adding layer to model#\n",
    "        ####################################################################################################\n",
    "        self._dense = tf.keras.layers.Dense(self.vocab_size)\n",
    "        self._model.add(self._dense)\n",
    " \n",
    "        \n",
    "        ####################################################################################################\n",
    "        # Adding softmax activation layer and deriving probability to each class and adding layer to model #\n",
    "        ####################################################################################################\n",
    "        self._activation = tf.keras.layers.Activation('softmax')\n",
    "        self._model.add(self._activation)\n",
    "\n",
    "        ##########################################################\n",
    "        # Instantiating the stochastic gradient decent optimizer #\n",
    "        ########################################################## \n",
    "        self._optimizer = tf.keras.optimizers.SGD(lr=self._lr, clipnorm=max_grad_norm)\n",
    "        \n",
    "        \n",
    "        ##############################################################################\n",
    "        # Compiling and summarizing the model stacked using the keras sequential API #\n",
    "        ##############################################################################\n",
    "        self._model.compile(loss=self.crossentropy, optimizer=self._optimizer)\n",
    "        self._model.summary()\n",
    "\n",
    "\n",
    "    def crossentropy(self,y_true, y_pred):\n",
    "        return tf.keras.losses.sparse_categorical_crossentropy(y_true, y_pred)\n",
    "\n",
    "    def train_batch(self,_input_data,_targets):\n",
    "        #################################################\n",
    "        # Creating the Training Operation for our Model #\n",
    "        #################################################\n",
    "        # Create a variable for the learning rate\n",
    "        self._lr = tf.Variable(0.0, trainable=False)\n",
    "        # Get all TensorFlow variables marked as \"trainable\" (i.e. all of them except _lr, which we just created)\n",
    "        tvars = self._model.trainable_variables\n",
    "        # Define the gradient clipping threshold\n",
    "        with tf.GradientTape() as tape:\n",
    "            # Forward pass.\n",
    "            output_words_prob = self._model(_input_data)\n",
    "            # Loss value for this batch.\n",
    "            loss  = self.crossentropy(_targets, output_words_prob)\n",
    "            # average across batch and reduce sum\n",
    "            cost = tf.reduce_sum(loss/ self.batch_size)\n",
    "        # Get gradients of loss wrt the trainable variables.\n",
    "        grad_t_list = tape.gradient(cost, tvars)\n",
    "        # Define the gradient clipping threshold\n",
    "        grads, _ = tf.clip_by_global_norm(grad_t_list, max_grad_norm)\n",
    "        # Create the training TensorFlow Operation through our optimizer\n",
    "        train_op = self._optimizer.apply_gradients(zip(grads, tvars))\n",
    "        return cost\n",
    "        \n",
    "    def test_batch(self,_input_data,_targets):\n",
    "        #################################################\n",
    "        # Creating the Testing Operation for our Model #\n",
    "        #################################################\n",
    "        output_words_prob = self._model(_input_data)\n",
    "        loss  = self.crossentropy(_targets, output_words_prob)\n",
    "        # average across batch and reduce sum\n",
    "        cost = tf.reduce_sum(loss/ self.batch_size)\n",
    "\n",
    "        return cost\n",
    "    @classmethod\n",
    "    def instance(cls) : \n",
    "        return PTBModel()"
   ]
  },
  {
   "cell_type": "markdown",
   "metadata": {},
   "source": [
    "With that, the actual structure of our Recurrent Neural Network with Long Short-Term Memory is finished. What remains for us to do is to actually create the methods to run through time -- that is, the <code>run_epoch</code> method to be run at each epoch and a <code>main</code> script which ties all of this together.\n",
    "\n",
    "What our <code>run_epoch</code> method should do is take our input data and feed it to the relevant operations. This will return at the very least the current result for the cost function.\n"
   ]
  },
  {
   "cell_type": "code",
   "execution_count": 53,
   "metadata": {},
   "outputs": [],
   "source": [
    "\n",
    "########################################################################################################################\n",
    "# run_one_epoch takes as parameters  the model instance, the data to be fed, training or testing mode and verbose info #\n",
    "########################################################################################################################\n",
    "\n",
    "def run_one_epoch(m, data,is_training=True,verbose=False):\n",
    "\n",
    "    #Define the epoch size based on the length of the data, batch size and the number of steps\n",
    "    epoch_size = ((len(data) // m.batch_size) - 1) // m.num_steps\n",
    "    start_time = time.time()\n",
    "    costs = 0.\n",
    "    iters = 0\n",
    "    \n",
    "    m._model.reset_states()\n",
    "    \n",
    "    #For each step and data point\n",
    "    for step, (x, y) in enumerate(ptb_iterator(data, m.batch_size, m.num_steps)):\n",
    "        \n",
    "        #Evaluate and return cost, state by running cost, final_state and the function passed as parameter\n",
    "        #y = tf.keras.utils.to_categorical(y, num_classes=vocab_size)\n",
    "        if is_training : \n",
    "            loss=  m.train_batch(x, y)\n",
    "        else :\n",
    "            loss = m.test_batch(x, y)\n",
    "                                   \n",
    "\n",
    "        #Add returned cost to costs (which keeps track of the total costs for this epoch)\n",
    "        costs += loss\n",
    "        \n",
    "        #Add number of steps to iteration counter\n",
    "        iters += m.num_steps\n",
    "\n",
    "        if verbose and step % (epoch_size // 10) == 10:\n",
    "            print(\"Itr %d of %d, perplexity: %.3f speed: %.0f wps\" % (step , epoch_size, np.exp(costs / iters), iters * m.batch_size / (time.time() - start_time)))\n",
    "        \n",
    "\n",
    "\n",
    "    # Returns the Perplexity rating for us to keep track of how the model is evolving\n",
    "    return np.exp(costs / iters)\n"
   ]
  },
  {
   "cell_type": "markdown",
   "metadata": {},
   "source": [
    "Now, we create the <code>main</code> method to tie everything together. The code here reads the data from the directory, using the <code>reader</code> helper module, and then trains and evaluates the model on both a testing and a validating subset of data.\n"
   ]
  },
  {
   "cell_type": "code",
   "execution_count": 54,
   "metadata": {},
   "outputs": [],
   "source": [
    "# Reads the data and separates it into training data, validation data and testing data\n",
    "raw_data = ptb_raw_data(data_dir)\n",
    "train_data, valid_data, test_data, _, _ = raw_data"
   ]
  },
  {
   "cell_type": "code",
   "execution_count": null,
   "metadata": {},
   "outputs": [
    {
     "name": "stdout",
     "output_type": "stream",
     "text": [
      "Model: \"sequential_1\"\n",
      "_________________________________________________________________\n",
      " Layer (type)                Output Shape              Param #   \n",
      "=================================================================\n",
      " embedding_vocab (Embedding)  (30, 20, 200)            2000000   \n",
      "                                                                 \n",
      " rnn_1 (RNN)                 (30, 20, 128)             671088    \n",
      "                                                                 \n",
      " dense_1 (Dense)             (30, 20, 10000)           1290000   \n",
      "                                                                 \n",
      " activation_1 (Activation)   (30, 20, 10000)           0         \n",
      "                                                                 \n",
      "=================================================================\n",
      "Total params: 3,961,088\n",
      "Trainable params: 3,955,088\n",
      "Non-trainable params: 6,000\n",
      "_________________________________________________________________\n",
      "Epoch 1 : Learning rate: 1.000\n",
      "Itr 10 of 1549, perplexity: 4629.454 speed: 962 wps\n",
      "Itr 164 of 1549, perplexity: 1091.054 speed: 1104 wps\n",
      "Itr 318 of 1549, perplexity: 840.080 speed: 1127 wps\n",
      "Itr 472 of 1549, perplexity: 694.005 speed: 1130 wps\n",
      "Itr 626 of 1549, perplexity: 590.992 speed: 1121 wps\n",
      "Itr 780 of 1549, perplexity: 524.971 speed: 1122 wps\n",
      "Itr 934 of 1549, perplexity: 473.432 speed: 1127 wps\n",
      "Itr 1088 of 1549, perplexity: 434.665 speed: 1131 wps\n",
      "Itr 1242 of 1549, perplexity: 405.008 speed: 1134 wps\n",
      "Itr 1396 of 1549, perplexity: 377.424 speed: 1135 wps\n",
      "Epoch 1 : Train Perplexity: 355.654\n",
      "Epoch 1 : Valid Perplexity: 211.713\n",
      "Epoch 2 : Learning rate: 1.000\n",
      "Itr 10 of 1549, perplexity: 233.906 speed: 1141 wps\n",
      "Itr 164 of 1549, perplexity: 209.952 speed: 1127 wps\n",
      "Itr 318 of 1549, perplexity: 201.113 speed: 1121 wps\n",
      "Itr 472 of 1549, perplexity: 192.967 speed: 1113 wps\n",
      "Itr 626 of 1549, perplexity: 184.197 speed: 1110 wps\n",
      "Itr 780 of 1549, perplexity: 180.484 speed: 1112 wps\n",
      "Itr 934 of 1549, perplexity: 176.470 speed: 1112 wps\n",
      "Itr 1088 of 1549, perplexity: 173.142 speed: 1114 wps\n",
      "Itr 1242 of 1549, perplexity: 170.774 speed: 1113 wps\n",
      "Itr 1396 of 1549, perplexity: 166.722 speed: 1113 wps\n",
      "Epoch 2 : Train Perplexity: 163.857\n",
      "Epoch 2 : Valid Perplexity: 161.109\n",
      "Epoch 3 : Learning rate: 1.000\n",
      "Itr 10 of 1549, perplexity: 163.140 speed: 1126 wps\n",
      "Itr 164 of 1549, perplexity: 146.608 speed: 1098 wps\n",
      "Itr 318 of 1549, perplexity: 143.177 speed: 1115 wps\n",
      "Itr 472 of 1549, perplexity: 138.653 speed: 1119 wps\n",
      "Itr 626 of 1549, perplexity: 133.623 speed: 1122 wps\n",
      "Itr 780 of 1549, perplexity: 132.498 speed: 1126 wps\n",
      "Itr 934 of 1549, perplexity: 130.765 speed: 1128 wps\n",
      "Itr 1088 of 1549, perplexity: 129.359 speed: 1126 wps\n",
      "Itr 1242 of 1549, perplexity: 128.513 speed: 1126 wps\n",
      "Itr 1396 of 1549, perplexity: 126.238 speed: 1127 wps\n",
      "Epoch 3 : Train Perplexity: 124.976\n",
      "Epoch 3 : Valid Perplexity: 144.610\n",
      "Epoch 4 : Learning rate: 1.000\n",
      "Itr 10 of 1549, perplexity: 130.402 speed: 1110 wps\n",
      "Itr 164 of 1549, perplexity: 119.958 speed: 1153 wps\n",
      "Itr 318 of 1549, perplexity: 118.014 speed: 1131 wps\n",
      "Itr 472 of 1549, perplexity: 114.613 speed: 1134 wps\n",
      "Itr 626 of 1549, perplexity: 110.747 speed: 1137 wps\n",
      "Itr 780 of 1549, perplexity: 110.355 speed: 1137 wps\n",
      "Itr 934 of 1549, perplexity: 109.324 speed: 1136 wps\n",
      "Itr 1088 of 1549, perplexity: 108.509 speed: 1137 wps\n",
      "Itr 1242 of 1549, perplexity: 108.121 speed: 1132 wps\n",
      "Itr 1396 of 1549, perplexity: 106.513 speed: 1134 wps\n",
      "Epoch 4 : Train Perplexity: 105.738\n",
      "Epoch 4 : Valid Perplexity: 137.148\n",
      "Epoch 5 : Learning rate: 1.000\n",
      "Itr 10 of 1549, perplexity: 111.880 speed: 1130 wps\n",
      "Itr 164 of 1549, perplexity: 104.346 speed: 1133 wps\n",
      "Itr 318 of 1549, perplexity: 103.210 speed: 1131 wps\n",
      "Itr 472 of 1549, perplexity: 100.368 speed: 1137 wps\n",
      "Itr 626 of 1549, perplexity: 97.141 speed: 1139 wps\n",
      "Itr 780 of 1549, perplexity: 97.024 speed: 1142 wps\n",
      "Itr 934 of 1549, perplexity: 96.326 speed: 1143 wps\n",
      "Itr 1088 of 1549, perplexity: 95.777 speed: 1143 wps\n",
      "Itr 1242 of 1549, perplexity: 95.623 speed: 1144 wps\n",
      "Itr 1396 of 1549, perplexity: 94.317 speed: 1143 wps\n",
      "Epoch 5 : Train Perplexity: 93.768\n",
      "Epoch 5 : Valid Perplexity: 133.334\n",
      "Epoch 6 : Learning rate: 0.500\n",
      "Itr 10 of 1549, perplexity: 99.798 speed: 1126 wps\n",
      "Itr 164 of 1549, perplexity: 90.714 speed: 1098 wps\n",
      "Itr 318 of 1549, perplexity: 88.416 speed: 1101 wps\n",
      "Itr 472 of 1549, perplexity: 85.136 speed: 1101 wps\n",
      "Itr 626 of 1549, perplexity: 81.540 speed: 1105 wps\n",
      "Itr 780 of 1549, perplexity: 80.870 speed: 1103 wps\n",
      "Itr 934 of 1549, perplexity: 79.673 speed: 1108 wps\n",
      "Itr 1088 of 1549, perplexity: 78.613 speed: 1110 wps\n",
      "Itr 1242 of 1549, perplexity: 77.902 speed: 1113 wps\n",
      "Itr 1396 of 1549, perplexity: 76.257 speed: 1116 wps\n",
      "Epoch 6 : Train Perplexity: 75.244\n",
      "Epoch 6 : Valid Perplexity: 122.773\n",
      "Epoch 7 : Learning rate: 0.250\n",
      "Itr 10 of 1549, perplexity: 83.253 speed: 1115 wps\n",
      "Itr 164 of 1549, perplexity: 77.656 speed: 1134 wps\n",
      "Itr 318 of 1549, perplexity: 76.030 speed: 1131 wps\n",
      "Itr 472 of 1549, perplexity: 73.217 speed: 1134 wps\n",
      "Itr 626 of 1549, perplexity: 70.060 speed: 1134 wps\n",
      "Itr 780 of 1549, perplexity: 69.449 speed: 1134 wps\n",
      "Itr 934 of 1549, perplexity: 68.346 speed: 1136 wps\n",
      "Itr 1088 of 1549, perplexity: 67.326 speed: 1136 wps\n",
      "Itr 1242 of 1549, perplexity: 66.558 speed: 1135 wps\n",
      "Itr 1396 of 1549, perplexity: 65.005 speed: 1134 wps\n",
      "Epoch 7 : Train Perplexity: 63.961\n",
      "Epoch 7 : Valid Perplexity: 121.599\n",
      "Epoch 8 : Learning rate: 0.125\n",
      "Itr 10 of 1549, perplexity: 74.915 speed: 1158 wps\n",
      "Itr 164 of 1549, perplexity: 70.435 speed: 1135 wps\n",
      "Itr 318 of 1549, perplexity: 69.123 speed: 1134 wps\n",
      "Itr 472 of 1549, perplexity: 66.572 speed: 1134 wps\n",
      "Itr 626 of 1549, perplexity: 63.654 speed: 1133 wps\n",
      "Itr 780 of 1549, perplexity: 63.096 speed: 1135 wps\n",
      "Itr 934 of 1549, perplexity: 62.085 speed: 1134 wps\n",
      "Itr 1088 of 1549, perplexity: 61.126 speed: 1131 wps\n",
      "Itr 1242 of 1549, perplexity: 60.374 speed: 1132 wps\n",
      "Itr 1396 of 1549, perplexity: 58.913 speed: 1132 wps\n",
      "Epoch 8 : Train Perplexity: 57.901\n",
      "Epoch 8 : Valid Perplexity: 121.326\n",
      "Epoch 9 : Learning rate: 0.062\n",
      "Itr 10 of 1549, perplexity: 70.660 speed: 1118 wps\n",
      "Itr 164 of 1549, perplexity: 66.702 speed: 1141 wps\n",
      "Itr 318 of 1549, perplexity: 65.557 speed: 1140 wps\n",
      "Itr 472 of 1549, perplexity: 63.130 speed: 1141 wps\n",
      "Itr 626 of 1549, perplexity: 60.326 speed: 1138 wps\n",
      "Itr 780 of 1549, perplexity: 59.789 speed: 1134 wps\n",
      "Itr 934 of 1549, perplexity: 58.837 speed: 1135 wps\n",
      "Itr 1088 of 1549, perplexity: 57.905 speed: 1135 wps\n",
      "Itr 1242 of 1549, perplexity: 57.166 speed: 1135 wps\n",
      "Itr 1396 of 1549, perplexity: 55.755 speed: 1135 wps\n",
      "Epoch 9 : Train Perplexity: 54.766\n",
      "Epoch 9 : Valid Perplexity: 121.253\n",
      "Epoch 10 : Learning rate: 0.031\n",
      "Itr 10 of 1549, perplexity: 68.424 speed: 1090 wps\n",
      "Itr 164 of 1549, perplexity: 64.723 speed: 1138 wps\n",
      "Itr 318 of 1549, perplexity: 63.653 speed: 1135 wps\n",
      "Itr 472 of 1549, perplexity: 61.306 speed: 1136 wps\n",
      "Itr 626 of 1549, perplexity: 58.565 speed: 1138 wps\n",
      "Itr 780 of 1549, perplexity: 58.040 speed: 1138 wps\n",
      "Itr 934 of 1549, perplexity: 57.123 speed: 1140 wps\n",
      "Itr 1088 of 1549, perplexity: 56.203 speed: 1139 wps\n",
      "Itr 1242 of 1549, perplexity: 55.465 speed: 1139 wps\n",
      "Itr 1396 of 1549, perplexity: 54.080 speed: 1140 wps\n",
      "Epoch 10 : Train Perplexity: 53.107\n",
      "Epoch 10 : Valid Perplexity: 121.267\n",
      "Epoch 11 : Learning rate: 0.016\n",
      "Itr 10 of 1549, perplexity: 67.302 speed: 1143 wps\n",
      "Itr 164 of 1549, perplexity: 63.636 speed: 1136 wps\n",
      "Itr 318 of 1549, perplexity: 62.610 speed: 1137 wps\n",
      "Itr 472 of 1549, perplexity: 60.309 speed: 1141 wps\n",
      "Itr 626 of 1549, perplexity: 57.603 speed: 1146 wps\n",
      "Itr 780 of 1549, perplexity: 57.087 speed: 1144 wps\n",
      "Itr 934 of 1549, perplexity: 56.190 speed: 1145 wps\n",
      "Itr 1088 of 1549, perplexity: 55.277 speed: 1143 wps\n",
      "Itr 1242 of 1549, perplexity: 54.542 speed: 1143 wps\n",
      "Itr 1396 of 1549, perplexity: 53.170 speed: 1142 wps\n",
      "Epoch 11 : Train Perplexity: 52.207\n",
      "Epoch 11 : Valid Perplexity: 121.229\n",
      "Epoch 12 : Learning rate: 0.008\n",
      "Itr 10 of 1549, perplexity: 66.677 speed: 1126 wps\n",
      "Itr 164 of 1549, perplexity: 63.032 speed: 1138 wps\n",
      "Itr 318 of 1549, perplexity: 62.034 speed: 1128 wps\n",
      "Itr 472 of 1549, perplexity: 59.768 speed: 1126 wps\n",
      "Itr 626 of 1549, perplexity: 57.084 speed: 1125 wps\n",
      "Itr 780 of 1549, perplexity: 56.572 speed: 1127 wps\n",
      "Itr 934 of 1549, perplexity: 55.684 speed: 1129 wps\n",
      "Itr 1088 of 1549, perplexity: 54.775 speed: 1130 wps\n",
      "Itr 1242 of 1549, perplexity: 54.041 speed: 1132 wps\n",
      "Itr 1396 of 1549, perplexity: 52.678 speed: 1132 wps\n",
      "Epoch 12 : Train Perplexity: 51.720\n",
      "Epoch 12 : Valid Perplexity: 121.065\n",
      "Epoch 13 : Learning rate: 0.004\n",
      "Itr 10 of 1549, perplexity: 66.304 speed: 1137 wps\n",
      "Itr 164 of 1549, perplexity: 62.694 speed: 1137 wps\n",
      "Itr 318 of 1549, perplexity: 61.711 speed: 1143 wps\n",
      "Itr 472 of 1549, perplexity: 59.467 speed: 1146 wps\n",
      "Itr 626 of 1549, perplexity: 56.800 speed: 1148 wps\n",
      "Itr 780 of 1549, perplexity: 56.292 speed: 1147 wps\n",
      "Itr 934 of 1549, perplexity: 55.408 speed: 1145 wps\n",
      "Itr 1088 of 1549, perplexity: 54.502 speed: 1142 wps\n",
      "Itr 1242 of 1549, perplexity: 53.768 speed: 1142 wps\n",
      "Itr 1396 of 1549, perplexity: 52.411 speed: 1142 wps\n",
      "Epoch 13 : Train Perplexity: 51.455\n",
      "Epoch 13 : Valid Perplexity: 120.860\n",
      "Epoch 14 : Learning rate: 0.002\n",
      "Itr 10 of 1549, perplexity: 66.086 speed: 1137 wps\n",
      "Itr 164 of 1549, perplexity: 62.499 speed: 1138 wps\n",
      "Itr 318 of 1549, perplexity: 61.528 speed: 1143 wps\n",
      "Itr 472 of 1549, perplexity: 59.299 speed: 1145 wps\n",
      "Itr 626 of 1549, perplexity: 56.644 speed: 1145 wps\n",
      "Itr 780 of 1549, perplexity: 56.140 speed: 1145 wps\n",
      "Itr 934 of 1549, perplexity: 55.259 speed: 1146 wps\n",
      "Itr 1088 of 1549, perplexity: 54.355 speed: 1145 wps\n",
      "Itr 1242 of 1549, perplexity: 53.622 speed: 1144 wps\n",
      "Itr 1396 of 1549, perplexity: 52.268 speed: 1145 wps\n",
      "Epoch 14 : Train Perplexity: 51.314\n",
      "Epoch 14 : Valid Perplexity: 120.707\n",
      "Epoch 15 : Learning rate: 0.001\n",
      "Itr 10 of 1549, perplexity: 65.963 speed: 1099 wps\n",
      "Itr 164 of 1549, perplexity: 62.387 speed: 1126 wps\n",
      "Itr 318 of 1549, perplexity: 61.422 speed: 1136 wps\n",
      "Itr 472 of 1549, perplexity: 59.205 speed: 1137 wps\n"
     ]
    }
   ],
   "source": [
    "# Instantiates the PTBModel class\n",
    "m=PTBModel.instance()\n",
    "K = tf.keras.backend\n",
    "for i in range(max_epoch):\n",
    "    # Define the decay for this epoch\n",
    "    lr_decay = decay ** max(i - max_epoch_decay_lr, 0.0)\n",
    "    dcr = learning_rate * lr_decay\n",
    "    m._lr = dcr\n",
    "    K.set_value(m._model.optimizer.learning_rate,m._lr)\n",
    "    print(\"Epoch %d : Learning rate: %.3f\" % (i + 1, m._model.optimizer.learning_rate))\n",
    "    # Run the loop for this epoch in the training mode\n",
    "    train_perplexity = run_one_epoch(m, train_data,is_training=True,verbose=True)\n",
    "    print(\"Epoch %d : Train Perplexity: %.3f\" % (i + 1, train_perplexity))\n",
    "\n",
    "    # Run the loop for this epoch in the validation mode\n",
    "    valid_perplexity = run_one_epoch(m, valid_data,is_training=False,verbose=False)\n",
    "    print(\"Epoch %d : Valid Perplexity: %.3f\" % (i + 1, valid_perplexity))\n",
    "\n",
    "# Run the loop in the testing mode to see how effective was our training\n",
    "test_perplexity = run_one_epoch(m, test_data,is_training=False,verbose=False)\n",
    "print(\"Test Perplexity: %.3f\" % test_perplexity)\n",
    "\n"
   ]
  },
  {
   "cell_type": "markdown",
   "metadata": {},
   "source": [
    "As you can see, the model's perplexity rating drops very quickly after a few iterations. As was elaborated before, <b>lower Perplexity means that the model is more certain about its prediction</b>. As such, we can be sure that this model is performing well!\n"
   ]
  },
  {
   "cell_type": "markdown",
   "metadata": {},
   "source": [
    "-------\n"
   ]
  },
  {
   "cell_type": "markdown",
   "metadata": {},
   "source": [
    "This is the end of the <b>Applying Recurrent Neural Networks to Text Processing</b> notebook. Hopefully you now have a better understanding of Recurrent Neural Networks and how to implement one utilizing TensorFlow. Thank you for reading this notebook, and good luck on your studies.\n"
   ]
  },
  {
   "cell_type": "markdown",
   "metadata": {},
   "source": [
    "## Want to learn more?\n",
    "\n",
    "Also, you can use __Watson Studio__ to run these notebooks faster with bigger datasets.__Watson Studio__ is IBM’s leading cloud solution for data scientists, built by data scientists. With Jupyter notebooks, RStudio, Apache Spark and popular libraries pre-packaged in the cloud, __Watson Studio__ enables data scientists to collaborate on their projects without having to install anything. Join the fast-growing community of __Watson Studio__ users today with a free account at [Watson Studio](https://cocl.us/ML0120EN_DSX).This is the end of this lesson. Thank you for reading this notebook, and good luck on your studies.\n"
   ]
  },
  {
   "cell_type": "markdown",
   "metadata": {},
   "source": [
    "### Thanks for completing this lesson!\n",
    "\n",
    "Notebook created by <a href=\"https://br.linkedin.com/in/walter-gomes-de-amorim-junior-624726121?utm_medium=Exinfluencer&utm_source=Exinfluencer&utm_content=000026UJ&utm_term=10006555&utm_id=NA-SkillsNetwork-Channel-SkillsNetworkCoursesIBMDeveloperSkillsNetworkDL0120ENSkillsNetwork954-2023-01-01\">Walter Gomes de Amorim Junior</a>, <a href = \"https://linkedin.com/in/saeedaghabozorgi\"> Saeed Aghabozorgi </a></h4>\n",
    "\n",
    "\n",
    "Updated to TF 2.X by  <a href=\"https://www.linkedin.com/in/samaya-madhavan?utm_medium=Exinfluencer&utm_source=Exinfluencer&utm_content=000026UJ&utm_term=10006555&utm_id=NA-SkillsNetwork-Channel-SkillsNetworkCoursesIBMDeveloperSkillsNetworkDL0120ENSkillsNetwork954-2023-01-01\"> Samaya Madhavan </a>\n"
   ]
  },
  {
   "cell_type": "markdown",
   "metadata": {},
   "source": [
    "<hr>\n",
    "\n",
    "Copyright &copy; 2018 [Cognitive Class](https://cocl.us/DX0108EN_CC). This notebook and its source code are released under the terms of the [MIT License](https://bigdatauniversity.com/mit-license/?utm_medium=Exinfluencer&utm_source=Exinfluencer&utm_content=000026UJ&utm_term=10006555&utm_id=NA-SkillsNetwork-Channel-SkillsNetworkCoursesIBMDeveloperSkillsNetworkDL0120ENSkillsNetwork954-2023-01-01).\n"
   ]
  }
 ],
 "metadata": {
  "kernelspec": {
   "display_name": "Python",
   "language": "python",
   "name": "conda-env-python-py"
  },
  "language_info": {
   "codemirror_mode": {
    "name": "ipython",
    "version": 3
   },
   "file_extension": ".py",
   "mimetype": "text/x-python",
   "name": "python",
   "nbconvert_exporter": "python",
   "pygments_lexer": "ipython3",
   "version": "3.7.12"
  }
 },
 "nbformat": 4,
 "nbformat_minor": 4
}
