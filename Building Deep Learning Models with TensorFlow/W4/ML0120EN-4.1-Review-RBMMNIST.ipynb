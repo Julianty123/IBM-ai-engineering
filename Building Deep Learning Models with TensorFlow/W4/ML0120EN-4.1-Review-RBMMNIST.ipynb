{
 "cells": [
  {
   "cell_type": "markdown",
   "metadata": {},
   "source": [
    "<img src=\"https://cf-courses-data.s3.us.cloud-object-storage.appdomain.cloud/IBMDeveloperSkillsNetwork-DL0120EN-SkillsNetwork/images/IDSN-logo.png\" width=\"300\" alt=\"cognitiveclass.ai logo\">\n",
    "\n",
    "<h1 align=\"center\"><font size=\"5\">RESTRICTED BOLTZMANN MACHINES</font></h1>\n"
   ]
  },
  {
   "cell_type": "markdown",
   "metadata": {},
   "source": [
    "Estimated time needed: **25** minutes\n"
   ]
  },
  {
   "cell_type": "markdown",
   "metadata": {},
   "source": [
    "<h3>Introduction</h3>\n",
    "<b>Restricted Boltzmann Machine (RBM):</b>  RBMs are shallow neural nets that learn to reconstruct data by themselves in an unsupervised fashion.  \n",
    "\n",
    "\n",
    "<h4>Why are RBMs important?</h4>\n",
    "An RBM are a basic form of autoencoder.  It can automatically extract <b>meaningful</b> features from a given input.\n",
    "\n",
    "\n",
    "<h4>How does it work?</h4>\n",
    "RBM is a 2 layer neural network. Simply, RBM takes the inputs and translates those into a set of binary values that represents them in the hidden layer. Then, these numbers can be translated back to reconstruct the inputs. Through several forward and backward passes, the RBM will be trained, and a trained RBM can reveal which features are the most important ones when detecting patterns.   \n",
    "\n",
    "\n",
    "<h4>What are the applications of an RBM?</h4>\n",
    "RBM is useful for <a href='http://www.cs.utoronto.ca/~hinton/absps/netflixICML.pdf?utm_medium=Exinfluencer&utm_source=Exinfluencer&utm_content=000026UJ&utm_term=10006555&utm_id=NA-SkillsNetwork-Channel-SkillsNetworkCoursesIBMDeveloperSkillsNetworkDL0120ENSkillsNetwork954-2023-01-01'>  Collaborative Filtering</a>, dimensionality reduction, classification, regression, feature learning, topic modeling and even <b>Deep Belief Networks</b>.\n",
    "\n",
    "<h4>Is RBM a generative or Discriminative model?</h4>\n",
    "RBM is a generative model. Let me explain it by first, see what is different between discriminative and generative models: \n",
    "\n",
    "<b>Discriminative:</b> Consider a classification problem where we want to learn to distinguish between Sedan cars (y = 1) and SUV cars (y = 0), based on some features of cars. Given a training set, an algorithm like logistic regression tries to find a straight line, or <i>decision boundary</i>, that separates the suv and sedan.  \n",
    "\n",
    "<b>Generative:</b> looking at cars, we can build a model of what Sedan cars look like. Then, looking at SUVs, we can build a separate model of what SUV cars look like. Finally, to classify a new car, we can match the new car against the Sedan model, and match it against the SUV model, to see whether the new car looks more like the SUV or Sedan. \n",
    "\n",
    "Generative Models specify a probability distribution over a dataset of input vectors. We can carry out both supervised and unsupervised tasks with generative models:\n",
    "<ul>\n",
    "    <li>In an unsupervised task, we try to form a model for $P(x)$, where $P$ is the probability given $x$ as an input vector.</li>\n",
    "    <li>In the supervised task, we first form a model for $P(x|y)$, where $P$ is the probability of $x$ given $y$(the label for $x$). For example, if $y = 0$ indicates that a car is an SUV, and $y = 1$ indicates that a car is a sedan, then $p(x|y = 0)$ models the distribution of SUV features, and $p(x|y = 1)$ models the distribution of sedan features. If we manage to find $P(x|y)$ and $P(y)$, then we can use <b>Bayes rule</b> to estimate $P(y|x)$, because:   \n",
    "        $$p(y|x) = \\frac{p(x|y)p(y)}{p(x)}$$</li>\n",
    "</ul>\n",
    "Now the question is, can we build a generative model, and then use it to create synthetic data by directly sampling from the modeled probability distributions? Lets see. \n"
   ]
  },
  {
   "cell_type": "markdown",
   "metadata": {},
   "source": [
    "<h2>Table of Contents</h2>\n",
    "<ol>\n",
    "    <li><a href=\"#ref1\">Initialization</a></li>\n",
    "    <li><a href=\"#ref2\">RBM layers</a></li>\n",
    "    <li><a href=\"#ref3\">What RBM can do after training?</a></li>\n",
    "    <li><a href=\"#ref4\">How to train the model?</a></li>\n",
    "    <li><a href=\"#ref5\">Learned features</a></li>\n",
    "</ol>\n",
    "<p></p>\n",
    "</div>\n",
    "<br>\n",
    "\n",
    "<hr>\n"
   ]
  },
  {
   "cell_type": "markdown",
   "metadata": {},
   "source": [
    "<a id=\"ref1\"></a>\n",
    "<h3>Initialization</h3>\n",
    "\n",
    "First, we have to load the utility file which contains different utility functions that are not connected\n",
    "in any way to the networks presented in the tutorials, but rather help in\n",
    "processing the outputs into a more understandable way.\n"
   ]
  },
  {
   "cell_type": "code",
   "execution_count": 1,
   "metadata": {
    "tags": []
   },
   "outputs": [],
   "source": [
    "import urllib.request\n",
    "with urllib.request.urlopen(\"https://cf-courses-data.s3.us.cloud-object-storage.appdomain.cloud/IBMDeveloperSkillsNetwork-DL0120EN-SkillsNetwork/labs/Week4/data/utils.py\") as url:\n",
    "    response = url.read()\n",
    "target = open('utils.py', 'w')\n",
    "target.write(response.decode('utf-8'))\n",
    "target.close()"
   ]
  },
  {
   "cell_type": "markdown",
   "metadata": {},
   "source": [
    "<h2>Installing TensorFlow </h2>\n",
    "\n",
    "We will installing TensorFlow version 2.9.0 and its required prerequistes.  Also installing pillow...\n"
   ]
  },
  {
   "cell_type": "code",
   "execution_count": 2,
   "metadata": {
    "tags": []
   },
   "outputs": [
    {
     "name": "stdout",
     "output_type": "stream",
     "text": [
      "Requirement already satisfied: grpcio==1.24.3 in /home/jupyterlab/conda/envs/python/lib/python3.7/site-packages (1.24.3)\n",
      "Requirement already satisfied: six>=1.5.2 in /home/jupyterlab/conda/envs/python/lib/python3.7/site-packages (from grpcio==1.24.3) (1.16.0)\n",
      "Requirement already satisfied: tensorflow==2.9.0 in /home/jupyterlab/conda/envs/python/lib/python3.7/site-packages (2.9.0)\n",
      "Requirement already satisfied: absl-py>=1.0.0 in /home/jupyterlab/conda/envs/python/lib/python3.7/site-packages (from tensorflow==2.9.0) (1.4.0)\n",
      "Requirement already satisfied: astunparse>=1.6.0 in /home/jupyterlab/conda/envs/python/lib/python3.7/site-packages (from tensorflow==2.9.0) (1.6.3)\n",
      "Requirement already satisfied: flatbuffers<2,>=1.12 in /home/jupyterlab/conda/envs/python/lib/python3.7/site-packages (from tensorflow==2.9.0) (1.12)\n",
      "Requirement already satisfied: gast<=0.4.0,>=0.2.1 in /home/jupyterlab/conda/envs/python/lib/python3.7/site-packages (from tensorflow==2.9.0) (0.4.0)\n",
      "Requirement already satisfied: google-pasta>=0.1.1 in /home/jupyterlab/conda/envs/python/lib/python3.7/site-packages (from tensorflow==2.9.0) (0.2.0)\n",
      "Requirement already satisfied: grpcio<2.0,>=1.24.3 in /home/jupyterlab/conda/envs/python/lib/python3.7/site-packages (from tensorflow==2.9.0) (1.24.3)\n",
      "Requirement already satisfied: h5py>=2.9.0 in /home/jupyterlab/conda/envs/python/lib/python3.7/site-packages (from tensorflow==2.9.0) (3.8.0)\n",
      "Requirement already satisfied: keras<2.10.0,>=2.9.0rc0 in /home/jupyterlab/conda/envs/python/lib/python3.7/site-packages (from tensorflow==2.9.0) (2.9.0)\n",
      "Requirement already satisfied: keras-preprocessing>=1.1.1 in /home/jupyterlab/conda/envs/python/lib/python3.7/site-packages (from tensorflow==2.9.0) (1.1.2)\n",
      "Requirement already satisfied: libclang>=13.0.0 in /home/jupyterlab/conda/envs/python/lib/python3.7/site-packages (from tensorflow==2.9.0) (16.0.0)\n",
      "Requirement already satisfied: numpy>=1.20 in /home/jupyterlab/conda/envs/python/lib/python3.7/site-packages (from tensorflow==2.9.0) (1.21.6)\n",
      "Requirement already satisfied: opt-einsum>=2.3.2 in /home/jupyterlab/conda/envs/python/lib/python3.7/site-packages (from tensorflow==2.9.0) (3.3.0)\n",
      "Requirement already satisfied: packaging in /home/jupyterlab/conda/envs/python/lib/python3.7/site-packages (from tensorflow==2.9.0) (23.1)\n",
      "Requirement already satisfied: protobuf>=3.9.2 in /home/jupyterlab/conda/envs/python/lib/python3.7/site-packages (from tensorflow==2.9.0) (3.19.6)\n",
      "Requirement already satisfied: setuptools in /home/jupyterlab/conda/envs/python/lib/python3.7/site-packages (from tensorflow==2.9.0) (67.7.2)\n",
      "Requirement already satisfied: six>=1.12.0 in /home/jupyterlab/conda/envs/python/lib/python3.7/site-packages (from tensorflow==2.9.0) (1.16.0)\n",
      "Requirement already satisfied: tensorboard<2.10,>=2.9 in /home/jupyterlab/conda/envs/python/lib/python3.7/site-packages (from tensorflow==2.9.0) (2.9.1)\n",
      "Requirement already satisfied: tensorflow-io-gcs-filesystem>=0.23.1 in /home/jupyterlab/conda/envs/python/lib/python3.7/site-packages (from tensorflow==2.9.0) (0.32.0)\n",
      "Requirement already satisfied: tensorflow-estimator<2.10.0,>=2.9.0rc0 in /home/jupyterlab/conda/envs/python/lib/python3.7/site-packages (from tensorflow==2.9.0) (2.9.0)\n",
      "Requirement already satisfied: termcolor>=1.1.0 in /home/jupyterlab/conda/envs/python/lib/python3.7/site-packages (from tensorflow==2.9.0) (2.3.0)\n",
      "Requirement already satisfied: typing-extensions>=3.6.6 in /home/jupyterlab/conda/envs/python/lib/python3.7/site-packages (from tensorflow==2.9.0) (4.5.0)\n",
      "Requirement already satisfied: wrapt>=1.11.0 in /home/jupyterlab/conda/envs/python/lib/python3.7/site-packages (from tensorflow==2.9.0) (1.14.1)\n",
      "Requirement already satisfied: wheel<1.0,>=0.23.0 in /home/jupyterlab/conda/envs/python/lib/python3.7/site-packages (from astunparse>=1.6.0->tensorflow==2.9.0) (0.40.0)\n",
      "Requirement already satisfied: google-auth<3,>=1.6.3 in /home/jupyterlab/conda/envs/python/lib/python3.7/site-packages (from tensorboard<2.10,>=2.9->tensorflow==2.9.0) (2.19.0)\n",
      "Requirement already satisfied: google-auth-oauthlib<0.5,>=0.4.1 in /home/jupyterlab/conda/envs/python/lib/python3.7/site-packages (from tensorboard<2.10,>=2.9->tensorflow==2.9.0) (0.4.6)\n",
      "Requirement already satisfied: markdown>=2.6.8 in /home/jupyterlab/conda/envs/python/lib/python3.7/site-packages (from tensorboard<2.10,>=2.9->tensorflow==2.9.0) (3.4.3)\n",
      "Requirement already satisfied: requests<3,>=2.21.0 in /home/jupyterlab/conda/envs/python/lib/python3.7/site-packages (from tensorboard<2.10,>=2.9->tensorflow==2.9.0) (2.29.0)\n",
      "Requirement already satisfied: tensorboard-data-server<0.7.0,>=0.6.0 in /home/jupyterlab/conda/envs/python/lib/python3.7/site-packages (from tensorboard<2.10,>=2.9->tensorflow==2.9.0) (0.6.1)\n",
      "Requirement already satisfied: tensorboard-plugin-wit>=1.6.0 in /home/jupyterlab/conda/envs/python/lib/python3.7/site-packages (from tensorboard<2.10,>=2.9->tensorflow==2.9.0) (1.8.1)\n",
      "Requirement already satisfied: werkzeug>=1.0.1 in /home/jupyterlab/conda/envs/python/lib/python3.7/site-packages (from tensorboard<2.10,>=2.9->tensorflow==2.9.0) (2.2.3)\n",
      "Requirement already satisfied: cachetools<6.0,>=2.0.0 in /home/jupyterlab/conda/envs/python/lib/python3.7/site-packages (from google-auth<3,>=1.6.3->tensorboard<2.10,>=2.9->tensorflow==2.9.0) (5.3.1)\n",
      "Requirement already satisfied: pyasn1-modules>=0.2.1 in /home/jupyterlab/conda/envs/python/lib/python3.7/site-packages (from google-auth<3,>=1.6.3->tensorboard<2.10,>=2.9->tensorflow==2.9.0) (0.3.0)\n",
      "Requirement already satisfied: rsa<5,>=3.1.4 in /home/jupyterlab/conda/envs/python/lib/python3.7/site-packages (from google-auth<3,>=1.6.3->tensorboard<2.10,>=2.9->tensorflow==2.9.0) (4.9)\n",
      "Requirement already satisfied: urllib3<2.0 in /home/jupyterlab/conda/envs/python/lib/python3.7/site-packages (from google-auth<3,>=1.6.3->tensorboard<2.10,>=2.9->tensorflow==2.9.0) (1.26.15)\n",
      "Requirement already satisfied: requests-oauthlib>=0.7.0 in /home/jupyterlab/conda/envs/python/lib/python3.7/site-packages (from google-auth-oauthlib<0.5,>=0.4.1->tensorboard<2.10,>=2.9->tensorflow==2.9.0) (1.3.1)\n",
      "Requirement already satisfied: importlib-metadata>=4.4 in /home/jupyterlab/conda/envs/python/lib/python3.7/site-packages (from markdown>=2.6.8->tensorboard<2.10,>=2.9->tensorflow==2.9.0) (4.11.4)\n",
      "Requirement already satisfied: charset-normalizer<4,>=2 in /home/jupyterlab/conda/envs/python/lib/python3.7/site-packages (from requests<3,>=2.21.0->tensorboard<2.10,>=2.9->tensorflow==2.9.0) (3.1.0)\n",
      "Requirement already satisfied: idna<4,>=2.5 in /home/jupyterlab/conda/envs/python/lib/python3.7/site-packages (from requests<3,>=2.21.0->tensorboard<2.10,>=2.9->tensorflow==2.9.0) (3.4)\n",
      "Requirement already satisfied: certifi>=2017.4.17 in /home/jupyterlab/conda/envs/python/lib/python3.7/site-packages (from requests<3,>=2.21.0->tensorboard<2.10,>=2.9->tensorflow==2.9.0) (2023.5.7)\n",
      "Requirement already satisfied: MarkupSafe>=2.1.1 in /home/jupyterlab/conda/envs/python/lib/python3.7/site-packages (from werkzeug>=1.0.1->tensorboard<2.10,>=2.9->tensorflow==2.9.0) (2.1.1)\n",
      "Requirement already satisfied: zipp>=0.5 in /home/jupyterlab/conda/envs/python/lib/python3.7/site-packages (from importlib-metadata>=4.4->markdown>=2.6.8->tensorboard<2.10,>=2.9->tensorflow==2.9.0) (3.15.0)\n",
      "Requirement already satisfied: pyasn1<0.6.0,>=0.4.6 in /home/jupyterlab/conda/envs/python/lib/python3.7/site-packages (from pyasn1-modules>=0.2.1->google-auth<3,>=1.6.3->tensorboard<2.10,>=2.9->tensorflow==2.9.0) (0.5.0)\n",
      "Requirement already satisfied: oauthlib>=3.0.0 in /home/jupyterlab/conda/envs/python/lib/python3.7/site-packages (from requests-oauthlib>=0.7.0->google-auth-oauthlib<0.5,>=0.4.1->tensorboard<2.10,>=2.9->tensorflow==2.9.0) (3.2.2)\n",
      "Requirement already satisfied: pillow==8.1.0 in /home/jupyterlab/conda/envs/python/lib/python3.7/site-packages (8.1.0)\n"
     ]
    }
   ],
   "source": [
    "!pip install grpcio==1.24.3\n",
    "!pip install tensorflow==2.9.0\n",
    "!pip install pillow==8.1.0"
   ]
  },
  {
   "cell_type": "markdown",
   "metadata": {},
   "source": [
    "<b>Notice:</b> This notebook has been created with TensorFlow version 2.9.0, and might not work with other versions. Therefore we check:\n"
   ]
  },
  {
   "cell_type": "code",
   "execution_count": 3,
   "metadata": {
    "tags": []
   },
   "outputs": [
    {
     "name": "stderr",
     "output_type": "stream",
     "text": [
      "2023-05-30 00:02:16.251484: W tensorflow/stream_executor/platform/default/dso_loader.cc:64] Could not load dynamic library 'libcudart.so.11.0'; dlerror: libcudart.so.11.0: cannot open shared object file: No such file or directory\n",
      "2023-05-30 00:02:16.251573: I tensorflow/stream_executor/cuda/cudart_stub.cc:29] Ignore above cudart dlerror if you do not have a GPU set up on your machine.\n"
     ]
    }
   ],
   "source": [
    "import tensorflow as tf\n",
    "from IPython.display import Markdown, display\n",
    "\n",
    "def printmd(string):\n",
    "    display(Markdown('# <span style=\"color:red\">'+string+'</span>'))\n",
    "\n",
    "\n",
    "if not tf.__version__ == '2.9.0':\n",
    "    printmd('<<<<<!!!!! ERROR !!!! please upgrade to TensorFlow 2.9.0, or restart your Kernel (Kernel->Restart & Clear Output)>>>>>')"
   ]
  },
  {
   "cell_type": "markdown",
   "metadata": {},
   "source": [
    "Now, we load in all the packages that we use to create the net including the TensorFlow package:\n"
   ]
  },
  {
   "cell_type": "code",
   "execution_count": 4,
   "metadata": {
    "tags": []
   },
   "outputs": [],
   "source": [
    "import tensorflow as tf\n",
    "import numpy as np\n",
    "\n",
    "from PIL import Image\n",
    "from utils import tile_raster_images\n",
    "import matplotlib.pyplot as plt\n",
    "%matplotlib inline"
   ]
  },
  {
   "cell_type": "markdown",
   "metadata": {},
   "source": [
    "<hr>\n"
   ]
  },
  {
   "cell_type": "markdown",
   "metadata": {},
   "source": [
    "<a id=\"ref2\"></a>\n",
    "<h3>RBM layers</h3>\n",
    "\n",
    "An RBM has two layers. The first layer of the RBM is called the <b>visible</b> (or input layer). Imagine that our toy example, has only vectors with 7 values, so the visible layer must have $V=7$ input nodes. \n",
    "The second layer is the <b>hidden</b> layer, which has $H$ neurons in our case. Each hidden node takes on values of either 0 or 1 (i.e., $h_i = 1$ or $h_i$ = 0), with a probability that is a logistic function of the inputs it receives from the other $V$ visible units, called for example, $p(h_i = 1)$. For our toy sample, we'll use 2 nodes in the hidden layer, so $H = 2$.\n",
    "\n",
    "<center><img src=\"https://ibm.box.com/shared/static/eu26opvcefgls6vnwuo29uwp0nudmokh.png\" alt=\"RBM Model\" style=\"width: 400px;\"></center>\n"
   ]
  },
  {
   "cell_type": "markdown",
   "metadata": {},
   "source": [
    "     \n",
    "\n",
    "Each node in the first layer also has a <b>bias</b>. We will denote the bias as $v_{bias}$, and this single value is shared among the $V$ visible units.\n",
    "\n",
    "The <b>bias</b> of the second is defined similarly as $h_{bias}$, and this single value among the $H$ hidden units.\n"
   ]
  },
  {
   "cell_type": "code",
   "execution_count": 5,
   "metadata": {},
   "outputs": [
    {
     "name": "stderr",
     "output_type": "stream",
     "text": [
      "2023-05-30 00:02:19.591986: W tensorflow/stream_executor/platform/default/dso_loader.cc:64] Could not load dynamic library 'libcuda.so.1'; dlerror: libcuda.so.1: cannot open shared object file: No such file or directory\n",
      "2023-05-30 00:02:19.592061: W tensorflow/stream_executor/cuda/cuda_driver.cc:269] failed call to cuInit: UNKNOWN ERROR (303)\n",
      "2023-05-30 00:02:19.592109: I tensorflow/stream_executor/cuda/cuda_diagnostics.cc:156] kernel driver does not appear to be running on this host (jupyterlab-u2120161092): /proc/driver/nvidia/version does not exist\n",
      "2023-05-30 00:02:19.592708: I tensorflow/core/platform/cpu_feature_guard.cc:193] This TensorFlow binary is optimized with oneAPI Deep Neural Network Library (oneDNN) to use the following CPU instructions in performance-critical operations:  AVX2 AVX512F FMA\n",
      "To enable them in other operations, rebuild TensorFlow with the appropriate compiler flags.\n"
     ]
    }
   ],
   "source": [
    "v_bias = tf.Variable(tf.zeros([7]), tf.float32)\n",
    "h_bias = tf.Variable(tf.zeros([2]), tf.float32)"
   ]
  },
  {
   "cell_type": "markdown",
   "metadata": {},
   "source": [
    "We have to define weights among the input layer and hidden layer nodes. In the weight matrix, the number of rows are equal to the input nodes, and the number of columns are equal to the output nodes. We define a tensor $\\mathbf{W}$ of shape = (7,2), where the number of visible neurons = 7, and the number of hidden neurons = 2. \n"
   ]
  },
  {
   "cell_type": "code",
   "execution_count": 6,
   "metadata": {},
   "outputs": [],
   "source": [
    "W = tf.constant(np.random.normal(loc=0.0, scale=1.0, size=(7, 2)).astype(np.float32))"
   ]
  },
  {
   "cell_type": "markdown",
   "metadata": {},
   "source": [
    "<hr>\n"
   ]
  },
  {
   "cell_type": "markdown",
   "metadata": {},
   "source": [
    "<a id=\"ref3\"></a>\n",
    "<h3>What RBM can do after training?</h3>\n",
    "Think of RBM as a model that has been trained based on images of a dataset of many SUV and sedan cars. Also, imagine that the RBM network has only two hidden nodes, where one node encodes the weight and, and the other encodes the size.  \n",
    "In a sense, the different configurations represent different cars, where one is an SUV and the other is Sedan.  In a training process, through many forward and backward passes, the RBM adjust its weights to send a stronger signal to either the SUV node (0, 1) or the sedan node (1, 0) in the hidden layer, given the pixels of images. Now, given an SUV in hidden layer, which distribution of pixels should we expect? RBM can give you 2 things. First, it encodes your images in hidden layer. Second, it gives you the probability of observing a case, given some hidden values.\n",
    "\n",
    "\n",
    "<h3>The Inference Process</h3>\n",
    "\n",
    "RBM has two phases:\n",
    "<ul>\n",
    "    <li>Forward Pass</li>  \n",
    "    <li>Backward Pass or Reconstruction</li>\n",
    "</ul>\n",
    "\n",
    "<b>Phase 1) Forward pass:</b>  \n",
    "\n",
    "Input one training sample (one image) $\\mathbf{x}$ through all visible nodes, and pass it to all hidden nodes. Processing happens in each node in the hidden layer. This computation begins by making stochastic decisions about whether to transmit that input or not (i.e. to determine the state of each hidden layer).  First, the probability vector is computed using the input feature vector $\\mathbf{x}$, the weight matrix $\\mathbf{W}$, and the bias term $h_{bias}$, as \n",
    "\n",
    "\n",
    "$$p({h_j}|\\mathbf x)= \\sigma( \\sum_{i=1}^V W_{ij} x_i + h_{bias} )$$, \n",
    "\n",
    "where $\\sigma(z) = (1+e^{-z})^{-1}$ is the logistic function.\n",
    "\n",
    "\n",
    "So, what does $p({h_j})$ represent? It is the <b>probability distribution</b> of the hidden units. That is, RBM uses inputs $x_i$ to make predictions about hidden node activations. For example, imagine that the hidden node activation values are [0.51 0.84] for the first training item. It tells you that the conditional probability for each hidden neuron for Phase 1 is: \n",
    "\n",
    "$$p(h_{1} = 1|\\mathbf{v}) = 0.51$$\n",
    "$$p(h_{2} = 1|\\mathbf{v}) = 0.84$$\n",
    "\n",
    "As a result, for each row in the training set, vector of probabilities is generated.  In TensorFlow, this is referred to as a `tensor` with a shape of (1,2). \n",
    "\n",
    "We then turn unit $j$ with probability $p(h_{j}|\\mathbf{v})$, and turn it off with probability $1 - p(h_{j}|\\mathbf{v})$ by generating a uniform random number vector $\\mathbf{\\xi}$, and comparing it to the activation probability as \n",
    "\n",
    "<center>If $\\xi_j>p(h_{j}|\\mathbf{v})$, then $h_j=1$, else $h_j=0$.</center>\n",
    "\n",
    "\n",
    "Therefore, the conditional probability of a configuration of $\\mathbf{h}$ given $\\mathbf{v}$ (for a training sample) is:\n",
    "\n",
    "$$p(\\mathbf{h} \\mid \\mathbf{v}) = \\prod_{j=1}^H p(h_j \\mid \\mathbf{v})$$\n",
    "\n",
    "\n",
    "where $H$ is the number of hidden units.\n",
    "\n"
   ]
  },
  {
   "cell_type": "markdown",
   "metadata": {},
   "source": [
    "Before we go further, let's look at a toy example for one case out of all input. Assume that we have a trained RBM, and a very simple input vector, such as [1.0, 0.0, 0.0, 1.0, 0.0, 0.0, 0.0].   \n",
    "Let's see what the output of forward pass would look like:\n"
   ]
  },
  {
   "cell_type": "code",
   "execution_count": 7,
   "metadata": {},
   "outputs": [
    {
     "name": "stdout",
     "output_type": "stream",
     "text": [
      "Input:  tf.Tensor([[1. 0. 0. 1. 0. 0. 0.]], shape=(1, 7), dtype=float32)\n",
      "hb:  tf.Tensor([0.1 0.1], shape=(2,), dtype=float32)\n",
      "w:  tf.Tensor(\n",
      "[[ 0.19131339 -1.0711111 ]\n",
      " [ 0.7548641  -0.8971486 ]\n",
      " [ 1.1444741   0.29406866]\n",
      " [-0.05187379  0.51319706]\n",
      " [ 0.763576    0.6719517 ]\n",
      " [ 0.93209594 -0.82508916]\n",
      " [ 1.9835534   1.9507837 ]], shape=(7, 2), dtype=float32)\n",
      "p(h|v):  tf.Tensor([[0.55957556 0.3874808 ]], shape=(1, 2), dtype=float32)\n",
      "h0 states: tf.Tensor([[1. 0.]], shape=(1, 2), dtype=float32)\n"
     ]
    }
   ],
   "source": [
    "X = tf.constant([[1.0, 0.0, 0.0, 1.0, 0.0, 0.0, 0.0]], tf.float32)\n",
    "\n",
    "v_state = X\n",
    "print (\"Input: \", v_state)\n",
    "\n",
    "h_bias = tf.constant([0.1, 0.1])\n",
    "print (\"hb: \", h_bias)\n",
    "print (\"w: \", W)\n",
    "\n",
    "# Calculate the probabilities of turning the hidden units on:\n",
    "h_prob = tf.nn.sigmoid(tf.matmul(v_state, W) + h_bias)  #probabilities of the hidden units\n",
    "print (\"p(h|v): \", h_prob)\n",
    "\n",
    "# Draw samples from the distribution:\n",
    "h_state = tf.nn.relu(tf.sign(h_prob - tf.random.uniform(tf.shape(h_prob)))) #states\n",
    "print (\"h0 states:\", h_state)"
   ]
  },
  {
   "cell_type": "markdown",
   "metadata": {},
   "source": [
    "<b>Phase 2) Backward Pass (Reconstruction):</b>\n",
    "The RBM reconstructs data by making several forward and backward passes between the visible and hidden layers.\n",
    "\n",
    "So, in the second phase (i.e. reconstruction phase), the samples from the hidden layer (i.e. $\\mathbf h$) becomes the input in the backward pass. The same weight matrix and visible layer biases are used to passed to the sigmoid function. The reproduced output is a reconstruction which is an approximation of the original input.\n"
   ]
  },
  {
   "cell_type": "code",
   "execution_count": 8,
   "metadata": {},
   "outputs": [
    {
     "name": "stdout",
     "output_type": "stream",
     "text": [
      "b:  tf.Tensor([0.1 0.2 0.1 0.1 0.1 0.2 0.1], shape=(7,), dtype=float32)\n",
      "p(vi∣h):  tf.Tensor(\n",
      "[[0.57231766 0.72209233 0.7763418  0.51202923 0.7034072  0.75622547\n",
      "  0.8892943 ]], shape=(1, 7), dtype=float32)\n",
      "v probability states:  tf.Tensor([[0. 1. 1. 0. 1. 1. 1.]], shape=(1, 7), dtype=float32)\n"
     ]
    }
   ],
   "source": [
    "vb = tf.constant([0.1, 0.2, 0.1, 0.1, 0.1, 0.2, 0.1])\n",
    "print (\"b: \", vb)\n",
    "v_prob = tf.nn.sigmoid(tf.matmul(h_state, tf.transpose(W)) + vb)\n",
    "print (\"p(vi∣h): \", v_prob)\n",
    "v_state = tf.nn.relu(tf.sign(v_prob - tf.random.uniform(tf.shape(v_prob))))\n",
    "print (\"v probability states: \", v_state)"
   ]
  },
  {
   "cell_type": "markdown",
   "metadata": {},
   "source": [
    "RBM learns a probability distribution over the input, and then, after being trained, the RBM can generate new samples from the learned probability distribution. As you know, <b>probability distribution</b>, is a mathematical function that provides the probabilities of occurrence of different possible outcomes in an experiment.\n",
    "\n",
    "The (conditional) probability distribution over the visible units v is given by\n",
    "\n",
    "$$p(\\mathbf{v} \\mid \\mathbf{h}) = \\prod_{i=1}^V p(v_i \\mid \\mathbf{h}),$$\n",
    "\n",
    "\n",
    "where,\n",
    "\n",
    "$$p(v_i \\mid \\mathbf{h}) = \\sigma\\left(\\sum_{j=1}^H W_{ji} h_j + v_{bias} \\right)$$\n",
    "\n",
    "so, given current state of hidden units and weights, what is the probability of generating [1. 0. 0. 1. 0. 0. 0.] in reconstruction phase, based on the above <b>probability distribution</b> function?\n"
   ]
  },
  {
   "cell_type": "code",
   "execution_count": 9,
   "metadata": {},
   "outputs": [
    {
     "name": "stdout",
     "output_type": "stream",
     "text": [
      "input X: [[1. 0. 0. 1. 0. 0. 0.]]\n",
      "probablity vector: [0.57231766 0.72209233 0.7763418  0.51202923 0.7034072  0.75622547\n",
      " 0.8892943 ]\n",
      "probability of generating X:  0.00014579279\n"
     ]
    }
   ],
   "source": [
    "inp = X\n",
    "print(\"input X:\" , inp.numpy())\n",
    "\n",
    "print(\"probablity vector:\" , v_prob[0].numpy())\n",
    "v_probability = 1\n",
    "\n",
    "for elm, p in zip(inp[0],v_prob[0]) :\n",
    "    if elm ==1:\n",
    "        v_probability *= p\n",
    "    else:\n",
    "        v_probability *= (1-p)\n",
    "\n",
    "print(\"probability of generating X: \" , v_probability.numpy())"
   ]
  },
  {
   "cell_type": "markdown",
   "metadata": {},
   "source": [
    "How similar are vectors $\\mathbf{x}$ and $\\mathbf{v}$? Of course, the reconstructed values most likely will not look anything like the input vector, because our network has not been trained yet. Our objective is to train the model in such a way that the input vector and reconstructed vector to be same. Therefore, based on how different the input values look to the ones that we just reconstructed, the weights are adjusted. \n"
   ]
  },
  {
   "cell_type": "markdown",
   "metadata": {},
   "source": [
    "<hr>\n"
   ]
  },
  {
   "cell_type": "markdown",
   "metadata": {},
   "source": [
    "\n",
    "<h2>MNIST</h2>\n"
   ]
  },
  {
   "cell_type": "markdown",
   "metadata": {},
   "source": [
    "We will be using the MNIST dataset to practice the usage of RBMs. The following cell loads the MNIST dataset.\n"
   ]
  },
  {
   "cell_type": "code",
   "execution_count": 10,
   "metadata": {},
   "outputs": [
    {
     "name": "stdout",
     "output_type": "stream",
     "text": [
      "Downloading data from https://storage.googleapis.com/tensorflow/tf-keras-datasets/mnist.npz\n",
      "11490434/11490434 [==============================] - 0s 0us/step\n"
     ]
    }
   ],
   "source": [
    "#loading training and test data\n",
    "mnist = tf.keras.datasets.mnist\n",
    "(trX, trY), (teX, teY) = mnist.load_data()\n",
    "\n",
    "# showing an example of the Flatten class and operation\n",
    "from tensorflow.keras.layers import Flatten\n",
    "flatten = Flatten(dtype='float32')\n",
    "trX = flatten(trX/255.0)\n",
    "trY = flatten(trY/255.0)"
   ]
  },
  {
   "cell_type": "markdown",
   "metadata": {},
   "source": [
    "Lets look at the dimension of the images.\n"
   ]
  },
  {
   "cell_type": "markdown",
   "metadata": {},
   "source": [
    "MNIST images have 784 pixels, so the visible layer must have 784 input nodes.  For our case, we'll use 50 nodes in the hidden layer, so i = 50.\n"
   ]
  },
  {
   "cell_type": "code",
   "execution_count": 11,
   "metadata": {},
   "outputs": [],
   "source": [
    "vb = tf.Variable(tf.zeros([784]), tf.float32)\n",
    "hb = tf.Variable(tf.zeros([50]), tf.float32)"
   ]
  },
  {
   "cell_type": "markdown",
   "metadata": {},
   "source": [
    "Let $\\mathbf W$ be the Tensor of 784x50 (784 - number of visible neurons, 50 - number of hidden neurons) that represents weights between the neurons. \n"
   ]
  },
  {
   "cell_type": "code",
   "execution_count": 12,
   "metadata": {},
   "outputs": [],
   "source": [
    "W = tf.Variable(tf.zeros([784,50]), tf.float32)"
   ]
  },
  {
   "cell_type": "markdown",
   "metadata": {},
   "source": [
    "Lets define the visible layer:\n"
   ]
  },
  {
   "cell_type": "code",
   "execution_count": 13,
   "metadata": {},
   "outputs": [
    {
     "data": {
      "text/plain": [
       "<tf.Tensor: shape=(1, 50), dtype=float32, numpy=\n",
       "array([[0., 0., 0., 0., 0., 0., 0., 0., 0., 0., 0., 0., 0., 0., 0., 0.,\n",
       "        0., 0., 0., 0., 0., 0., 0., 0., 0., 0., 0., 0., 0., 0., 0., 0.,\n",
       "        0., 0., 0., 0., 0., 0., 0., 0., 0., 0., 0., 0., 0., 0., 0., 0.,\n",
       "        0., 0.]], dtype=float32)>"
      ]
     },
     "execution_count": 13,
     "metadata": {},
     "output_type": "execute_result"
    }
   ],
   "source": [
    "v0_state = tf.Variable(tf.zeros([784]), tf.float32)\n",
    "\n",
    "#testing to see if the matrix product works\n",
    "tf.matmul( [v0_state], W)"
   ]
  },
  {
   "cell_type": "markdown",
   "metadata": {},
   "source": [
    "Now, we can define hidden layer:\n"
   ]
  },
  {
   "cell_type": "code",
   "execution_count": 14,
   "metadata": {},
   "outputs": [
    {
     "name": "stdout",
     "output_type": "stream",
     "text": [
      "h0_state shape:  tf.Tensor([ 1 50], shape=(2,), dtype=int32)\n",
      "first 15 hidden states:  tf.Tensor([1. 0. 1. 0. 1. 0. 0. 1. 1. 1. 1. 0. 0. 1. 1.], shape=(15,), dtype=float32)\n"
     ]
    }
   ],
   "source": [
    "#computing the hidden nodes probability vector and checking shape\n",
    "h0_prob = tf.nn.sigmoid(tf.matmul([v0_state], W) + hb)  #probabilities of the hidden units\n",
    "print(\"h0_state shape: \" , tf.shape(h0_prob))\n",
    "\n",
    "#defining a function to return only the generated hidden states \n",
    "def hidden_layer(v0_state, W, hb):\n",
    "    h0_prob = tf.nn.sigmoid(tf.matmul([v0_state], W) + hb)  #probabilities of the hidden units\n",
    "    h0_state = tf.nn.relu(tf.sign(h0_prob - tf.random.uniform(tf.shape(h0_prob)))) #sample_h_given_X\n",
    "    return h0_state\n",
    "\n",
    "\n",
    "h0_state = hidden_layer(v0_state, W, hb)\n",
    "print(\"first 15 hidden states: \", h0_state[0][0:15])"
   ]
  },
  {
   "cell_type": "markdown",
   "metadata": {},
   "source": [
    "Now, we define reconstruction part:\n"
   ]
  },
  {
   "cell_type": "code",
   "execution_count": 15,
   "metadata": {},
   "outputs": [
    {
     "name": "stdout",
     "output_type": "stream",
     "text": [
      "hidden state shape:  (1, 50)\n",
      "v0 state shape:   (784,)\n",
      "v1 state shape:   (784,)\n"
     ]
    }
   ],
   "source": [
    "def reconstructed_output(h0_state, W, vb):\n",
    "    v1_prob = tf.nn.sigmoid(tf.matmul(h0_state, tf.transpose(W)) + vb) \n",
    "    v1_state = tf.nn.relu(tf.sign(v1_prob - tf.random.uniform(tf.shape(v1_prob)))) #sample_v_given_h\n",
    "    return v1_state[0]\n",
    "\n",
    "v1_state = reconstructed_output(h0_state, W, vb)\n",
    "print(\"hidden state shape: \", h0_state.shape)\n",
    "print(\"v0 state shape:  \", v0_state.shape)\n",
    "print(\"v1 state shape:  \", v1_state.shape)"
   ]
  },
  {
   "cell_type": "markdown",
   "metadata": {},
   "source": [
    "<h3>What is the objective function?</h3>\n",
    "\n",
    "<b>Goal</b>: Maximize the likelihood of our data being drawn from that distribution\n",
    "\n",
    "<b>Calculate error:</b>  \n",
    "In each epoch, we compute the \"error\" as a sum of the squared difference between step 1 and step n,\n",
    "e.g the error shows the difference between the data and its reconstruction.\n",
    "\n",
    "<b>Note:</b> tf.reduce_mean computes the mean of elements across dimensions of a tensor.\n"
   ]
  },
  {
   "cell_type": "code",
   "execution_count": 16,
   "metadata": {},
   "outputs": [
    {
     "name": "stdout",
     "output_type": "stream",
     "text": [
      "error 0.52933675\n"
     ]
    }
   ],
   "source": [
    "def error(v0_state, v1_state):\n",
    "    return tf.reduce_mean(tf.square(v0_state - v1_state))\n",
    "\n",
    "err = tf.reduce_mean(tf.square(v0_state - v1_state))\n",
    "print(\"error\" , err.numpy())"
   ]
  },
  {
   "cell_type": "markdown",
   "metadata": {},
   "source": [
    "<a id=\"ref4\"></a>\n",
    "<h3>Training the Model</h3>\n",
    "<b>Warning...</b> The following part is math-heavy, but you can skip it if you just want to run the cells in the next section.\n",
    "\n",
    "As mentioned, we want to give a high probability to the input data we train on. So, in order to train an RBM, we have to maximize the product of probabilities assigned to all rows $\\mathbf{v}$ (images) in the training set $\\mathbf{V}$ (a matrix, where each row of it is treated as a visible vector $\\mathbf{v}$)\n",
    "\n",
    "$$\\arg \\max_W \\prod_{\\mathbf{v}\\in\\mathbf{V}_T} p(\\mathbf{v})$$\n",
    "\n",
    "\n",
    "which is equivalent to maximizing the expectation of the log probability, given as\n",
    "\n",
    "$$\\arg\\max_W\\left[ \\mathbb{E} \\left(\\prod_{\\mathbf v\\in \\mathbf V}\\text{log} \\left(p(\\mathbf v)\\right) \\right) \\right].$$\n",
    "\n",
    "\n",
    "So, we have to update the weights $W_{ij}$  to increase $p(\\mathbf{v})$ for all $\\mathbf{v}$ in our training data during training. So we have to calculate the derivative:\n",
    "\n",
    "\n",
    "$$\\frac{\\partial \\log p(\\mathbf v)}{\\partial W_{ij}}$$\n",
    "\n",
    "This cannot be easily done by typical <b>gradient descent (SGD)</b>, so we can use another approach, which has 2 steps:\n",
    "<ol>\n",
    "    <li>Gibbs Sampling</li>\n",
    "    <li>Contrastive Divergence</li>\n",
    "</ol>    \n",
    "    \n",
    "<h3>Gibbs Sampling</h3>   \n",
    "\n",
    "<h4>Gibbs Sampling Step 1</h4> \n",
    "Given an input vector $\\mathbf{v}$, we are using $p(\\mathbf{h}|\\mathbf{v})$ to predict the hidden values $\\mathbf{h}$. \n",
    "  $$p({h_j}|\\mathbf v)= \\sigma\\left(\\sum_{i=1}^V W_{ij} v_i + h_{bias} \\right)$$\n",
    "The samples are generated from this distribution by generating the uniform random variate vector $\\mathbf{\\xi} \\sim U[0,1]$ of length $H$ and comparing to the computed probabilities as\n",
    "\n",
    "\n",
    "<center>If $\\xi_j>p(h_{j}|\\mathbf{v})$, then $h_j=1$, else $h_j=0$.</center>\n",
    "\n",
    "\n",
    "<h4>Gibbs Sampling Step 2</h4> \n",
    "Then, knowing the hidden values, we use $p(\\mathbf v| \\mathbf h)$ for reconstructing of new input values v. \n",
    "\n",
    "   $$p({v_i}|\\mathbf h)= \\sigma\\left(\\sum_{j=1}^H W^{T}_{ij} h_j + v_{bias} \\right)$$\n",
    "\n",
    "\n",
    "The samples are generated from this distribution by generating a uniform random variate vector $\\mathbf{\\xi} \\sim U[0,1]$ of length $V$ and comparing to the computed probabilities as\n",
    "\n",
    "<center>If $\\xi_i>p(v_{i}|\\mathbf{h})$, then $v_i=1$, else $v_i=0$.</center>\n",
    "\n",
    "Let vectors $\\mathbf v_k$ and $\\mathbf h_k$ be for the $k$th iteration.  In general, the $kth$ state is generrated as: \n",
    "\n",
    "\n",
    "    \n",
    "<b>Iteration</b> $k$: \n",
    "\n",
    "$$\\mathbf v_{k-1} \\Rightarrow p(\\mathbf h_{k-1}|\\mathbf v_{k-1})\\Rightarrow \\mathbf h_{k-1}\\Rightarrow p(\\mathbf v_{k}|\\mathbf h_{k-1})\\Rightarrow \\mathbf v_k$$       \n",
    "    \n",
    "<h3>Contrastive Divergence (CD-k)</h3>\n",
    "The update of the weight matrix is done during the Contrastive Divergence step. \n",
    "\n",
    "Vectors v0 and vk are used to calculate the activation probabilities for hidden values h0 and hk. The difference between the outer products of those probabilities with input vectors v0 and vk results in the update matrix:\n",
    "\n",
    "\n",
    "$$\\Delta \\mathbf W_k =\\mathbf v_k \\otimes \\mathbf h_k - \\mathbf v_{k-1} \\otimes \\mathbf h_{k-1}$$\n",
    "\n",
    "Contrastive Divergence is actually matrix of values that is computed and used to adjust values of the $\\mathbf W$ matrix. Changing $\\mathbf W$ incrementally leads to training of the  $\\mathbf W$ values. Then, on each step (epoch), $\\mathbf W$ is updated using the following:\n",
    "\n",
    "$$\\mathbf W_k = \\mathbf W_{k-1} + \\alpha * \\Delta \\mathbf W_k$$\n",
    "\n",
    "\n",
    "\n",
    "Reconstruction steps:\n",
    "<ul>\n",
    "    <li> Get one data point from data set, like <i>x</i>, and pass it through the following steps:</li>\n",
    "    \n",
    "<b>Iteration</b> $k=1$: \n",
    "    \n",
    "Sampling (starting with input image)\n",
    "    $$\\mathbf x = \\mathbf v_0 \\Rightarrow p(\\mathbf h_0|\\mathbf v_0)\\Rightarrow \\mathbf h_0 \\Rightarrow p(\\mathbf v_1|\\mathbf h_0)\\Rightarrow \\mathbf v_1$$   \n",
    "    followed by the CD-k step\n",
    "$$\\Delta \\mathbf W_1 =\\mathbf v_1 \\otimes \\mathbf h_1 - \\mathbf v_{0} \\otimes \\mathbf h_{0}$$     \n",
    "$$\\mathbf W_1 = \\mathbf W_{0} + \\alpha * \\Delta \\mathbf W_1$$ \n",
    " \n",
    "<li> $\\mathbf v_1$ is the reconstruction of $\\mathbf x$ sent to the next iteration).</li>\n",
    "\n",
    "<b>Iteration</b> $k=2$: \n",
    "\n",
    "Sampling (starting with $\\mathbf v_1$)\n",
    "\n",
    "$$\\mathbf v_1 \\Rightarrow p(\\mathbf h_1|\\mathbf v_1)\\Rightarrow \\mathbf h_1\\Rightarrow p(\\mathbf v_2|\\mathbf h_1)\\Rightarrow \\mathbf v_2$$   \n",
    "\n",
    "followed by the CD-k step\n",
    "$$\\Delta \\mathbf W_2 =\\mathbf v_2 \\otimes \\mathbf h_2 - \\mathbf v_{1} \\otimes \\mathbf h_{1}$$     \n",
    "$$\\mathbf W_2 = \\mathbf W_{1} + \\alpha * \\Delta \\mathbf W_2$$ \n",
    "\n",
    "<li> $\\mathbf v_2$ is the reconstruction of $\\mathbf v_1$ sent to the next iteration).</li>    \n",
    "      \n",
    "<b>Iteration</b> $k=K$:\n",
    "    \n",
    "Sampling (starting with $\\mathbf v_{K-1}$)\n",
    "\n",
    "$$\\mathbf v_{K-1} \\Rightarrow p(\\mathbf h_{K-1}|\\mathbf v_{K-1})\\Rightarrow \\mathbf h_{K-1}\\Rightarrow p(\\mathbf v_K|\\mathbf h_{K-1})\\Rightarrow \\mathbf v_K$$   \n",
    "\n",
    "followed by the CD-k step\n",
    "$$\\Delta \\mathbf W_K =\\mathbf v_K \\otimes \\mathbf h_K - \\mathbf v_{K-1} \\otimes \\mathbf h_{K-1}$$     \n",
    "$$\\mathbf W_K = \\mathbf W_{K-1} + \\alpha * \\Delta \\mathbf W_K$$ \n",
    "    \n",
    "<b>What is $\\alpha$?</b>  \n",
    "Here, alpha is some small step size, and is also known as the \"learning rate\".\n"
   ]
  },
  {
   "cell_type": "markdown",
   "metadata": {},
   "source": [
    "$K$ is adjustable, and good performance can be achieved with $K=1$, so that we just take one set of sampling steps per image.\n"
   ]
  },
  {
   "cell_type": "code",
   "execution_count": 17,
   "metadata": {},
   "outputs": [],
   "source": [
    "h1_prob = tf.nn.sigmoid(tf.matmul([v1_state], W) + hb)\n",
    "h1_state = tf.nn.relu(tf.sign(h1_prob - tf.random.uniform(tf.shape(h1_prob)))) #sample_h_given_X"
   ]
  },
  {
   "cell_type": "markdown",
   "metadata": {},
   "source": [
    "Lets look at the error of the first run:\n"
   ]
  },
  {
   "cell_type": "code",
   "execution_count": 18,
   "metadata": {},
   "outputs": [
    {
     "name": "stdout",
     "output_type": "stream",
     "text": [
      "error:  tf.Tensor(0.52933675, shape=(), dtype=float32)\n"
     ]
    }
   ],
   "source": [
    "print(\"error: \", error(v0_state, v1_state))"
   ]
  },
  {
   "cell_type": "code",
   "execution_count": 19,
   "metadata": {},
   "outputs": [
    {
     "name": "stdout",
     "output_type": "stream",
     "text": [
      "Epoch: 0 batch #: 1  of 300 sample #: 199 reconstruction error: 0.157766\n",
      "Epoch: 0 batch #: 2  of 300 sample #: 199 reconstruction error: 0.229830\n",
      "Epoch: 0 batch #: 3  of 300 sample #: 199 reconstruction error: 0.123496\n",
      "Epoch: 0 batch #: 4  of 300 sample #: 199 reconstruction error: 0.151021\n",
      "Epoch: 0 batch #: 5  of 300 sample #: 199 reconstruction error: 0.095161\n",
      "Epoch: 0 batch #: 6  of 300 sample #: 199 reconstruction error: 0.195272\n",
      "Epoch: 0 batch #: 7  of 300 sample #: 199 reconstruction error: 0.086868\n",
      "Epoch: 0 batch #: 8  of 300 sample #: 199 reconstruction error: 0.118853\n",
      "Epoch: 0 batch #: 9  of 300 sample #: 199 reconstruction error: 0.092269\n",
      "Epoch: 0 batch #: 10  of 300 sample #: 199 reconstruction error: 0.184069\n",
      "Epoch: 0 batch #: 11  of 300 sample #: 199 reconstruction error: 0.082302\n",
      "Epoch: 0 batch #: 12  of 300 sample #: 199 reconstruction error: 0.143333\n",
      "Epoch: 0 batch #: 13  of 300 sample #: 199 reconstruction error: 0.064519\n",
      "Epoch: 0 batch #: 14  of 300 sample #: 199 reconstruction error: 0.104988\n",
      "Epoch: 0 batch #: 15  of 300 sample #: 199 reconstruction error: 0.106363\n",
      "Epoch: 0 batch #: 16  of 300 sample #: 199 reconstruction error: 0.113845\n",
      "Epoch: 0 batch #: 17  of 300 sample #: 199 reconstruction error: 0.072822\n",
      "Epoch: 0 batch #: 18  of 300 sample #: 199 reconstruction error: 0.121850\n",
      "Epoch: 0 batch #: 19  of 300 sample #: 199 reconstruction error: 0.154171\n",
      "Epoch: 0 batch #: 20  of 300 sample #: 199 reconstruction error: 0.104192\n",
      "Epoch: 0 batch #: 21  of 300 sample #: 199 reconstruction error: 0.105795\n",
      "Epoch: 0 batch #: 22  of 300 sample #: 199 reconstruction error: 0.076473\n",
      "Epoch: 0 batch #: 23  of 300 sample #: 199 reconstruction error: 0.099625\n",
      "Epoch: 0 batch #: 24  of 300 sample #: 199 reconstruction error: 0.142716\n",
      "Epoch: 0 batch #: 25  of 300 sample #: 199 reconstruction error: 0.105027\n",
      "Epoch: 0 batch #: 26  of 300 sample #: 199 reconstruction error: 0.099087\n",
      "Epoch: 0 batch #: 27  of 300 sample #: 199 reconstruction error: 0.115236\n",
      "Epoch: 0 batch #: 28  of 300 sample #: 199 reconstruction error: 0.071125\n",
      "Epoch: 0 batch #: 29  of 300 sample #: 199 reconstruction error: 0.092032\n",
      "Epoch: 0 batch #: 30  of 300 sample #: 199 reconstruction error: 0.084186\n",
      "Epoch: 0 batch #: 31  of 300 sample #: 199 reconstruction error: 0.087222\n",
      "Epoch: 0 batch #: 32  of 300 sample #: 199 reconstruction error: 0.120840\n",
      "Epoch: 0 batch #: 33  of 300 sample #: 199 reconstruction error: 0.054210\n",
      "Epoch: 0 batch #: 34  of 300 sample #: 199 reconstruction error: 0.086570\n",
      "Epoch: 0 batch #: 35  of 300 sample #: 199 reconstruction error: 0.078677\n",
      "Epoch: 0 batch #: 36  of 300 sample #: 199 reconstruction error: 0.075125\n",
      "Epoch: 0 batch #: 37  of 300 sample #: 199 reconstruction error: 0.066105\n",
      "Epoch: 0 batch #: 38  of 300 sample #: 199 reconstruction error: 0.070788\n",
      "Epoch: 0 batch #: 39  of 300 sample #: 199 reconstruction error: 0.086120\n",
      "Epoch: 0 batch #: 40  of 300 sample #: 199 reconstruction error: 0.104716\n",
      "Epoch: 0 batch #: 41  of 300 sample #: 199 reconstruction error: 0.065453\n",
      "Epoch: 0 batch #: 42  of 300 sample #: 199 reconstruction error: 0.053270\n",
      "Epoch: 0 batch #: 43  of 300 sample #: 199 reconstruction error: 0.114369\n",
      "Epoch: 0 batch #: 44  of 300 sample #: 199 reconstruction error: 0.069114\n",
      "Epoch: 0 batch #: 45  of 300 sample #: 199 reconstruction error: 0.058306\n",
      "Epoch: 0 batch #: 46  of 300 sample #: 199 reconstruction error: 0.039714\n",
      "Epoch: 0 batch #: 47  of 300 sample #: 199 reconstruction error: 0.050859\n",
      "Epoch: 0 batch #: 48  of 300 sample #: 199 reconstruction error: 0.037085\n",
      "Epoch: 0 batch #: 49  of 300 sample #: 199 reconstruction error: 0.140874\n",
      "Epoch: 0 batch #: 50  of 300 sample #: 199 reconstruction error: 0.045811\n",
      "Epoch: 0 batch #: 51  of 300 sample #: 199 reconstruction error: 0.067187\n",
      "Epoch: 0 batch #: 52  of 300 sample #: 199 reconstruction error: 0.042458\n",
      "Epoch: 0 batch #: 53  of 300 sample #: 199 reconstruction error: 0.109874\n",
      "Epoch: 0 batch #: 54  of 300 sample #: 199 reconstruction error: 0.052074\n",
      "Epoch: 0 batch #: 55  of 300 sample #: 199 reconstruction error: 0.103397\n",
      "Epoch: 0 batch #: 56  of 300 sample #: 199 reconstruction error: 0.052724\n",
      "Epoch: 0 batch #: 57  of 300 sample #: 199 reconstruction error: 0.046519\n",
      "Epoch: 0 batch #: 58  of 300 sample #: 199 reconstruction error: 0.079269\n",
      "Epoch: 0 batch #: 59  of 300 sample #: 199 reconstruction error: 0.057932\n",
      "Epoch: 0 batch #: 60  of 300 sample #: 199 reconstruction error: 0.096886\n",
      "Epoch: 0 batch #: 61  of 300 sample #: 199 reconstruction error: 0.077576\n",
      "Epoch: 0 batch #: 62  of 300 sample #: 199 reconstruction error: 0.084050\n",
      "Epoch: 0 batch #: 63  of 300 sample #: 199 reconstruction error: 0.046397\n",
      "Epoch: 0 batch #: 64  of 300 sample #: 199 reconstruction error: 0.088599\n",
      "Epoch: 0 batch #: 65  of 300 sample #: 199 reconstruction error: 0.092557\n",
      "Epoch: 0 batch #: 66  of 300 sample #: 199 reconstruction error: 0.071040\n",
      "Epoch: 0 batch #: 67  of 300 sample #: 199 reconstruction error: 0.048014\n",
      "Epoch: 0 batch #: 68  of 300 sample #: 199 reconstruction error: 0.054730\n",
      "Epoch: 0 batch #: 69  of 300 sample #: 199 reconstruction error: 0.094447\n",
      "Epoch: 0 batch #: 70  of 300 sample #: 199 reconstruction error: 0.088180\n",
      "Epoch: 0 batch #: 71  of 300 sample #: 199 reconstruction error: 0.070483\n",
      "Epoch: 0 batch #: 72  of 300 sample #: 199 reconstruction error: 0.068823\n",
      "Epoch: 0 batch #: 73  of 300 sample #: 199 reconstruction error: 0.091220\n",
      "Epoch: 0 batch #: 74  of 300 sample #: 199 reconstruction error: 0.107829\n",
      "Epoch: 0 batch #: 75  of 300 sample #: 199 reconstruction error: 0.049488\n",
      "Epoch: 0 batch #: 76  of 300 sample #: 199 reconstruction error: 0.082193\n",
      "Epoch: 0 batch #: 77  of 300 sample #: 199 reconstruction error: 0.125984\n",
      "Epoch: 0 batch #: 78  of 300 sample #: 199 reconstruction error: 0.098662\n",
      "Epoch: 0 batch #: 79  of 300 sample #: 199 reconstruction error: 0.107937\n",
      "Epoch: 0 batch #: 80  of 300 sample #: 199 reconstruction error: 0.044331\n",
      "Epoch: 0 batch #: 81  of 300 sample #: 199 reconstruction error: 0.051445\n",
      "Epoch: 0 batch #: 82  of 300 sample #: 199 reconstruction error: 0.057492\n",
      "Epoch: 0 batch #: 83  of 300 sample #: 199 reconstruction error: 0.079461\n",
      "Epoch: 0 batch #: 84  of 300 sample #: 199 reconstruction error: 0.080489\n",
      "Epoch: 0 batch #: 85  of 300 sample #: 199 reconstruction error: 0.051655\n",
      "Epoch: 0 batch #: 86  of 300 sample #: 199 reconstruction error: 0.086944\n",
      "Epoch: 0 batch #: 87  of 300 sample #: 199 reconstruction error: 0.076911\n",
      "Epoch: 0 batch #: 88  of 300 sample #: 199 reconstruction error: 0.020319\n",
      "Epoch: 0 batch #: 89  of 300 sample #: 199 reconstruction error: 0.057713\n",
      "Epoch: 0 batch #: 90  of 300 sample #: 199 reconstruction error: 0.075540\n",
      "Epoch: 0 batch #: 91  of 300 sample #: 199 reconstruction error: 0.064803\n",
      "Epoch: 0 batch #: 92  of 300 sample #: 199 reconstruction error: 0.064008\n",
      "Epoch: 0 batch #: 93  of 300 sample #: 199 reconstruction error: 0.106849\n",
      "Epoch: 0 batch #: 94  of 300 sample #: 199 reconstruction error: 0.125234\n",
      "Epoch: 0 batch #: 95  of 300 sample #: 199 reconstruction error: 0.065000\n",
      "Epoch: 0 batch #: 96  of 300 sample #: 199 reconstruction error: 0.048238\n",
      "Epoch: 0 batch #: 97  of 300 sample #: 199 reconstruction error: 0.103899\n",
      "Epoch: 0 batch #: 98  of 300 sample #: 199 reconstruction error: 0.089749\n",
      "Epoch: 0 batch #: 99  of 300 sample #: 199 reconstruction error: 0.067745\n",
      "Epoch: 0 batch #: 100  of 300 sample #: 199 reconstruction error: 0.119157\n",
      "Epoch: 0 batch #: 101  of 300 sample #: 199 reconstruction error: 0.082180\n",
      "Epoch: 0 batch #: 102  of 300 sample #: 199 reconstruction error: 0.068661\n",
      "Epoch: 0 batch #: 103  of 300 sample #: 199 reconstruction error: 0.084122\n",
      "Epoch: 0 batch #: 104  of 300 sample #: 199 reconstruction error: 0.078025\n",
      "Epoch: 0 batch #: 105  of 300 sample #: 199 reconstruction error: 0.054049\n",
      "Epoch: 0 batch #: 106  of 300 sample #: 199 reconstruction error: 0.133573\n",
      "Epoch: 0 batch #: 107  of 300 sample #: 199 reconstruction error: 0.149352\n",
      "Epoch: 0 batch #: 108  of 300 sample #: 199 reconstruction error: 0.053636\n",
      "Epoch: 0 batch #: 109  of 300 sample #: 199 reconstruction error: 0.108909\n",
      "Epoch: 0 batch #: 110  of 300 sample #: 199 reconstruction error: 0.046477\n",
      "Epoch: 0 batch #: 111  of 300 sample #: 199 reconstruction error: 0.105079\n",
      "Epoch: 0 batch #: 112  of 300 sample #: 199 reconstruction error: 0.045303\n",
      "Epoch: 0 batch #: 113  of 300 sample #: 199 reconstruction error: 0.084673\n",
      "Epoch: 0 batch #: 114  of 300 sample #: 199 reconstruction error: 0.060814\n",
      "Epoch: 0 batch #: 115  of 300 sample #: 199 reconstruction error: 0.064668\n",
      "Epoch: 0 batch #: 116  of 300 sample #: 199 reconstruction error: 0.058563\n",
      "Epoch: 0 batch #: 117  of 300 sample #: 199 reconstruction error: 0.039646\n",
      "Epoch: 0 batch #: 118  of 300 sample #: 199 reconstruction error: 0.080858\n",
      "Epoch: 0 batch #: 119  of 300 sample #: 199 reconstruction error: 0.104195\n",
      "Epoch: 0 batch #: 120  of 300 sample #: 199 reconstruction error: 0.069824\n",
      "Epoch: 0 batch #: 121  of 300 sample #: 199 reconstruction error: 0.041532\n",
      "Epoch: 0 batch #: 122  of 300 sample #: 199 reconstruction error: 0.098631\n",
      "Epoch: 0 batch #: 123  of 300 sample #: 199 reconstruction error: 0.064718\n",
      "Epoch: 0 batch #: 124  of 300 sample #: 199 reconstruction error: 0.068217\n",
      "Epoch: 0 batch #: 125  of 300 sample #: 199 reconstruction error: 0.045191\n",
      "Epoch: 0 batch #: 126  of 300 sample #: 199 reconstruction error: 0.097202\n",
      "Epoch: 0 batch #: 127  of 300 sample #: 199 reconstruction error: 0.090575\n",
      "Epoch: 0 batch #: 128  of 300 sample #: 199 reconstruction error: 0.077540\n",
      "Epoch: 0 batch #: 129  of 300 sample #: 199 reconstruction error: 0.052171\n",
      "Epoch: 0 batch #: 130  of 300 sample #: 199 reconstruction error: 0.081696\n",
      "Epoch: 0 batch #: 131  of 300 sample #: 199 reconstruction error: 0.063392\n",
      "Epoch: 0 batch #: 132  of 300 sample #: 199 reconstruction error: 0.052608\n",
      "Epoch: 0 batch #: 133  of 300 sample #: 199 reconstruction error: 0.068400\n",
      "Epoch: 0 batch #: 134  of 300 sample #: 199 reconstruction error: 0.094557\n",
      "Epoch: 0 batch #: 135  of 300 sample #: 199 reconstruction error: 0.111105\n",
      "Epoch: 0 batch #: 136  of 300 sample #: 199 reconstruction error: 0.103285\n",
      "Epoch: 0 batch #: 137  of 300 sample #: 199 reconstruction error: 0.068086\n",
      "Epoch: 0 batch #: 138  of 300 sample #: 199 reconstruction error: 0.089204\n",
      "Epoch: 0 batch #: 139  of 300 sample #: 199 reconstruction error: 0.090272\n",
      "Epoch: 0 batch #: 140  of 300 sample #: 199 reconstruction error: 0.087601\n",
      "Epoch: 0 batch #: 141  of 300 sample #: 199 reconstruction error: 0.086592\n",
      "Epoch: 0 batch #: 142  of 300 sample #: 199 reconstruction error: 0.066023\n",
      "Epoch: 0 batch #: 143  of 300 sample #: 199 reconstruction error: 0.053770\n",
      "Epoch: 0 batch #: 144  of 300 sample #: 199 reconstruction error: 0.070119\n",
      "Epoch: 0 batch #: 145  of 300 sample #: 199 reconstruction error: 0.090630\n",
      "Epoch: 0 batch #: 146  of 300 sample #: 199 reconstruction error: 0.114909\n",
      "Epoch: 0 batch #: 147  of 300 sample #: 199 reconstruction error: 0.071411\n",
      "Epoch: 0 batch #: 148  of 300 sample #: 199 reconstruction error: 0.080316\n",
      "Epoch: 0 batch #: 149  of 300 sample #: 199 reconstruction error: 0.041956\n",
      "Epoch: 0 batch #: 150  of 300 sample #: 199 reconstruction error: 0.041334\n",
      "Epoch: 0 batch #: 151  of 300 sample #: 199 reconstruction error: 0.109748\n",
      "Epoch: 0 batch #: 152  of 300 sample #: 199 reconstruction error: 0.090337\n",
      "Epoch: 0 batch #: 153  of 300 sample #: 199 reconstruction error: 0.070631\n",
      "Epoch: 0 batch #: 154  of 300 sample #: 199 reconstruction error: 0.074918\n",
      "Epoch: 0 batch #: 155  of 300 sample #: 199 reconstruction error: 0.051283\n",
      "Epoch: 0 batch #: 156  of 300 sample #: 199 reconstruction error: 0.071230\n",
      "Epoch: 0 batch #: 157  of 300 sample #: 199 reconstruction error: 0.101307\n",
      "Epoch: 0 batch #: 158  of 300 sample #: 199 reconstruction error: 0.062586\n",
      "Epoch: 0 batch #: 159  of 300 sample #: 199 reconstruction error: 0.062583\n",
      "Epoch: 0 batch #: 160  of 300 sample #: 199 reconstruction error: 0.066736\n",
      "Epoch: 0 batch #: 161  of 300 sample #: 199 reconstruction error: 0.081664\n",
      "Epoch: 0 batch #: 162  of 300 sample #: 199 reconstruction error: 0.109987\n",
      "Epoch: 0 batch #: 163  of 300 sample #: 199 reconstruction error: 0.054063\n",
      "Epoch: 0 batch #: 164  of 300 sample #: 199 reconstruction error: 0.057537\n",
      "Epoch: 0 batch #: 165  of 300 sample #: 199 reconstruction error: 0.081775\n",
      "Epoch: 0 batch #: 166  of 300 sample #: 199 reconstruction error: 0.050046\n",
      "Epoch: 0 batch #: 167  of 300 sample #: 199 reconstruction error: 0.073809\n",
      "Epoch: 0 batch #: 168  of 300 sample #: 199 reconstruction error: 0.045365\n",
      "Epoch: 0 batch #: 169  of 300 sample #: 199 reconstruction error: 0.038377\n",
      "Epoch: 0 batch #: 170  of 300 sample #: 199 reconstruction error: 0.057643\n",
      "Epoch: 0 batch #: 171  of 300 sample #: 199 reconstruction error: 0.026974\n",
      "Epoch: 0 batch #: 172  of 300 sample #: 199 reconstruction error: 0.037987\n",
      "Epoch: 0 batch #: 173  of 300 sample #: 199 reconstruction error: 0.091972\n",
      "Epoch: 0 batch #: 174  of 300 sample #: 199 reconstruction error: 0.106007\n",
      "Epoch: 0 batch #: 175  of 300 sample #: 199 reconstruction error: 0.060308\n",
      "Epoch: 0 batch #: 176  of 300 sample #: 199 reconstruction error: 0.046637\n",
      "Epoch: 0 batch #: 177  of 300 sample #: 199 reconstruction error: 0.038653\n",
      "Epoch: 0 batch #: 178  of 300 sample #: 199 reconstruction error: 0.109547\n",
      "Epoch: 0 batch #: 179  of 300 sample #: 199 reconstruction error: 0.070472\n",
      "Epoch: 0 batch #: 180  of 300 sample #: 199 reconstruction error: 0.084937\n",
      "Epoch: 0 batch #: 181  of 300 sample #: 199 reconstruction error: 0.105922\n",
      "Epoch: 0 batch #: 182  of 300 sample #: 199 reconstruction error: 0.084710\n",
      "Epoch: 0 batch #: 183  of 300 sample #: 199 reconstruction error: 0.108184\n",
      "Epoch: 0 batch #: 184  of 300 sample #: 199 reconstruction error: 0.063373\n",
      "Epoch: 0 batch #: 185  of 300 sample #: 199 reconstruction error: 0.060553\n",
      "Epoch: 0 batch #: 186  of 300 sample #: 199 reconstruction error: 0.110742\n",
      "Epoch: 0 batch #: 187  of 300 sample #: 199 reconstruction error: 0.067922\n",
      "Epoch: 0 batch #: 188  of 300 sample #: 199 reconstruction error: 0.114941\n",
      "Epoch: 0 batch #: 189  of 300 sample #: 199 reconstruction error: 0.068338\n",
      "Epoch: 0 batch #: 190  of 300 sample #: 199 reconstruction error: 0.045416\n",
      "Epoch: 0 batch #: 191  of 300 sample #: 199 reconstruction error: 0.099616\n",
      "Epoch: 0 batch #: 192  of 300 sample #: 199 reconstruction error: 0.127177\n",
      "Epoch: 0 batch #: 193  of 300 sample #: 199 reconstruction error: 0.114488\n",
      "Epoch: 0 batch #: 194  of 300 sample #: 199 reconstruction error: 0.088738\n",
      "Epoch: 0 batch #: 195  of 300 sample #: 199 reconstruction error: 0.047114\n",
      "Epoch: 0 batch #: 196  of 300 sample #: 199 reconstruction error: 0.050604\n",
      "Epoch: 0 batch #: 197  of 300 sample #: 199 reconstruction error: 0.048767\n",
      "Epoch: 0 batch #: 198  of 300 sample #: 199 reconstruction error: 0.093820\n",
      "Epoch: 0 batch #: 199  of 300 sample #: 199 reconstruction error: 0.073791\n",
      "Epoch: 0 batch #: 200  of 300 sample #: 199 reconstruction error: 0.092457\n",
      "Epoch: 0 batch #: 201  of 300 sample #: 199 reconstruction error: 0.092513\n",
      "Epoch: 0 batch #: 202  of 300 sample #: 199 reconstruction error: 0.027023\n",
      "Epoch: 0 batch #: 203  of 300 sample #: 199 reconstruction error: 0.073310\n",
      "Epoch: 0 batch #: 204  of 300 sample #: 199 reconstruction error: 0.059973\n",
      "Epoch: 0 batch #: 205  of 300 sample #: 199 reconstruction error: 0.029139\n",
      "Epoch: 0 batch #: 206  of 300 sample #: 199 reconstruction error: 0.057530\n",
      "Epoch: 0 batch #: 207  of 300 sample #: 199 reconstruction error: 0.071529\n",
      "Epoch: 0 batch #: 208  of 300 sample #: 199 reconstruction error: 0.060763\n",
      "Epoch: 0 batch #: 209  of 300 sample #: 199 reconstruction error: 0.029660\n",
      "Epoch: 0 batch #: 210  of 300 sample #: 199 reconstruction error: 0.089718\n",
      "Epoch: 0 batch #: 211  of 300 sample #: 199 reconstruction error: 0.089178\n",
      "Epoch: 0 batch #: 212  of 300 sample #: 199 reconstruction error: 0.089124\n",
      "Epoch: 0 batch #: 213  of 300 sample #: 199 reconstruction error: 0.112112\n",
      "Epoch: 0 batch #: 214  of 300 sample #: 199 reconstruction error: 0.130860\n",
      "Epoch: 0 batch #: 215  of 300 sample #: 199 reconstruction error: 0.038701\n",
      "Epoch: 0 batch #: 216  of 300 sample #: 199 reconstruction error: 0.103548\n",
      "Epoch: 0 batch #: 217  of 300 sample #: 199 reconstruction error: 0.072913\n",
      "Epoch: 0 batch #: 218  of 300 sample #: 199 reconstruction error: 0.066196\n",
      "Epoch: 0 batch #: 219  of 300 sample #: 199 reconstruction error: 0.083271\n",
      "Epoch: 0 batch #: 220  of 300 sample #: 199 reconstruction error: 0.059291\n",
      "Epoch: 0 batch #: 221  of 300 sample #: 199 reconstruction error: 0.092775\n",
      "Epoch: 0 batch #: 222  of 300 sample #: 199 reconstruction error: 0.082089\n",
      "Epoch: 0 batch #: 223  of 300 sample #: 199 reconstruction error: 0.066641\n",
      "Epoch: 0 batch #: 224  of 300 sample #: 199 reconstruction error: 0.064851\n",
      "Epoch: 0 batch #: 225  of 300 sample #: 199 reconstruction error: 0.068257\n",
      "Epoch: 0 batch #: 226  of 300 sample #: 199 reconstruction error: 0.131004\n",
      "Epoch: 0 batch #: 227  of 300 sample #: 199 reconstruction error: 0.075300\n",
      "Epoch: 0 batch #: 228  of 300 sample #: 199 reconstruction error: 0.067036\n",
      "Epoch: 0 batch #: 229  of 300 sample #: 199 reconstruction error: 0.084623\n",
      "Epoch: 0 batch #: 230  of 300 sample #: 199 reconstruction error: 0.038320\n",
      "Epoch: 0 batch #: 231  of 300 sample #: 199 reconstruction error: 0.031412\n",
      "Epoch: 0 batch #: 232  of 300 sample #: 199 reconstruction error: 0.078752\n",
      "Epoch: 0 batch #: 233  of 300 sample #: 199 reconstruction error: 0.100992\n",
      "Epoch: 0 batch #: 234  of 300 sample #: 199 reconstruction error: 0.072585\n",
      "Epoch: 0 batch #: 235  of 300 sample #: 199 reconstruction error: 0.064963\n",
      "Epoch: 0 batch #: 236  of 300 sample #: 199 reconstruction error: 0.116323\n",
      "Epoch: 0 batch #: 237  of 300 sample #: 199 reconstruction error: 0.070981\n",
      "Epoch: 0 batch #: 238  of 300 sample #: 199 reconstruction error: 0.096303\n",
      "Epoch: 0 batch #: 239  of 300 sample #: 199 reconstruction error: 0.033873\n",
      "Epoch: 0 batch #: 240  of 300 sample #: 199 reconstruction error: 0.101008\n",
      "Epoch: 0 batch #: 241  of 300 sample #: 199 reconstruction error: 0.085186\n",
      "Epoch: 0 batch #: 242  of 300 sample #: 199 reconstruction error: 0.072421\n",
      "Epoch: 0 batch #: 243  of 300 sample #: 199 reconstruction error: 0.063102\n",
      "Epoch: 0 batch #: 244  of 300 sample #: 199 reconstruction error: 0.075851\n",
      "Epoch: 0 batch #: 245  of 300 sample #: 199 reconstruction error: 0.079230\n",
      "Epoch: 0 batch #: 246  of 300 sample #: 199 reconstruction error: 0.079872\n",
      "Epoch: 0 batch #: 247  of 300 sample #: 199 reconstruction error: 0.057755\n",
      "Epoch: 0 batch #: 248  of 300 sample #: 199 reconstruction error: 0.078011\n",
      "Epoch: 0 batch #: 249  of 300 sample #: 199 reconstruction error: 0.036307\n",
      "Epoch: 0 batch #: 250  of 300 sample #: 199 reconstruction error: 0.083115\n",
      "Epoch: 0 batch #: 251  of 300 sample #: 199 reconstruction error: 0.045500\n",
      "Epoch: 0 batch #: 252  of 300 sample #: 199 reconstruction error: 0.067416\n",
      "Epoch: 0 batch #: 253  of 300 sample #: 199 reconstruction error: 0.052644\n",
      "Epoch: 0 batch #: 254  of 300 sample #: 199 reconstruction error: 0.037321\n",
      "Epoch: 0 batch #: 255  of 300 sample #: 199 reconstruction error: 0.064826\n",
      "Epoch: 0 batch #: 256  of 300 sample #: 199 reconstruction error: 0.086423\n",
      "Epoch: 0 batch #: 257  of 300 sample #: 199 reconstruction error: 0.101323\n",
      "Epoch: 0 batch #: 258  of 300 sample #: 199 reconstruction error: 0.083502\n",
      "Epoch: 0 batch #: 259  of 300 sample #: 199 reconstruction error: 0.069641\n",
      "Epoch: 0 batch #: 260  of 300 sample #: 199 reconstruction error: 0.084903\n",
      "Epoch: 0 batch #: 261  of 300 sample #: 199 reconstruction error: 0.032201\n",
      "Epoch: 0 batch #: 262  of 300 sample #: 199 reconstruction error: 0.054338\n",
      "Epoch: 0 batch #: 263  of 300 sample #: 199 reconstruction error: 0.078152\n",
      "Epoch: 0 batch #: 264  of 300 sample #: 199 reconstruction error: 0.064886\n",
      "Epoch: 0 batch #: 265  of 300 sample #: 199 reconstruction error: 0.073930\n",
      "Epoch: 0 batch #: 266  of 300 sample #: 199 reconstruction error: 0.033803\n",
      "Epoch: 0 batch #: 267  of 300 sample #: 199 reconstruction error: 0.068281\n",
      "Epoch: 0 batch #: 268  of 300 sample #: 199 reconstruction error: 0.027746\n",
      "Epoch: 0 batch #: 269  of 300 sample #: 199 reconstruction error: 0.103149\n",
      "Epoch: 0 batch #: 270  of 300 sample #: 199 reconstruction error: 0.080396\n",
      "Epoch: 0 batch #: 271  of 300 sample #: 199 reconstruction error: 0.055437\n",
      "Epoch: 0 batch #: 272  of 300 sample #: 199 reconstruction error: 0.065542\n",
      "Epoch: 0 batch #: 273  of 300 sample #: 199 reconstruction error: 0.052021\n",
      "Epoch: 0 batch #: 274  of 300 sample #: 199 reconstruction error: 0.060044\n",
      "Epoch: 0 batch #: 275  of 300 sample #: 199 reconstruction error: 0.080293\n",
      "Epoch: 0 batch #: 276  of 300 sample #: 199 reconstruction error: 0.068364\n",
      "Epoch: 0 batch #: 277  of 300 sample #: 199 reconstruction error: 0.072144\n",
      "Epoch: 0 batch #: 278  of 300 sample #: 199 reconstruction error: 0.056349\n",
      "Epoch: 0 batch #: 279  of 300 sample #: 199 reconstruction error: 0.057058\n",
      "Epoch: 0 batch #: 280  of 300 sample #: 199 reconstruction error: 0.067270\n",
      "Epoch: 0 batch #: 281  of 300 sample #: 199 reconstruction error: 0.075615\n",
      "Epoch: 0 batch #: 282  of 300 sample #: 199 reconstruction error: 0.106816\n",
      "Epoch: 0 batch #: 283  of 300 sample #: 199 reconstruction error: 0.061523\n",
      "Epoch: 0 batch #: 284  of 300 sample #: 199 reconstruction error: 0.064743\n",
      "Epoch: 0 batch #: 285  of 300 sample #: 199 reconstruction error: 0.063825\n",
      "Epoch: 0 batch #: 286  of 300 sample #: 199 reconstruction error: 0.088291\n",
      "Epoch: 0 batch #: 287  of 300 sample #: 199 reconstruction error: 0.058004\n",
      "Epoch: 0 batch #: 288  of 300 sample #: 199 reconstruction error: 0.017118\n",
      "Epoch: 0 batch #: 289  of 300 sample #: 199 reconstruction error: 0.104985\n",
      "Epoch: 0 batch #: 290  of 300 sample #: 199 reconstruction error: 0.103961\n",
      "Epoch: 0 batch #: 291  of 300 sample #: 199 reconstruction error: 0.100745\n",
      "Epoch: 0 batch #: 292  of 300 sample #: 199 reconstruction error: 0.051259\n",
      "Epoch: 0 batch #: 293  of 300 sample #: 199 reconstruction error: 0.054139\n",
      "Epoch: 0 batch #: 294  of 300 sample #: 199 reconstruction error: 0.074398\n",
      "Epoch: 0 batch #: 295  of 300 sample #: 199 reconstruction error: 0.064353\n",
      "Epoch: 0 batch #: 296  of 300 sample #: 199 reconstruction error: 0.030605\n",
      "Epoch: 0 batch #: 297  of 300 sample #: 199 reconstruction error: 0.096714\n",
      "Epoch: 0 batch #: 298  of 300 sample #: 199 reconstruction error: 0.056294\n",
      "Epoch: 0 batch #: 299  of 300 sample #: 199 reconstruction error: 0.046394\n",
      "Epoch: 0 batch #: 300  of 300 sample #: 199 reconstruction error: 0.099646\n"
     ]
    }
   ],
   "source": [
    "#Parameters\n",
    "alpha = 0.01\n",
    "epochs = 1\n",
    "batchsize = 200\n",
    "weights = []\n",
    "errors = []\n",
    "batch_number = 0\n",
    "K = 1\n",
    "\n",
    "#creating datasets\n",
    "train_ds = \\\n",
    "    tf.data.Dataset.from_tensor_slices((trX, trY)).batch(batchsize)\n",
    "\n",
    "for epoch in range(epochs):\n",
    "    for batch_x, batch_y in train_ds:\n",
    "        batch_number += 1\n",
    "        for i_sample in range(batchsize):           \n",
    "            for k in range(K):\n",
    "                v0_state = batch_x[i_sample]\n",
    "                h0_state = hidden_layer(v0_state, W, hb)\n",
    "                v1_state = reconstructed_output(h0_state, W, vb)\n",
    "                h1_state = hidden_layer(v1_state, W, hb)\n",
    "\n",
    "                delta_W = tf.matmul(tf.transpose([v0_state]), h0_state) - tf.matmul(tf.transpose([v1_state]), h1_state)\n",
    "                W = W + alpha * delta_W\n",
    "\n",
    "                vb = vb + alpha * tf.reduce_mean(v0_state - v1_state, 0)\n",
    "                hb = hb + alpha * tf.reduce_mean(h0_state - h1_state, 0) \n",
    "\n",
    "                v0_state = v1_state\n",
    "\n",
    "            if i_sample == batchsize-1:\n",
    "                err = error(batch_x[i_sample], v1_state)\n",
    "                errors.append(err)\n",
    "                weights.append(W)\n",
    "                print ( 'Epoch: %d' % epoch, \n",
    "                       \"batch #: %i \" % batch_number, \"of %i\" % int(60e3/batchsize), \n",
    "                       \"sample #: %i\" % i_sample,\n",
    "                       'reconstruction error: %f' % err)\n",
    "\n"
   ]
  },
  {
   "cell_type": "markdown",
   "metadata": {},
   "source": [
    "Let's take a look at the errors at the end of each batch:\n"
   ]
  },
  {
   "cell_type": "code",
   "execution_count": 20,
   "metadata": {},
   "outputs": [
    {
     "data": {
      "image/png": "[encoded data removed]",
      "text/plain": [
       "<Figure size 640x480 with 1 Axes>"
      ]
     },
     "metadata": {},
     "output_type": "display_data"
    }
   ],
   "source": [
    "plt.plot(errors)\n",
    "plt.xlabel(\"Batch Number\")\n",
    "plt.ylabel(\"Error\")\n",
    "plt.show()"
   ]
  },
  {
   "cell_type": "markdown",
   "metadata": {},
   "source": [
    "What is the final weight matrix $W$ after training?\n"
   ]
  },
  {
   "cell_type": "code",
   "execution_count": 21,
   "metadata": {},
   "outputs": [
    {
     "name": "stdout",
     "output_type": "stream",
     "text": [
      "[[-0.6099997  -0.4799998  -0.43999985 ... -0.5199998  -0.24000004\n",
      "  -0.33999994]\n",
      " [-0.57999974 -0.41999987 -0.43999985 ... -0.46999982 -0.23000003\n",
      "  -0.29999998]\n",
      " [-0.56999975 -0.5299998  -0.3899999  ... -0.5099998  -0.26000002\n",
      "  -0.31999996]\n",
      " ...\n",
      " [-0.57999974 -0.40999988 -0.3899999  ... -0.46999982 -0.22000003\n",
      "  -0.32999995]\n",
      " [-0.5999997  -0.40999988 -0.5099998  ... -0.5399998  -0.21000002\n",
      "  -0.32999995]\n",
      " [-0.56999975 -0.46999982 -0.4799998  ... -0.5099998  -0.27\n",
      "  -0.32999995]]\n"
     ]
    }
   ],
   "source": [
    "print(W.numpy()) # a weight matrix of shape (50,784)"
   ]
  },
  {
   "cell_type": "markdown",
   "metadata": {},
   "source": [
    "<a id=\"ref5\"></a>\n",
    "<h3>Learned features</h3> \n"
   ]
  },
  {
   "cell_type": "markdown",
   "metadata": {},
   "source": [
    "We can take each hidden unit and visualize the connections between that hidden unit and each element in the input vector. In our case, we have 50 hidden units. Lets visualize those.\n"
   ]
  },
  {
   "cell_type": "markdown",
   "metadata": {},
   "source": [
    "Let's plot the current weights:\n",
    "<b>tile_raster_images</b> helps in generating an easy to grasp image from a set of samples or weights. It transforms the <b>uw</b> (with one flattened image per row of size 784), into an array (of size $28\\times28$) in which images are reshaped and laid out like tiles on a floor.\n"
   ]
  },
  {
   "cell_type": "code",
   "execution_count": 22,
   "metadata": {},
   "outputs": [
    {
     "data": {
      "image/png": "[encoded data removed]",
      "text/plain": [
       "<Figure size 1800x1800 with 1 Axes>"
      ]
     },
     "metadata": {},
     "output_type": "display_data"
    }
   ],
   "source": [
    "tile_raster_images(X=W.numpy().T, img_shape=(28, 28), tile_shape=(5, 10), tile_spacing=(1, 1))\n",
    "import matplotlib.pyplot as plt\n",
    "from PIL import Image\n",
    "%matplotlib inline\n",
    "image = Image.fromarray(tile_raster_images(X=W.numpy().T, img_shape=(28, 28) ,tile_shape=(5, 10), tile_spacing=(1, 1)))\n",
    "### Plot image\n",
    "plt.rcParams['figure.figsize'] = (18.0, 18.0)\n",
    "imgplot = plt.imshow(image)\n",
    "imgplot.set_cmap('gray')  "
   ]
  },
  {
   "cell_type": "markdown",
   "metadata": {},
   "source": [
    "Each tile in the above visualization corresponds to a vector of connections between a hidden unit and visible layer's units. \n"
   ]
  },
  {
   "cell_type": "markdown",
   "metadata": {},
   "source": [
    "Let's look at one of the learned weights corresponding to one of hidden units for example. In this particular square, the gray color represents weight = 0, and the whiter it is, the more positive the weights are (closer to 1). Conversely, the darker pixels are, the more negative the weights. The positive pixels will increase the probability of activation in hidden units (after multiplying by input/visible pixels), and negative pixels will decrease the probability of a unit hidden to be 1 (activated). So, why is this important?  So we can see that this specific square (hidden unit) can detect a feature (e.g. a \"/\" shape) and if it exists in the input.\n"
   ]
  },
  {
   "cell_type": "code",
   "execution_count": 23,
   "metadata": {},
   "outputs": [
    {
     "data": {
      "image/png": "[encoded data removed]",
      "text/plain": [
       "<Figure size 400x400 with 1 Axes>"
      ]
     },
     "metadata": {},
     "output_type": "display_data"
    }
   ],
   "source": [
    "from PIL import Image\n",
    "image = Image.fromarray(tile_raster_images(X =W.numpy().T[10:11], img_shape=(28, 28),tile_shape=(1, 1), tile_spacing=(1, 1)))\n",
    "### Plot image\n",
    "plt.rcParams['figure.figsize'] = (4.0, 4.0)\n",
    "imgplot = plt.imshow(image)\n",
    "imgplot.set_cmap('gray')  "
   ]
  },
  {
   "cell_type": "markdown",
   "metadata": {},
   "source": [
    "Let's look at the reconstruction of an image now. Imagine that we have a destructed image of figure 3. Lets see if our trained network can fix it:\n",
    "\n",
    "First we plot the image:\n"
   ]
  },
  {
   "cell_type": "code",
   "execution_count": 24,
   "metadata": {},
   "outputs": [
    {
     "name": "stdout",
     "output_type": "stream",
     "text": [
      "--2023-05-30 00:05:04--  https://ibm.box.com/shared/static/vvm1b63uvuxq88vbw9znpwu5ol380mco.jpg\n",
      "Resolving ibm.box.com (ibm.box.com)... 74.112.186.144\n",
      "Connecting to ibm.box.com (ibm.box.com)|74.112.186.144|:443... connected.\n",
      "HTTP request sent, awaiting response... 301 Moved Permanently\n",
      "Location: /public/static/vvm1b63uvuxq88vbw9znpwu5ol380mco.jpg [following]\n",
      "--2023-05-30 00:05:05--  https://ibm.box.com/public/static/vvm1b63uvuxq88vbw9znpwu5ol380mco.jpg\n",
      "Reusing existing connection to ibm.box.com:443.\n",
      "HTTP request sent, awaiting response... 301 Moved Permanently\n",
      "Location: https://ibm.ent.box.com/public/static/vvm1b63uvuxq88vbw9znpwu5ol380mco.jpg [following]\n",
      "--2023-05-30 00:05:05--  https://ibm.ent.box.com/public/static/vvm1b63uvuxq88vbw9znpwu5ol380mco.jpg\n",
      "Resolving ibm.ent.box.com (ibm.ent.box.com)... 74.112.186.144\n",
      "Connecting to ibm.ent.box.com (ibm.ent.box.com)|74.112.186.144|:443... connected.\n",
      "HTTP request sent, awaiting response... 302 Found\n",
      "Location: https://public.boxcloud.com/d/1/b1!KTW_3kGKhNd_tliTL24jgzs0kiy6igrgI5TQPF-SjKGXj533VvzwjzSLjnGc_sBYNzlpV2-OziJcPDKSvoRbJAlhA1nn7Pe9uLIbHee1-a2TZsh9mzAiJsPd_P1brIw18q2e9_1IKTjxNumAKDrZeZlC7pxFdW3Y8eWNsum8yD3FEVK3eb-ZMY5aI2cDGb9EJ-XKDau5Xs_8aQzqauFhb2UZl0WUsUt9yDkFEp0udCD4IYIb7QXgwR4GkELmTGslJusQKfSZXONzNocbLaEATtp1Rn0k0JWBh6qPCWRg0EwgnC6HbWNMwrhJLdHYIY9YIpQbPiJf5ZvaINhBnKt_W2hllQAF40PlYgAwrjX7-qwXxKdNmKSNHhjIJlROwMeBbfD-aNSf0QT0SnznZ2i2eLqiL-AdDVW3Fggl_Xv8_Tcjajg4cUmw9nUwfnKlH2jdkzl63yoMpjL8sO5YO6tRkzgaMV0RQQnnv11f52W_u7Xyt1lqIon9ibVH_iW8zTkkOFqKE9ZwD2iT-OEJtclMRIOF919osIbm-py4lBe3Rh_iZ0_F4hlnvLijKVnJ_1r3xp4SBwXOTm9FBcS7UeK73urMVWAxsHe_7v7y_4UEmGQ9qU5UBaJaOf0bH6UhBD7-RHcrZAVC4ppveuWZ2h5OCK-JbAT_5avB3By-Yc6_N0k5hjJk_y8uNCTiuNGZnbgPKtrRfxuMFoQGWxTEJv8e0D4-0OClCFV5ZLIvhxIdYHEOyuNsLr89hpFg9XNnn_RAqU4lR8U8AaTMQLNeLLHPWJHOSRL-n9oy8JPKY2iEHnxTxRmUhovHF1uXsPHe42u3SrF7LoCL9BBohA-492WlQDxFxy2JBVvJ2mr5yUzmqtsxxKK185LSxrolx3vb3eTEc1_NGyubCURy3wYAOgncDtmz_jzA-IJEnRYfZcdHXxhKJ1uvqUXwjpdKpKs9EYHsQl_LjtqrnAgF0pmNzB08fZ3Kxg9qBGxPuSAc7tRqPIb7YAOalthgHiIWK5KIHOsFLsHJ62-wEACzyRySjuW7mNeHHdhVRVcxIDvO92kqFeVeAjy5wzSw1DwgMkd8FVKfqOgEvXEZMVOg4wb2kmCUuIqxwShXhPobPfxDe0wprEgeHUqw3k8eO6rRAjfMtotctEysE4K8ewGQKM6kI2gVuSNZ8pyHv8d_cCza7025NGR6NC94TBY_My9DLDdUfHPqJ8p6AbVVKZEP5I9A-fbkoY7lirefwgGaNgJwfAoFOfny9Oq_OyxAPy_PbHWXiIQravFkvdPN3M_9tEIMpuBEWZO-HoX4J8MmbEy-QM6KIR5ApjjduK4XQ_m1pkZn7SnNDmQHgcuUHNLsn7K8DiH5ajZ5_dpLazmDaMBvumBYsCPFuuouTUXvkCDTVdGP8VXo5sbKDGwHQy5B-Y8n0xvdhGXCbbU7O1EcYl8otNYQQRLHeZE40w../download [following]\n",
      "--2023-05-30 00:05:06--  https://public.boxcloud.com/d/1/b1!KTW_3kGKhNd_tliTL24jgzs0kiy6igrgI5TQPF-SjKGXj533VvzwjzSLjnGc_sBYNzlpV2-OziJcPDKSvoRbJAlhA1nn7Pe9uLIbHee1-a2TZsh9mzAiJsPd_P1brIw18q2e9_1IKTjxNumAKDrZeZlC7pxFdW3Y8eWNsum8yD3FEVK3eb-ZMY5aI2cDGb9EJ-XKDau5Xs_8aQzqauFhb2UZl0WUsUt9yDkFEp0udCD4IYIb7QXgwR4GkELmTGslJusQKfSZXONzNocbLaEATtp1Rn0k0JWBh6qPCWRg0EwgnC6HbWNMwrhJLdHYIY9YIpQbPiJf5ZvaINhBnKt_W2hllQAF40PlYgAwrjX7-qwXxKdNmKSNHhjIJlROwMeBbfD-aNSf0QT0SnznZ2i2eLqiL-AdDVW3Fggl_Xv8_Tcjajg4cUmw9nUwfnKlH2jdkzl63yoMpjL8sO5YO6tRkzgaMV0RQQnnv11f52W_u7Xyt1lqIon9ibVH_iW8zTkkOFqKE9ZwD2iT-OEJtclMRIOF919osIbm-py4lBe3Rh_iZ0_F4hlnvLijKVnJ_1r3xp4SBwXOTm9FBcS7UeK73urMVWAxsHe_7v7y_4UEmGQ9qU5UBaJaOf0bH6UhBD7-RHcrZAVC4ppveuWZ2h5OCK-JbAT_5avB3By-Yc6_N0k5hjJk_y8uNCTiuNGZnbgPKtrRfxuMFoQGWxTEJv8e0D4-0OClCFV5ZLIvhxIdYHEOyuNsLr89hpFg9XNnn_RAqU4lR8U8AaTMQLNeLLHPWJHOSRL-n9oy8JPKY2iEHnxTxRmUhovHF1uXsPHe42u3SrF7LoCL9BBohA-492WlQDxFxy2JBVvJ2mr5yUzmqtsxxKK185LSxrolx3vb3eTEc1_NGyubCURy3wYAOgncDtmz_jzA-IJEnRYfZcdHXxhKJ1uvqUXwjpdKpKs9EYHsQl_LjtqrnAgF0pmNzB08fZ3Kxg9qBGxPuSAc7tRqPIb7YAOalthgHiIWK5KIHOsFLsHJ62-wEACzyRySjuW7mNeHHdhVRVcxIDvO92kqFeVeAjy5wzSw1DwgMkd8FVKfqOgEvXEZMVOg4wb2kmCUuIqxwShXhPobPfxDe0wprEgeHUqw3k8eO6rRAjfMtotctEysE4K8ewGQKM6kI2gVuSNZ8pyHv8d_cCza7025NGR6NC94TBY_My9DLDdUfHPqJ8p6AbVVKZEP5I9A-fbkoY7lirefwgGaNgJwfAoFOfny9Oq_OyxAPy_PbHWXiIQravFkvdPN3M_9tEIMpuBEWZO-HoX4J8MmbEy-QM6KIR5ApjjduK4XQ_m1pkZn7SnNDmQHgcuUHNLsn7K8DiH5ajZ5_dpLazmDaMBvumBYsCPFuuouTUXvkCDTVdGP8VXo5sbKDGwHQy5B-Y8n0xvdhGXCbbU7O1EcYl8otNYQQRLHeZE40w../download\n",
      "Resolving public.boxcloud.com (public.boxcloud.com)... 74.112.186.128\n",
      "Connecting to public.boxcloud.com (public.boxcloud.com)|74.112.186.128|:443... connected.\n",
      "HTTP request sent, awaiting response... 200 OK\n",
      "Length: 24383 (24K) [image/jpeg]\n",
      "Saving to: ‘destructed3.jpg’\n",
      "\n",
      "destructed3.jpg     100%[===================>]  23.81K  --.-KB/s    in 0.03s   \n",
      "\n",
      "2023-05-30 00:05:06 (809 KB/s) - ‘destructed3.jpg’ saved [24383/24383]\n",
      "\n"
     ]
    },
    {
     "data": {
      "image/png": "[encoded data removed]",
      "text/plain": [
       "<PIL.JpegImagePlugin.JpegImageFile image mode=RGB size=181x181 at 0x7FE12F2738D0>"
      ]
     },
     "execution_count": 24,
     "metadata": {},
     "output_type": "execute_result"
    }
   ],
   "source": [
    "!wget -O destructed3.jpg  https://ibm.box.com/shared/static/vvm1b63uvuxq88vbw9znpwu5ol380mco.jpg\n",
    "img = Image.open('destructed3.jpg')\n",
    "img"
   ]
  },
  {
   "cell_type": "markdown",
   "metadata": {},
   "source": [
    "Now let's pass this image through the neural net:\n"
   ]
  },
  {
   "cell_type": "code",
   "execution_count": 25,
   "metadata": {},
   "outputs": [],
   "source": [
    "# convert the image to a 1d numpy array\n",
    "sample_case = np.array(img.convert('I').resize((28,28))).ravel().reshape((1, -1))/255.0\n",
    "\n",
    "sample_case = tf.cast(sample_case, dtype=tf.float32)"
   ]
  },
  {
   "cell_type": "markdown",
   "metadata": {},
   "source": [
    "Feed the sample case into the network and reconstruct the output:\n"
   ]
  },
  {
   "cell_type": "code",
   "execution_count": 26,
   "metadata": {},
   "outputs": [
    {
     "name": "stdout",
     "output_type": "stream",
     "text": [
      "Probability nodes in hidden layer: tf.Tensor(\n",
      "[[9.99984503e-01 9.99801338e-01 9.99883115e-01 1.40870117e-12\n",
      "  4.01459984e-05 9.99999881e-01 6.41018851e-04 5.18538717e-13\n",
      "  3.21941172e-12 9.86300170e-01 2.08454730e-04 8.06103906e-10\n",
      "  1.60584750e-03 9.99984562e-01 6.33265472e-06 9.99974847e-01\n",
      "  9.99998689e-01 9.99999702e-01 1.26423962e-14 9.75092947e-01\n",
      "  9.99876738e-01 9.99984860e-01 7.52905786e-01 1.00000000e+00\n",
      "  9.20280349e-04 8.51194185e-11 9.99977350e-01 2.80372461e-11\n",
      "  6.46108568e-01 1.00000000e+00 1.11373262e-02 9.66897318e-09\n",
      "  9.67267454e-02 8.72893841e-04 1.33504643e-17 1.27495574e-02\n",
      "  1.81607625e-14 7.39998579e-01 2.62040434e-09 1.54423073e-03\n",
      "  5.01545489e-01 2.40067038e-06 1.78620632e-10 1.43705211e-05\n",
      "  1.63173742e-18 1.39540236e-04 4.23761308e-01 1.00000000e+00\n",
      "  2.50390202e-01 1.21240584e-04]], shape=(1, 50), dtype=float32)\n",
      "activated nodes in hidden layer: tf.Tensor(\n",
      "[[1. 1. 1. 0. 0. 1. 0. 0. 0. 1. 0. 0. 0. 1. 0. 1. 1. 1. 0. 1. 1. 1. 1. 1.\n",
      "  0. 0. 1. 0. 1. 1. 0. 0. 0. 0. 0. 0. 0. 1. 0. 0. 1. 0. 0. 0. 0. 0. 0. 1.\n",
      "  0. 0.]], shape=(1, 50), dtype=float32)\n",
      "tf.Tensor(\n",
      "[[1.04735758e-04 1.54684880e-04 1.12329079e-04 1.20472825e-04\n",
      "  1.79713621e-04 1.26648840e-04 1.01640595e-04 1.29206936e-04\n",
      "  9.66840817e-05 9.96282251e-05 1.02662023e-04 1.02662023e-04\n",
      "  1.26192681e-04 1.35718903e-04 8.23318042e-05 1.03950224e-04\n",
      "  1.10105000e-04 1.45678132e-04 1.34479254e-04 7.91596322e-05\n",
      "  8.48988420e-05 1.10105102e-04 1.29207052e-04 7.45500511e-05\n",
      "  1.04735664e-04 1.16912764e-04 7.38083691e-05 9.28933077e-05\n",
      "  8.83633184e-05 1.21683363e-04 8.57519553e-05 1.19274220e-04\n",
      "  7.04737613e-05 1.00830948e-04 8.91009840e-05 9.45952997e-05\n",
      "  1.04966020e-04 1.11002555e-04 2.36154519e-04 2.18412737e-04\n",
      "  2.31135069e-04 1.36615970e-04 1.10633227e-04 1.91221523e-04\n",
      "  2.04137541e-04 1.52960303e-04 2.44770374e-04 1.24570550e-04\n",
      "  1.40125980e-04 8.82456006e-05 7.58800816e-05 7.65466757e-05\n",
      "  1.81519499e-04 8.74840625e-05 1.10105000e-04 8.83633184e-05\n",
      "  1.57809001e-04 9.57221273e-05 1.06591884e-04 8.77074999e-05\n",
      "  1.10663510e-04 5.64199763e-05 1.18560965e-04 2.14290296e-04\n",
      "  7.74770597e-05 5.72334247e-05 2.89179989e-05 3.02364224e-05\n",
      "  2.17592096e-05 3.92497277e-05 2.16461012e-05 4.97082801e-05\n",
      "  2.70170767e-05 1.26406194e-05 1.32975601e-05 1.15286621e-05\n",
      "  1.74130710e-05 5.26989425e-05 1.06029249e-04 1.42911682e-04\n",
      "  1.64261408e-04 6.17475089e-05 1.35830487e-04 7.02088582e-05\n",
      "  1.06851388e-04 1.21683479e-04 7.16778086e-05 1.11451729e-04\n",
      "  2.20953269e-04 1.23844991e-04 1.15863317e-04 4.16357143e-05\n",
      "  5.21091606e-05 2.10905873e-05 2.63227521e-05 3.47911628e-05\n",
      "  4.47707280e-05 8.82846434e-05 1.27158419e-04 2.55911262e-04\n",
      "  6.06828835e-04 2.49620643e-04 1.92172723e-04 1.01272664e-04\n",
      "  8.31110883e-05 5.20113572e-05 5.07420809e-05 1.52636989e-04\n",
      "  1.73836612e-04 1.81107505e-04 1.18004238e-04 1.31816923e-04\n",
      "  1.57809147e-04 1.26758197e-04 1.38998817e-04 6.85763807e-05\n",
      "  1.28544940e-04 3.08943650e-04 1.33084439e-04 1.20317854e-04\n",
      "  9.33616684e-05 1.25947685e-04 9.69105968e-05 1.48910025e-04\n",
      "  3.56215780e-04 1.59744918e-03 6.31715404e-03 4.09015156e-02\n",
      "  1.05682455e-01 7.43300542e-02 1.86213758e-02 2.49512633e-03\n",
      "  2.37181503e-03 1.04195462e-03 1.19008741e-03 1.26605306e-03\n",
      "  4.98401176e-04 4.56290290e-04 7.30425018e-05 1.12721791e-04\n",
      "  1.59394956e-04 4.99735906e-05 1.37848110e-04 9.65780200e-05\n",
      "  4.43279307e-04 2.91346165e-04 4.37072682e-04 6.04933884e-04\n",
      "  5.42465947e-04 1.24330819e-03 2.84989341e-03 2.96314689e-03\n",
      "  1.86881796e-02 7.18087032e-02 2.96006322e-01 7.88343132e-01\n",
      "  9.52118278e-01 9.15251017e-01 7.82524586e-01 3.11281502e-01\n",
      "  6.27357513e-02 3.92249376e-02 3.34722996e-02 6.40571257e-03\n",
      "  1.48668047e-03 1.30403962e-03 5.48266806e-04 1.36262752e-04\n",
      "  1.07924971e-04 1.14189992e-04 1.11714224e-04 3.54490563e-04\n",
      "  1.22627174e-03 1.96790672e-03 9.52942821e-04 1.95578160e-03\n",
      "  3.48350359e-03 8.50327127e-03 2.65197996e-02 1.19067512e-01\n",
      "  5.07623732e-01 8.07692707e-01 9.41597760e-01 9.74087119e-01\n",
      "  9.81701434e-01 9.84093189e-01 9.53383625e-01 8.58463943e-01\n",
      "  5.85869908e-01 1.48620561e-01 4.74405438e-02 1.73235070e-02\n",
      "  4.56640264e-03 1.36197836e-03 6.16287813e-04 1.34310729e-04\n",
      "  9.12471587e-05 1.02084210e-04 3.45489971e-04 1.01175008e-03\n",
      "  4.42196429e-03 4.88078501e-03 6.96691871e-03 9.88332182e-03\n",
      "  2.96214987e-02 2.14312986e-01 5.39186954e-01 8.22220445e-01\n",
      "  8.74177217e-01 9.49603498e-01 9.01777744e-01 9.56397653e-01\n",
      "  9.56679285e-01 8.68191481e-01 7.78890550e-01 8.07815194e-01\n",
      "  7.54232526e-01 4.92280573e-01 7.41012469e-02 1.27648162e-02\n",
      "  2.40304973e-03 5.35782601e-04 3.48578673e-04 1.36937728e-04\n",
      "  9.48330198e-05 1.43810888e-04 7.41101510e-04 2.50504492e-03\n",
      "  3.47956456e-03 1.74067020e-02 1.63482074e-02 5.64688258e-02\n",
      "  2.38715932e-01 5.31575620e-01 8.68095994e-01 8.80085707e-01\n",
      "  8.68166924e-01 7.68950999e-01 7.21701384e-01 5.43864489e-01\n",
      "  4.11724746e-01 2.17402533e-01 1.80101380e-01 6.47449911e-01\n",
      "  8.37154865e-01 5.28066456e-01 8.44398290e-02 1.35817863e-02\n",
      "  1.89603120e-03 1.73302557e-04 2.96066923e-04 1.44364589e-04\n",
      "  9.21821702e-05 1.41867451e-04 5.54534665e-04 1.92975486e-03\n",
      "  4.68500750e-03 1.85712744e-02 2.21514311e-02 1.09203845e-01\n",
      "  2.62374520e-01 5.83649337e-01 7.56097496e-01 3.57984930e-01\n",
      "  3.19978654e-01 8.18606839e-02 1.35998651e-01 1.41187146e-01\n",
      "  6.01565428e-02 9.08107162e-02 1.80095986e-01 6.24640703e-01\n",
      "  8.21849883e-01 5.46005130e-01 2.08481073e-01 9.74792708e-03\n",
      "  1.31149229e-03 3.78893368e-04 4.11029556e-04 1.84078177e-04\n",
      "  1.33387060e-04 2.09242091e-04 7.32611981e-04 1.88577163e-03\n",
      "  4.32653865e-03 9.59370006e-03 2.63681188e-02 1.13038853e-01\n",
      "  2.07134649e-01 6.81859732e-01 2.85292476e-01 5.01874685e-02\n",
      "  2.86747068e-02 1.00755859e-02 4.47605811e-02 1.28921092e-01\n",
      "  2.70509988e-01 2.23616868e-01 4.97418284e-01 7.30569065e-01\n",
      "  7.32586980e-01 5.19593477e-01 4.47508171e-02 1.04377214e-02\n",
      "  6.23145897e-04 4.32977802e-04 2.44300812e-04 1.47500105e-04\n",
      "  1.09193570e-04 3.74973431e-04 8.29442521e-04 2.07237643e-03\n",
      "  3.97157017e-03 7.62188481e-03 3.79373059e-02 1.13496564e-01\n",
      "  2.22591668e-01 2.88265169e-01 4.07713950e-02 1.48548819e-02\n",
      "  1.26064401e-02 5.81000671e-02 9.56660658e-02 2.22098947e-01\n",
      "  5.93299448e-01 7.97178805e-01 9.07210350e-01 8.76555443e-01\n",
      "  5.23286760e-01 1.65147439e-01 2.16844697e-02 2.05960590e-03\n",
      "  6.03884633e-04 5.57585852e-04 3.30765790e-04 7.21855395e-05\n",
      "  2.21056936e-04 1.55390182e-04 4.28131694e-04 6.43110718e-04\n",
      "  3.29132541e-03 1.61033217e-02 7.02341422e-02 9.82534587e-02\n",
      "  1.74266502e-01 1.12787820e-01 3.43698896e-02 3.37337591e-02\n",
      "  2.27294013e-01 3.91693860e-01 5.18344820e-01 7.99944878e-01\n",
      "  7.99986720e-01 9.32486475e-01 8.91603947e-01 8.70764494e-01\n",
      "  3.13491285e-01 2.44217720e-02 4.17803973e-03 1.34947395e-03\n",
      "  4.44065314e-04 4.12125752e-04 1.49350992e-04 1.12540823e-04\n",
      "  9.23197440e-05 1.20260607e-04 4.34556772e-04 5.83451707e-04\n",
      "  2.28456967e-03 2.23976728e-02 6.13962598e-02 1.27546504e-01\n",
      "  4.54455435e-01 1.76529229e-01 5.19506484e-02 1.40333787e-01\n",
      "  3.84410441e-01 5.21731555e-01 6.91287994e-01 7.80056775e-01\n",
      "  9.33785856e-01 9.54613984e-01 8.48875523e-01 5.95098794e-01\n",
      "  6.63055629e-02 1.96231753e-02 3.60066607e-03 1.24294870e-03\n",
      "  1.92910724e-04 1.53754489e-04 1.80774005e-04 8.16149986e-05\n",
      "  1.19517863e-04 9.39336387e-05 1.89140890e-04 6.45432330e-04\n",
      "  1.83711445e-03 1.01722404e-02 3.52518000e-02 1.29408136e-01\n",
      "  1.55521780e-01 8.70696381e-02 1.11740284e-01 3.40767682e-01\n",
      "  4.61926013e-01 4.24680620e-01 6.94110274e-01 7.80905962e-01\n",
      "  8.87645662e-01 9.36675549e-01 7.47968316e-01 1.98892474e-01\n",
      "  4.07771356e-02 9.56850033e-03 7.72329420e-03 1.90371857e-03\n",
      "  3.39055725e-04 9.87923922e-05 1.38802920e-04 7.41012482e-05\n",
      "  1.06141444e-04 1.08031018e-04 8.34565581e-05 6.78740966e-04\n",
      "  3.30551388e-03 9.53653269e-03 1.21139819e-02 2.10367087e-02\n",
      "  4.27537598e-02 4.41698730e-02 1.99109931e-02 2.96534356e-02\n",
      "  1.03639096e-01 9.02514830e-02 9.63987857e-02 2.01717138e-01\n",
      "  7.15090573e-01 8.51564705e-01 5.92949629e-01 5.53346612e-02\n",
      "  8.75192601e-03 7.44965253e-03 8.35916959e-03 1.45386346e-03\n",
      "  1.75359077e-04 6.81450765e-05 1.48475025e-04 1.01968049e-04\n",
      "  1.30147688e-04 8.14903324e-05 3.45815672e-04 1.10653334e-03\n",
      "  7.13572139e-03 1.42624322e-02 2.24546567e-02 1.66915134e-02\n",
      "  7.88152311e-03 1.85014238e-03 4.57341038e-03 2.74527003e-03\n",
      "  4.78805276e-03 2.45005218e-03 9.07339808e-03 5.68206944e-02\n",
      "  5.52187085e-01 7.73061633e-01 3.37690204e-01 3.55984122e-02\n",
      "  4.97613195e-03 8.80553108e-03 5.16125653e-03 2.52918713e-03\n",
      "  1.69817824e-04 4.46581980e-05 1.16880881e-04 1.25398714e-04\n",
      "  9.01481690e-05 1.35410737e-04 3.67911940e-04 3.02951387e-03\n",
      "  1.06138447e-02 2.63723917e-02 3.39533836e-02 1.09608388e-02\n",
      "  7.61102140e-03 9.13459284e-04 7.19246746e-04 3.08903283e-04\n",
      "  1.53434623e-04 7.87916710e-04 3.78996804e-02 1.90311819e-01\n",
      "  8.71577442e-01 7.25983858e-01 2.17427671e-01 2.44997256e-02\n",
      "  1.21140275e-02 1.62864495e-02 6.60615182e-03 1.41706376e-03\n",
      "  2.24457472e-04 7.03004407e-05 9.84865183e-05 9.69992543e-05\n",
      "  1.31785753e-04 1.18505137e-04 7.46289967e-04 8.47765990e-03\n",
      "  3.59653831e-02 5.51225916e-02 1.72364101e-01 4.80712466e-02\n",
      "  4.22379887e-03 2.23934301e-03 3.53107724e-04 6.38469995e-04\n",
      "  2.61322828e-04 3.74785694e-03 6.43352196e-02 5.15218079e-01\n",
      "  8.95926833e-01 8.44855130e-01 1.95286617e-01 1.53429443e-02\n",
      "  6.94440352e-03 1.22117568e-02 4.07216232e-03 1.23106688e-03\n",
      "  4.36352682e-04 1.50893378e-04 2.10889702e-04 1.49104977e-04\n",
      "  1.35272639e-04 1.10598412e-04 1.65528979e-03 3.19989771e-02\n",
      "  1.29299983e-01 3.19452703e-01 3.89021784e-01 2.91613787e-01\n",
      "  5.64121343e-02 1.09867044e-02 2.32863752e-03 8.73357640e-04\n",
      "  2.66328128e-03 4.97826524e-02 1.16742328e-01 7.59614944e-01\n",
      "  8.29702795e-01 7.68720269e-01 2.89255977e-01 1.53775383e-02\n",
      "  3.84521345e-03 5.64895663e-03 2.87455413e-03 7.70375133e-04\n",
      "  1.92269494e-04 1.33137000e-04 1.36546296e-04 1.14836541e-04\n",
      "  8.32179066e-05 1.44523379e-04 2.76040519e-03 4.23486605e-02\n",
      "  2.29037106e-01 4.22174573e-01 4.53676283e-01 5.03503978e-01\n",
      "  4.12897408e-01 3.95703539e-02 2.13553011e-02 1.37971360e-02\n",
      "  2.20357981e-02 7.69817904e-02 2.89533347e-01 7.11917639e-01\n",
      "  8.77580345e-01 5.28815985e-01 7.47162849e-02 1.18590640e-02\n",
      "  5.50163025e-03 3.65656172e-03 1.81588938e-03 9.19501181e-04\n",
      "  3.68262146e-04 2.63617345e-04 1.17944277e-04 1.30168293e-04\n",
      "  1.26972183e-04 1.49187021e-04 2.31269794e-03 8.78448710e-02\n",
      "  2.83874959e-01 4.83486652e-01 7.57149041e-01 7.03555703e-01\n",
      "  5.48381746e-01 1.52416885e-01 9.84036252e-02 1.17707349e-01\n",
      "  2.62566358e-01 2.16074854e-01 5.78208983e-01 6.44695640e-01\n",
      "  6.75948501e-01 4.10781384e-01 3.71454470e-02 5.76269953e-03\n",
      "  5.73422760e-03 1.85700413e-03 8.60582863e-04 6.91886642e-04\n",
      "  6.91739551e-04 4.37291863e-04 1.33005786e-04 8.54800819e-05\n",
      "  9.78664757e-05 8.66715563e-05 1.08655950e-03 2.90697683e-02\n",
      "  2.40210131e-01 4.81837094e-01 7.89819181e-01 9.53852892e-01\n",
      "  9.18395281e-01 5.87440073e-01 5.53625941e-01 8.14783454e-01\n",
      "  6.04561508e-01 6.07052863e-01 6.10527694e-01 5.77529609e-01\n",
      "  5.50920725e-01 1.44984052e-01 1.52323693e-02 8.36922228e-03\n",
      "  5.20444056e-03 4.25508618e-03 2.34573311e-03 9.03907057e-04\n",
      "  4.41027747e-04 2.78076332e-04 1.04334147e-04 8.24772578e-05\n",
      "  9.47697481e-05 7.45501238e-05 2.49802280e-04 4.26356029e-03\n",
      "  4.70039770e-02 4.80025709e-01 6.23498857e-01 9.12960649e-01\n",
      "  9.31318164e-01 8.94681215e-01 9.19429481e-01 9.45784211e-01\n",
      "  8.93428981e-01 6.89263880e-01 3.54403824e-01 3.28046590e-01\n",
      "  1.24849878e-01 5.73325790e-02 1.26871625e-02 6.61268318e-03\n",
      "  3.16582853e-03 1.71662518e-03 8.82701017e-04 5.34141727e-04\n",
      "  4.26808983e-04 1.97314410e-04 1.24810133e-04 7.09143715e-05\n",
      "  1.83343509e-04 7.45501238e-05 1.08604370e-04 5.67839888e-04\n",
      "  4.53556795e-03 8.73368531e-02 2.18039423e-01 4.51833636e-01\n",
      "  8.18348587e-01 6.51021898e-01 8.01604271e-01 7.23181605e-01\n",
      "  7.15179920e-01 2.95901805e-01 8.32686946e-02 8.35788921e-02\n",
      "  4.90281731e-02 2.30252352e-02 9.80049372e-03 1.13414519e-03\n",
      "  1.10528606e-03 2.66705116e-04 2.95776583e-04 3.29421135e-04\n",
      "  2.31524769e-04 1.16104311e-04 1.88666818e-04 7.99550762e-05\n",
      "  1.11211477e-04 1.00629331e-04 1.18273150e-04 1.51426269e-04\n",
      "  3.80795886e-04 1.64289866e-03 3.10130324e-03 9.48984548e-03\n",
      "  6.97063189e-03 1.18012484e-02 2.15299539e-02 4.16105911e-02\n",
      "  5.62155172e-02 5.94864087e-03 2.39427644e-03 2.18610372e-03\n",
      "  4.43751598e-03 9.70152393e-03 1.87459937e-03 5.56846266e-04\n",
      "  4.11046552e-04 1.79919021e-04 2.60034663e-04 1.62169148e-04\n",
      "  1.31997935e-04 1.40985765e-04 1.16313742e-04 9.57220400e-05\n",
      "  7.23469420e-05 1.14597962e-04 7.83719515e-05 1.62512646e-04\n",
      "  1.07853157e-04 3.78785771e-04 1.37295306e-03 4.25088190e-04\n",
      "  4.64064593e-04 7.46206089e-04 4.14294703e-03 3.47941951e-03\n",
      "  2.00115307e-03 5.40230947e-04 5.13296050e-04 4.01637604e-04\n",
      "  8.84048874e-04 1.81090378e-03 7.13324116e-04 2.75353959e-04\n",
      "  1.69509003e-04 2.29959929e-04 8.05278833e-05 1.19307093e-04\n",
      "  7.99426489e-05 1.45016893e-04 1.09009532e-04 1.14598071e-04\n",
      "  1.10105102e-04 1.03693710e-04 9.76556112e-05 1.24141399e-04\n",
      "  1.30162953e-04 1.19541233e-04 2.04353506e-04 3.34363693e-04\n",
      "  4.08539228e-04 8.18755128e-04 1.43249158e-03 1.64038769e-03\n",
      "  9.84687475e-04 5.52668236e-04 2.89603689e-04 2.48171680e-04\n",
      "  3.54546384e-04 4.73805820e-04 3.18236736e-04 1.42962119e-04\n",
      "  9.61510013e-05 1.06141444e-04 1.22507059e-04 1.20279423e-04\n",
      "  1.69249615e-04 1.05788182e-04 8.83633184e-05 1.05788182e-04]], shape=(1, 784), dtype=float32)\n"
     ]
    }
   ],
   "source": [
    "hh0_p = tf.nn.sigmoid(tf.matmul(sample_case, W) + hb)\n",
    "hh0_s = tf.round(hh0_p)\n",
    "\n",
    "print(\"Probability nodes in hidden layer:\" ,hh0_p)\n",
    "print(\"activated nodes in hidden layer:\" ,hh0_s)\n",
    "\n",
    "# reconstruct\n",
    "vv1_p = tf.nn.sigmoid(tf.matmul(hh0_s, tf.transpose(W)) + vb)\n",
    "\n",
    "print(vv1_p)\n",
    "#rec_prob = sess.run(vv1_p, feed_dict={ hh0_s: hh0_s_val, W: prv_w, vb: prv_vb})"
   ]
  },
  {
   "cell_type": "markdown",
   "metadata": {},
   "source": [
    "Here we plot the reconstructed image:\n"
   ]
  },
  {
   "cell_type": "code",
   "execution_count": 27,
   "metadata": {},
   "outputs": [
    {
     "data": {
      "image/png": "[encoded data removed]",
      "text/plain": [
       "<Figure size 400x400 with 1 Axes>"
      ]
     },
     "metadata": {},
     "output_type": "display_data"
    }
   ],
   "source": [
    "img = Image.fromarray(tile_raster_images(X=vv1_p.numpy(), img_shape=(28, 28),tile_shape=(1, 1), tile_spacing=(1, 1)))\n",
    "plt.rcParams['figure.figsize'] = (4.0, 4.0)\n",
    "imgplot = plt.imshow(img)\n",
    "imgplot.set_cmap('gray') "
   ]
  },
  {
   "cell_type": "markdown",
   "metadata": {},
   "source": [
    "<hr>\n",
    "\n",
    "## Want to learn more?\n",
    "\n",
    "Also, you can use __Watson Studio__ to run these notebooks faster with bigger datasets.__Watson Studio__ is IBM’s leading cloud solution for data scientists, built by data scientists. With Jupyter notebooks, RStudio, Apache Spark and popular libraries pre-packaged in the cloud, __Watson Studio__ enables data scientists to collaborate on their projects without having to install anything. Join the fast-growing community of __Watson Studio__ users today with a free account at [Watson Studio](https://cocl.us/ML0120EN_DSX).This is the end of this lesson. Thank you for reading this notebook, and good luck on your studies.\n"
   ]
  },
  {
   "cell_type": "markdown",
   "metadata": {},
   "source": [
    "### Thanks for completing this lesson!\n",
    "\n",
    "Notebook created by: <a href = \"https://ca.linkedin.com/in/saeedaghabozorgi\">Saeed Aghabozorgi</a>\n",
    "\n",
    "Updated to TF 2.X by  <a href=\"https://ca.linkedin.com/in/nilmeier?utm_medium=Exinfluencer&utm_source=Exinfluencer&utm_content=000026UJ&utm_term=10006555&utm_id=NA-SkillsNetwork-Channel-SkillsNetworkCoursesIBMDeveloperSkillsNetworkDL0120ENSkillsNetwork954-2023-01-01\"> Jerome Nilmeier</a><br />\n"
   ]
  },
  {
   "cell_type": "markdown",
   "metadata": {},
   "source": [
    "### References:\n",
    "https://en.wikipedia.org/wiki/Restricted_Boltzmann_machine  \n",
    "http://deeplearning.net/tutorial/rbm.html  \n",
    "http://www.cs.utoronto.ca/~hinton/absps/netflixICML.pdf<br>\n",
    "http://imonad.com/rbm/restricted-boltzmann-machine/  \n"
   ]
  },
  {
   "cell_type": "markdown",
   "metadata": {},
   "source": [
    "<hr>\n",
    "\n",
    "Copyright &copy; 2018 [Cognitive Class](https://cocl.us/DX0108EN_CC). This notebook and its source code are released under the terms of the [MIT License](https://bigdatauniversity.com/mit-license/?utm_medium=Exinfluencer&utm_source=Exinfluencer&utm_content=000026UJ&utm_term=10006555&utm_id=NA-SkillsNetwork-Channel-SkillsNetworkCoursesIBMDeveloperSkillsNetworkDL0120ENSkillsNetwork954-2023-01-01).\n"
   ]
  }
 ],
 "metadata": {
  "kernelspec": {
   "display_name": "Python",
   "language": "python",
   "name": "conda-env-python-py"
  },
  "language_info": {
   "codemirror_mode": {
    "name": "ipython",
    "version": 3
   },
   "file_extension": ".py",
   "mimetype": "text/x-python",
   "name": "python",
   "nbconvert_exporter": "python",
   "pygments_lexer": "ipython3",
   "version": "3.7.12"
  }
 },
 "nbformat": 4,
 "nbformat_minor": 4
}
